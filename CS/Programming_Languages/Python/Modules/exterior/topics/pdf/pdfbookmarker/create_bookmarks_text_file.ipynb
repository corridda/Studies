{
 "cells": [
  {
   "cell_type": "markdown",
   "metadata": {},
   "source": [
    "This script is intended for the generation of the file of demanded format for apropriate usage of the [pdfbookmarker](https://github.com/RussellLuo/pdfbookmarker) framework."
   ]
  },
  {
   "cell_type": "code",
   "execution_count": 1,
   "metadata": {},
   "outputs": [],
   "source": [
    "import re"
   ]
  },
  {
   "cell_type": "code",
   "execution_count": 2,
   "metadata": {},
   "outputs": [],
   "source": [
    "bookmarks_file = 'bookmarks.txt'"
   ]
  },
  {
   "cell_type": "code",
   "execution_count": 14,
   "metadata": {},
   "outputs": [],
   "source": [
    "with open(bookmarks_file, 'r') as f:\n",
    "    out = []\n",
    "    lines = f.readlines()\n",
    "    for line in lines:\n",
    "        temp_line = re.split(r'\\.\\.+', line)\n",
    "        line = ''.join(temp_line[:-1]).strip() + ' ' + temp_line[-1].strip()\n",
    "        splitted_line = re.split(' ', line)\n",
    "        if re.match('\\d*\\.\\s.*', line):\n",
    "            temp_line = f'+\"{\" \".join(splitted_line[:-1]).strip()}\"|{splitted_line[-1].strip()}\\n'\n",
    "        elif re.match('\\d*\\.\\d*\\s.*', line):\n",
    "            temp_line = f'++\"{\" \".join(splitted_line[:-1]).strip()}\"|{splitted_line[-1].strip()}\\n'\n",
    "        elif re.match('\\d*\\.\\d*\\.\\d*\\s.*', line):\n",
    "            temp_line = f'+++\"{\" \".join(splitted_line[:-1]).strip()}\"|{splitted_line[-1].strip()}\\n'\n",
    "        elif re.match('\\d*\\.\\d*\\.\\d*\\.\\d*\\s.*', line):\n",
    "            temp_line = f'++++\"{\" \".join(splitted_line[:-1]).strip()}\"|{splitted_line[-1].strip()}\\n'\n",
    "        elif re.match('\\d*\\.\\d*\\.\\d*\\.\\d*\\.\\d*\\s.*', line):\n",
    "            temp_line = f'+++++\"{\" \".join(splitted_line[:-1]).strip()}\"|{splitted_line[-1].strip()}\\n'\n",
    "        else:\n",
    "            temp_line = f'+\"{\" \".join(splitted_line[:-1]).strip()}\"|{splitted_line[-1].strip()}\\n'\n",
    "        out.append(temp_line)\n",
    "    with open(bookmarks_file[:-4] + '_' + bookmarks_file[-4:], 'w', encoding='utf-8') as fw:\n",
    "        fw.writelines(out)"
   ]
  },
  {
   "cell_type": "code",
   "execution_count": 18,
   "metadata": {},
   "outputs": [],
   "source": [
    "# # Шаматы с Енотом\n",
    "# with open(bookmarks_file, 'r') as f:\n",
    "#     out = []\n",
    "#     lines = f.readlines()\n",
    "#     for line in lines:\n",
    "#         line =  re.split(r'\\.\\.+', line)\n",
    "#         line[0] = '+\"' + line[0].strip() + '\"'\n",
    "#         out.append('|'.join(line))\n",
    "#     with open(bookmarks_file[:-4] + '_' + bookmarks_file[-4:], 'w', encoding='utf-8') as fw:\n",
    "#         fw.writelines(out)"
   ]
  },
  {
   "cell_type": "code",
   "execution_count": null,
   "metadata": {},
   "outputs": [],
   "source": []
  }
 ],
 "metadata": {
  "kernelspec": {
   "display_name": "Python 3",
   "language": "python",
   "name": "python3"
  },
  "language_info": {
   "codemirror_mode": {
    "name": "ipython",
    "version": 3
   },
   "file_extension": ".py",
   "mimetype": "text/x-python",
   "name": "python",
   "nbconvert_exporter": "python",
   "pygments_lexer": "ipython3",
   "version": "3.8.5"
  }
 },
 "nbformat": 4,
 "nbformat_minor": 4
}
