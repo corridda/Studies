{
 "cells": [
  {
   "cell_type": "markdown",
   "metadata": {},
   "source": [
    "This script is intended for the generation of the file of demanded format for apropriate usage of the [pdfbookmarker](https://github.com/RussellLuo/pdfbookmarker) framework."
   ]
  },
  {
   "cell_type": "code",
   "execution_count": 7,
   "metadata": {},
   "outputs": [],
   "source": [
    "import re"
   ]
  },
  {
   "cell_type": "code",
   "execution_count": 8,
   "metadata": {},
   "outputs": [],
   "source": [
    "bookmarks_file = 'bookmarks.txt'"
   ]
  },
  {
   "cell_type": "code",
   "execution_count": 23,
   "metadata": {},
   "outputs": [],
   "source": [
    "with open(bookmarks_file, 'r') as f:\n",
    "    out = []\n",
    "    lines = f.readlines()\n",
    "    remove_dots = lambda listStrings: [s for s in listStrings if not re.match(r\"\\.+\", s)]\n",
    "    for line in lines:\n",
    "        splitted_line = remove_dots(re.split(r'\\s+', line.strip()))\n",
    "        if re.fullmatch('\\d+[a-z]*', splitted_line[0]):\n",
    "            temp_line = f'+\"{\" \".join(splitted_line[:-1]).strip()}\"|{int(splitted_line[-1].strip()) + 1}\\n'\n",
    "        elif re.fullmatch('\\d+[a-z]*\\.\\d+[a-z]*', splitted_line[0]):\n",
    "            temp_line = f'++\"{\" \".join(splitted_line[:-1]).strip()}\"|{int(splitted_line[-1].strip()) + 1}\\n'\n",
    "        elif re.fullmatch('\\d+[a-z]*\\.\\d+[a-z]*\\.\\d+[a-z]*', splitted_line[0]):\n",
    "            temp_line = f'+++\"{\" \".join(splitted_line[:-1]).strip()}\"|{int(splitted_line[-1].strip()) + 1}\\n'\n",
    "        elif re.fullmatch('\\d+[a-z]*\\.\\d+[a-z]*\\.\\d+[a-z]*\\.\\d+[a-z]*', splitted_line[0]):\n",
    "            temp_line = f'++++\"{\" \".join(splitted_line[:-1]).strip()}\"|{int(splitted_line[-1].strip()) + 1}\\n'\n",
    "        elif re.fullmatch('\\d+[a-z]*\\.\\d+[a-z]*\\.\\d+[a-z]*\\.\\d+[a-z]*\\.\\d+[a-z]*', splitted_line[0]):\n",
    "            temp_line = f'+++++\"{\" \".join(splitted_line[:-1]).strip()}\"|{int(splitted_line[-1].strip()) + 1}\\n'\n",
    "        else:\n",
    "            temp_line = f'+\"{\" \".join(splitted_line[:-1]).strip()}\"|{int(splitted_line[-1].strip()) + 1}\\n'\n",
    "        out.append(temp_line)\n",
    "    with open(bookmarks_file[:-4] + '_' + bookmarks_file[-4:], 'w') as fw:\n",
    "        fw.writelines(out)"
   ]
  },
  {
   "cell_type": "code",
   "execution_count": null,
   "metadata": {},
   "outputs": [],
   "source": []
  }
 ],
 "metadata": {
  "kernelspec": {
   "display_name": "Python 3",
   "language": "python",
   "name": "python3"
  },
  "language_info": {
   "codemirror_mode": {
    "name": "ipython",
    "version": 3
   },
   "file_extension": ".py",
   "mimetype": "text/x-python",
   "name": "python",
   "nbconvert_exporter": "python",
   "pygments_lexer": "ipython3",
   "version": "3.9.4"
  }
 },
 "nbformat": 4,
 "nbformat_minor": 4
}
