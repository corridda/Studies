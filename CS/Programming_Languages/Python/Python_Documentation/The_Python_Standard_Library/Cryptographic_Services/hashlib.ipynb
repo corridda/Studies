{
 "cells": [
  {
   "cell_type": "markdown",
   "metadata": {},
   "source": [
    "# Cryptographic Services\n",
    "## hashlib — Secure hashes and message digests\n",
    "### Hash algorithms"
   ]
  },
  {
   "cell_type": "code",
   "execution_count": 1,
   "metadata": {},
   "outputs": [],
   "source": [
    "import hashlib\n",
    "from hashlib import blake2b, blake2s\n",
    "import hmac\n",
    "import os\n",
    "import string\n",
    "import random"
   ]
  },
  {
   "cell_type": "code",
   "execution_count": 18,
   "metadata": {},
   "outputs": [],
   "source": [
    "m = hashlib.sha256()"
   ]
  },
  {
   "cell_type": "code",
   "execution_count": 19,
   "metadata": {},
   "outputs": [],
   "source": [
    "m.update(b\"Nobody inspects\")\n",
    "m.update(b\" the spammish repetition\")"
   ]
  },
  {
   "cell_type": "code",
   "execution_count": 20,
   "metadata": {},
   "outputs": [
    {
     "data": {
      "text/plain": [
       "b'\\x03\\x1e\\xdd}Ae\\x15\\x93\\xc5\\xfe\\\\\\x00o\\xa5u+7\\xfd\\xdf\\xf7\\xbcN\\x84:\\xa6\\xaf\\x0c\\x95\\x0fK\\x94\\x06'"
      ]
     },
     "execution_count": 20,
     "metadata": {},
     "output_type": "execute_result"
    }
   ],
   "source": [
    "m.digest()"
   ]
  },
  {
   "cell_type": "code",
   "execution_count": 21,
   "metadata": {},
   "outputs": [
    {
     "data": {
      "text/plain": [
       "32"
      ]
     },
     "execution_count": 21,
     "metadata": {},
     "output_type": "execute_result"
    }
   ],
   "source": [
    "m.digest_size"
   ]
  },
  {
   "cell_type": "code",
   "execution_count": 22,
   "metadata": {},
   "outputs": [
    {
     "data": {
      "text/plain": [
       "64"
      ]
     },
     "execution_count": 22,
     "metadata": {},
     "output_type": "execute_result"
    }
   ],
   "source": [
    "m.block_size"
   ]
  },
  {
   "cell_type": "code",
   "execution_count": 23,
   "metadata": {},
   "outputs": [
    {
     "data": {
      "text/plain": [
       "'a4337bc45a8fc544c03f52dc550cd6e1e87021bc896588bd79e901e2'"
      ]
     },
     "execution_count": 23,
     "metadata": {},
     "output_type": "execute_result"
    }
   ],
   "source": [
    "hashlib.sha224(b\"Nobody inspects the spammish repetition\").hexdigest()"
   ]
  },
  {
   "cell_type": "markdown",
   "metadata": {},
   "source": [
    "hashlib.**new**(name[, data])"
   ]
  },
  {
   "cell_type": "code",
   "execution_count": 26,
   "metadata": {},
   "outputs": [
    {
     "data": {
      "text/plain": [
       "'cc4a5ce1b3df48aec5d22d1f16b894a0b894eccc'"
      ]
     },
     "execution_count": 26,
     "metadata": {},
     "output_type": "execute_result"
    }
   ],
   "source": [
    "h = hashlib.new('ripemd160')\n",
    "h.update(b\"Nobody inspects the spammish repetition\")\n",
    "h.hexdigest()"
   ]
  },
  {
   "cell_type": "markdown",
   "metadata": {},
   "source": [
    "hashlib.**algorithms_guaranteed**"
   ]
  },
  {
   "cell_type": "code",
   "execution_count": 27,
   "metadata": {},
   "outputs": [
    {
     "data": {
      "text/plain": [
       "{'blake2b',\n",
       " 'blake2s',\n",
       " 'md5',\n",
       " 'sha1',\n",
       " 'sha224',\n",
       " 'sha256',\n",
       " 'sha384',\n",
       " 'sha3_224',\n",
       " 'sha3_256',\n",
       " 'sha3_384',\n",
       " 'sha3_512',\n",
       " 'sha512',\n",
       " 'shake_128',\n",
       " 'shake_256'}"
      ]
     },
     "execution_count": 27,
     "metadata": {},
     "output_type": "execute_result"
    }
   ],
   "source": [
    "hashlib.algorithms_guaranteed"
   ]
  },
  {
   "cell_type": "markdown",
   "metadata": {},
   "source": [
    "hashlib.**algorithms_available**"
   ]
  },
  {
   "cell_type": "code",
   "execution_count": 29,
   "metadata": {},
   "outputs": [
    {
     "data": {
      "text/plain": [
       "{'blake2b',\n",
       " 'blake2s',\n",
       " 'md4',\n",
       " 'md5',\n",
       " 'md5-sha1',\n",
       " 'mdc2',\n",
       " 'ripemd160',\n",
       " 'sha1',\n",
       " 'sha224',\n",
       " 'sha256',\n",
       " 'sha384',\n",
       " 'sha3_224',\n",
       " 'sha3_256',\n",
       " 'sha3_384',\n",
       " 'sha3_512',\n",
       " 'sha512',\n",
       " 'sha512_224',\n",
       " 'sha512_256',\n",
       " 'shake_128',\n",
       " 'shake_256',\n",
       " 'sm3',\n",
       " 'whirlpool'}"
      ]
     },
     "execution_count": 29,
     "metadata": {},
     "output_type": "execute_result"
    }
   ],
   "source": [
    "hashlib.algorithms_available"
   ]
  },
  {
   "cell_type": "markdown",
   "metadata": {},
   "source": [
    "hash.**digest_size**"
   ]
  },
  {
   "cell_type": "code",
   "execution_count": 30,
   "metadata": {},
   "outputs": [
    {
     "data": {
      "text/plain": [
       "32"
      ]
     },
     "execution_count": 30,
     "metadata": {},
     "output_type": "execute_result"
    }
   ],
   "source": [
    "hashlib.sha256().digest_size"
   ]
  },
  {
   "cell_type": "markdown",
   "metadata": {},
   "source": [
    "hash.**block_size**"
   ]
  },
  {
   "cell_type": "code",
   "execution_count": 31,
   "metadata": {},
   "outputs": [
    {
     "data": {
      "text/plain": [
       "64"
      ]
     },
     "execution_count": 31,
     "metadata": {},
     "output_type": "execute_result"
    }
   ],
   "source": [
    "hashlib.sha256().block_size"
   ]
  },
  {
   "cell_type": "markdown",
   "metadata": {},
   "source": [
    "hash.**name**"
   ]
  },
  {
   "cell_type": "code",
   "execution_count": 33,
   "metadata": {},
   "outputs": [
    {
     "data": {
      "text/plain": [
       "'sha256'"
      ]
     },
     "execution_count": 33,
     "metadata": {},
     "output_type": "execute_result"
    }
   ],
   "source": [
    "hashlib.new('sha256').name"
   ]
  },
  {
   "cell_type": "markdown",
   "metadata": {},
   "source": [
    "hash.**update**(data)"
   ]
  },
  {
   "cell_type": "code",
   "execution_count": 37,
   "metadata": {},
   "outputs": [],
   "source": [
    "m = hashlib.sha256()\n",
    "m.update(b'a')\n",
    "m.update(b'b')"
   ]
  },
  {
   "cell_type": "markdown",
   "metadata": {},
   "source": [
    "hash.**digest**()"
   ]
  },
  {
   "cell_type": "code",
   "execution_count": 38,
   "metadata": {},
   "outputs": [
    {
     "data": {
      "text/plain": [
       "b'\\xfb\\x8e \\xfc.L?$\\x8c`\\xc3\\x9b\\xd6R\\xf3\\xc14r\\x98\\xbb\\x97{\\x8bMY\\x03\\xb8PUb\\x06\\x03'"
      ]
     },
     "execution_count": 38,
     "metadata": {},
     "output_type": "execute_result"
    }
   ],
   "source": [
    "m.digest()"
   ]
  },
  {
   "cell_type": "markdown",
   "metadata": {},
   "source": [
    "hash.**hexdigest**()"
   ]
  },
  {
   "cell_type": "code",
   "execution_count": 40,
   "metadata": {},
   "outputs": [
    {
     "data": {
      "text/plain": [
       "'fb8e20fc2e4c3f248c60c39bd652f3c1347298bb977b8b4d5903b85055620603'"
      ]
     },
     "execution_count": 40,
     "metadata": {},
     "output_type": "execute_result"
    }
   ],
   "source": [
    "m.hexdigest()"
   ]
  },
  {
   "cell_type": "markdown",
   "metadata": {},
   "source": [
    "hash.**copy**()"
   ]
  },
  {
   "cell_type": "code",
   "execution_count": 41,
   "metadata": {},
   "outputs": [
    {
     "data": {
      "text/plain": [
       "'fb8e20fc2e4c3f248c60c39bd652f3c1347298bb977b8b4d5903b85055620603'"
      ]
     },
     "execution_count": 41,
     "metadata": {},
     "output_type": "execute_result"
    }
   ],
   "source": [
    "m2 = m.copy()\n",
    "m2.hexdigest()"
   ]
  },
  {
   "cell_type": "markdown",
   "metadata": {},
   "source": [
    "### SHAKE variable length digests\n",
    "shake.**digest**(*length*)"
   ]
  },
  {
   "cell_type": "code",
   "execution_count": 52,
   "metadata": {},
   "outputs": [
    {
     "data": {
      "text/plain": [
       "b'b\\xd4\\xef\\xf4x\\xeb4qA\\xc9\\xccM\\x91kGu'"
      ]
     },
     "execution_count": 52,
     "metadata": {},
     "output_type": "execute_result"
    }
   ],
   "source": [
    "hash = hashlib.shake_256()\n",
    "hash.update(b'some message')\n",
    "hash.digest(16)"
   ]
  },
  {
   "cell_type": "code",
   "execution_count": 53,
   "metadata": {},
   "outputs": [
    {
     "data": {
      "text/plain": [
       "b'b\\xd4\\xef\\xf4x\\xeb4qA\\xc9\\xccM\\x91kGu\\x9e\\x0b\\xc7\\xb8\\x96\\xae\\xbc\\xf9\\x17\\xff\\x02IF{\\x0e\\xd1'"
      ]
     },
     "execution_count": 53,
     "metadata": {},
     "output_type": "execute_result"
    }
   ],
   "source": [
    "hash.digest(32)"
   ]
  },
  {
   "cell_type": "code",
   "execution_count": 54,
   "metadata": {},
   "outputs": [
    {
     "data": {
      "text/plain": [
       "b'b\\xd4\\xef\\xf4x\\xeb4qA\\xc9\\xccM\\x91kGu\\x9e\\x0b\\xc7\\xb8\\x96\\xae\\xbc\\xf9\\x17\\xff\\x02IF{\\x0e\\xd1@\\x90\\t\\x1d~\\x07\\xf2s'"
      ]
     },
     "execution_count": 54,
     "metadata": {},
     "output_type": "execute_result"
    }
   ],
   "source": [
    "hash.digest(40)"
   ]
  },
  {
   "cell_type": "markdown",
   "metadata": {},
   "source": [
    "shake.**hexdigest**(*length*)"
   ]
  },
  {
   "cell_type": "code",
   "execution_count": 55,
   "metadata": {},
   "outputs": [
    {
     "data": {
      "text/plain": [
       "'62d4eff478eb347141c9cc4d916b4775'"
      ]
     },
     "execution_count": 55,
     "metadata": {},
     "output_type": "execute_result"
    }
   ],
   "source": [
    "hash.hexdigest(16)"
   ]
  },
  {
   "cell_type": "code",
   "execution_count": 56,
   "metadata": {},
   "outputs": [
    {
     "data": {
      "text/plain": [
       "'62d4eff478eb347141c9cc4d916b47759e0bc7b896aebcf917ff0249467b0ed1'"
      ]
     },
     "execution_count": 56,
     "metadata": {},
     "output_type": "execute_result"
    }
   ],
   "source": [
    "hash.hexdigest(32)"
   ]
  },
  {
   "cell_type": "code",
   "execution_count": 57,
   "metadata": {},
   "outputs": [
    {
     "data": {
      "text/plain": [
       "'62d4eff478eb347141c9cc4d916b47759e0bc7b896aebcf917ff0249467b0ed14090091d7e07f273'"
      ]
     },
     "execution_count": 57,
     "metadata": {},
     "output_type": "execute_result"
    }
   ],
   "source": [
    "hash.hexdigest(40)"
   ]
  },
  {
   "cell_type": "code",
   "execution_count": 58,
   "metadata": {},
   "outputs": [
    {
     "data": {
      "text/plain": [
       "'62d4eff478eb347141c9cc4d916b47759e0bc7b896aebcf917ff0249467b0ed14090091d7e07f27351e7a0cdfdc595a6bcef8fe1ad0ea21446473f0a023d50c420a779dd238e0f1fb0f590687b4d40bbb8076436b4ee349932fd7bed146cc2db9063ed6d6ec61fb5566a9ecccf3004b430a31753a8f5af76894dc57dfd55fbe19a3c498e1f5b4a4464c99d4397ab57862cc4358c5df329390c7a27998fd69a241902d30e938c1abc3503dffed48322907f9f9097e255b1c4c3b5d581ab652fb9dca181c9eaf3a545af03fa0408663836d9abcb6dddffd7e3169a9b173b76f6d8bf13c401e1e1379bdbfed6f59de76968573fcb5553a8af504855ced00d300210'"
      ]
     },
     "execution_count": 58,
     "metadata": {},
     "output_type": "execute_result"
    }
   ],
   "source": [
    "hash.hexdigest(256)"
   ]
  },
  {
   "cell_type": "markdown",
   "metadata": {},
   "source": [
    "### Key derivation\n",
    "hashlib.**pbkdf2_hmac**(*hash_name, password, salt, iterations, dklen=None*)"
   ]
  },
  {
   "cell_type": "code",
   "execution_count": 8,
   "metadata": {},
   "outputs": [
    {
     "data": {
      "text/plain": [
       "bytes"
      ]
     },
     "execution_count": 8,
     "metadata": {},
     "output_type": "execute_result"
    }
   ],
   "source": [
    "pass_ = bytes(''.join(random.choices(string.printable, k=16)), encoding='utf-8')\n",
    "salt = os.urandom(16)\n",
    "dk = hashlib.pbkdf2_hmac('sha256', pass_, salt, 100000)\n",
    "type(dk)"
   ]
  },
  {
   "cell_type": "code",
   "execution_count": 9,
   "metadata": {},
   "outputs": [
    {
     "data": {
      "text/plain": [
       "b'K1);Yj1VJj>o7/H+'"
      ]
     },
     "execution_count": 9,
     "metadata": {},
     "output_type": "execute_result"
    }
   ],
   "source": [
    "pass_"
   ]
  },
  {
   "cell_type": "code",
   "execution_count": 10,
   "metadata": {},
   "outputs": [
    {
     "data": {
      "text/plain": [
       "b'D%\\xbb\\x8f\\xe9$\\xfbq\\x1b\\xbd\\xd1\\xe8R\\x0cV\\xbb'"
      ]
     },
     "execution_count": 10,
     "metadata": {},
     "output_type": "execute_result"
    }
   ],
   "source": [
    "salt"
   ]
  },
  {
   "cell_type": "code",
   "execution_count": 6,
   "metadata": {},
   "outputs": [
    {
     "data": {
      "text/plain": [
       "'f32ef2085d6f6cbb7432cc57fe2b76eae9746f3c1639a95d90351f4801867314'"
      ]
     },
     "execution_count": 6,
     "metadata": {},
     "output_type": "execute_result"
    }
   ],
   "source": [
    "dk.hex()"
   ]
  },
  {
   "cell_type": "markdown",
   "metadata": {},
   "source": [
    "## BLAKE2\n",
    "    • BLAKE2b, optimized for 64-bit platforms and produces digests of any size between 1 and 64 bytes,\n",
    "    • BLAKE2s, optimized for 8- to 32-bit platforms and produces digests of any size between 1 and 32 bytes.\n",
    "\n",
    "### Creating hash objects\n",
    "hashlib.**blake2b**(*data=b'', *, digest_size=64, key=b'', salt=b'', person=b'', fanout=1, depth=1, leaf_size=0, node_offset=0, node_depth=0, inner_size=0, last_node=False*)\n",
    "\n",
    "hashlib.**blake2s**(*data=b'', *, digest_size=32, key=b'', salt=b'', person=b'', fanout=1, depth=1, leaf_size=0, node_offset=0, node_depth=0, inner_size=0, last_node=False*)"
   ]
  },
  {
   "cell_type": "code",
   "execution_count": 3,
   "metadata": {},
   "outputs": [
    {
     "data": {
      "text/plain": [
       "'363643ee7bc590604843b558e4ec0060b71c819b05becc984237dca0828fd03ee0879ae08be6f0a646ba6b263a054caec5f3f0601993ad176710d21966faccc1'"
      ]
     },
     "execution_count": 3,
     "metadata": {},
     "output_type": "execute_result"
    }
   ],
   "source": [
    "data = bytes(''.join(random.choices(string.printable, k=32)), encoding='utf-8')\n",
    "key = os.urandom(64)\n",
    "salt = os.urandom(16)\n",
    "person = os.urandom(16)\n",
    "blake2b_hash = blake2b(data, key=key, salt=salt, person=person)\n",
    "blake2b_hash.hexdigest()"
   ]
  },
  {
   "cell_type": "markdown",
   "metadata": {},
   "source": [
    "### Constants"
   ]
  },
  {
   "cell_type": "markdown",
   "metadata": {},
   "source": [
    "blake2b.**SALT_SIZE**\n",
    "\n",
    "blake2s.**SALT_SIZE**"
   ]
  },
  {
   "cell_type": "code",
   "execution_count": 4,
   "metadata": {},
   "outputs": [
    {
     "data": {
      "text/plain": [
       "16"
      ]
     },
     "execution_count": 4,
     "metadata": {},
     "output_type": "execute_result"
    }
   ],
   "source": [
    "blake2b_hash.SALT_SIZE"
   ]
  },
  {
   "cell_type": "markdown",
   "metadata": {},
   "source": [
    "blake2b.**PERSON_SIZE**\n",
    "\n",
    "blake2s.**PERSON_SIZE**"
   ]
  },
  {
   "cell_type": "code",
   "execution_count": 5,
   "metadata": {},
   "outputs": [
    {
     "data": {
      "text/plain": [
       "16"
      ]
     },
     "execution_count": 5,
     "metadata": {},
     "output_type": "execute_result"
    }
   ],
   "source": [
    "blake2b_hash.PERSON_SIZE"
   ]
  },
  {
   "cell_type": "markdown",
   "metadata": {},
   "source": [
    "blake2b.**MAX_KEY_SIZE**\n",
    "\n",
    "blake2s.**MAX_KEY_SIZE**"
   ]
  },
  {
   "cell_type": "code",
   "execution_count": 6,
   "metadata": {},
   "outputs": [
    {
     "data": {
      "text/plain": [
       "64"
      ]
     },
     "execution_count": 6,
     "metadata": {},
     "output_type": "execute_result"
    }
   ],
   "source": [
    "blake2b_hash.MAX_KEY_SIZE"
   ]
  },
  {
   "cell_type": "markdown",
   "metadata": {},
   "source": [
    "blake2b.**MAX_DIGEST_SIZE**\n",
    "\n",
    "blake2s.**MAX_DIGEST_SIZE**"
   ]
  },
  {
   "cell_type": "code",
   "execution_count": 7,
   "metadata": {},
   "outputs": [
    {
     "data": {
      "text/plain": [
       "64"
      ]
     },
     "execution_count": 7,
     "metadata": {},
     "output_type": "execute_result"
    }
   ],
   "source": [
    "blake2b_hash.MAX_DIGEST_SIZE"
   ]
  },
  {
   "cell_type": "markdown",
   "metadata": {},
   "source": [
    "### Examples\n",
    "### Simple hashing"
   ]
  },
  {
   "cell_type": "code",
   "execution_count": 12,
   "metadata": {},
   "outputs": [
    {
     "data": {
      "text/plain": [
       "'6ff843ba685842aa82031d3f53c48b66326df7639a63d128974c5c14f31a0f33343a8c65551134ed1ae0f2b0dd2bb495dc81039e3eeb0aa1bb0388bbeac29183'"
      ]
     },
     "execution_count": 12,
     "metadata": {},
     "output_type": "execute_result"
    }
   ],
   "source": [
    "h = blake2b()\n",
    "h.update(b'Hello world')\n",
    "h.hexdigest()"
   ]
  },
  {
   "cell_type": "code",
   "execution_count": 13,
   "metadata": {},
   "outputs": [
    {
     "data": {
      "text/plain": [
       "'6ff843ba685842aa82031d3f53c48b66326df7639a63d128974c5c14f31a0f33343a8c65551134ed1ae0f2b0dd2bb495dc81039e3eeb0aa1bb0388bbeac29183'"
      ]
     },
     "execution_count": 13,
     "metadata": {},
     "output_type": "execute_result"
    }
   ],
   "source": [
    "# shortcut\n",
    "blake2b(b'Hello world').hexdigest()"
   ]
  },
  {
   "cell_type": "code",
   "execution_count": 14,
   "metadata": {},
   "outputs": [
    {
     "data": {
      "text/plain": [
       "'6ff843ba685842aa82031d3f53c48b66326df7639a63d128974c5c14f31a0f33343a8c65551134ed1ae0f2b0dd2bb495dc81039e3eeb0aa1bb0388bbeac29183'"
      ]
     },
     "execution_count": 14,
     "metadata": {},
     "output_type": "execute_result"
    }
   ],
   "source": [
    "# many updates\n",
    "items = [b'Hello', b' ', b'world']\n",
    "h = blake2b()\n",
    "for item in items:\n",
    "    h.update(item)\n",
    "h.hexdigest()"
   ]
  },
  {
   "cell_type": "markdown",
   "metadata": {},
   "source": [
    "### Using different digest sizes"
   ]
  },
  {
   "cell_type": "code",
   "execution_count": 15,
   "metadata": {},
   "outputs": [
    {
     "data": {
      "text/plain": [
       "'d24f26cf8de66472d58d4e1b1774b4c9158b1f4c'"
      ]
     },
     "execution_count": 15,
     "metadata": {},
     "output_type": "execute_result"
    }
   ],
   "source": [
    "h = blake2b(digest_size=20)\n",
    "h.update(b'Replacing SHA1 with the more secure function')\n",
    "h.hexdigest()"
   ]
  },
  {
   "cell_type": "code",
   "execution_count": 16,
   "metadata": {},
   "outputs": [
    {
     "data": {
      "text/plain": [
       "20"
      ]
     },
     "execution_count": 16,
     "metadata": {},
     "output_type": "execute_result"
    }
   ],
   "source": [
    "h.digest_size"
   ]
  },
  {
   "cell_type": "code",
   "execution_count": 17,
   "metadata": {},
   "outputs": [
    {
     "data": {
      "text/plain": [
       "20"
      ]
     },
     "execution_count": 17,
     "metadata": {},
     "output_type": "execute_result"
    }
   ],
   "source": [
    "len(h.digest())"
   ]
  },
  {
   "cell_type": "code",
   "execution_count": 20,
   "metadata": {},
   "outputs": [
    {
     "data": {
      "text/plain": [
       "'6fa1d8fcfd719046d762'"
      ]
     },
     "execution_count": 20,
     "metadata": {},
     "output_type": "execute_result"
    }
   ],
   "source": [
    "# BLAKE2b and BLAKE2s produce different outputs\n",
    "blake2b(digest_size=10).hexdigest()"
   ]
  },
  {
   "cell_type": "code",
   "execution_count": 21,
   "metadata": {},
   "outputs": [
    {
     "data": {
      "text/plain": [
       "'eb6ec15daf9546254f0809'"
      ]
     },
     "execution_count": 21,
     "metadata": {},
     "output_type": "execute_result"
    }
   ],
   "source": [
    "blake2b(digest_size=11).hexdigest()"
   ]
  },
  {
   "cell_type": "code",
   "execution_count": 22,
   "metadata": {},
   "outputs": [
    {
     "data": {
      "text/plain": [
       "'1bf21a98c78a1c376ae9'"
      ]
     },
     "execution_count": 22,
     "metadata": {},
     "output_type": "execute_result"
    }
   ],
   "source": [
    "blake2s(digest_size=10).hexdigest()"
   ]
  },
  {
   "cell_type": "code",
   "execution_count": 23,
   "metadata": {},
   "outputs": [
    {
     "data": {
      "text/plain": [
       "'567004bf96e4a25773ebf4'"
      ]
     },
     "execution_count": 23,
     "metadata": {},
     "output_type": "execute_result"
    }
   ],
   "source": [
    "blake2s(digest_size=11).hexdigest()"
   ]
  },
  {
   "cell_type": "markdown",
   "metadata": {},
   "source": [
    "### Keyed hashing"
   ]
  },
  {
   "cell_type": "code",
   "execution_count": 24,
   "metadata": {},
   "outputs": [
    {
     "data": {
      "text/plain": [
       "'3d363ff7401e02026f4a4687d4863ced'"
      ]
     },
     "execution_count": 24,
     "metadata": {},
     "output_type": "execute_result"
    }
   ],
   "source": [
    "# a (hex-encoded) 128-bit authentication code for message with key b'pseudorandom key':\n",
    "h = blake2b(key=b'pseudorandom key', digest_size=16)\n",
    "h.update(b'message data')\n",
    "h.hexdigest()"
   ]
  },
  {
   "cell_type": "code",
   "execution_count": 26,
   "metadata": {},
   "outputs": [
    {
     "name": "stdout",
     "output_type": "stream",
     "text": [
      "user-alice, b'43b3c982cf697e0c5ab22172d1ca7421'\n"
     ]
    }
   ],
   "source": [
    "# A web application can symmetrically sign cookies sent to users and later verify them to make sure they weren’t tampered with:\n",
    "from hmac import compare_digest\n",
    "\n",
    "SECRET_KEY = b'pseudorandomly generated server secret key'\n",
    "AUTH_SIZE = 16\n",
    "\n",
    "def sign(cookie):\n",
    "    h = blake2b(digest_size=AUTH_SIZE, key=SECRET_KEY)\n",
    "    h.update(cookie)\n",
    "    return h.hexdigest().encode('utf-8')\n",
    "\n",
    "def verify(cookie, sig):\n",
    "    good_sig = sign(cookie)\n",
    "    return compare_digest(good_sig, sig)\n",
    "\n",
    "cookie = b'user-alice'\n",
    "sig = sign(cookie)\n",
    "print(f\"{cookie.decode('utf-8')}, {sig}\")"
   ]
  },
  {
   "cell_type": "code",
   "execution_count": 27,
   "metadata": {},
   "outputs": [
    {
     "data": {
      "text/plain": [
       "True"
      ]
     },
     "execution_count": 27,
     "metadata": {},
     "output_type": "execute_result"
    }
   ],
   "source": [
    "verify(cookie, sig)"
   ]
  },
  {
   "cell_type": "code",
   "execution_count": 28,
   "metadata": {},
   "outputs": [
    {
     "data": {
      "text/plain": [
       "False"
      ]
     },
     "execution_count": 28,
     "metadata": {},
     "output_type": "execute_result"
    }
   ],
   "source": [
    "verify(b'user-bob', sig)"
   ]
  },
  {
   "cell_type": "code",
   "execution_count": 29,
   "metadata": {},
   "outputs": [
    {
     "data": {
      "text/plain": [
       "False"
      ]
     },
     "execution_count": 29,
     "metadata": {},
     "output_type": "execute_result"
    }
   ],
   "source": [
    "verify(cookie, b'0102030405060708090a0b0c0d0e0f00')"
   ]
  },
  {
   "cell_type": "code",
   "execution_count": 31,
   "metadata": {},
   "outputs": [
    {
     "data": {
      "text/plain": [
       "'e3c8102868d28b5ff85fc35dda07329970d1a01e273c37481326fe0c861c8142'"
      ]
     },
     "execution_count": 31,
     "metadata": {},
     "output_type": "execute_result"
    }
   ],
   "source": [
    "# BLAKE2 can, of course, be used in HMAC construction with hmac module:\n",
    "m = hmac.new(b'secret key', digestmod=hashlib.blake2s)\n",
    "m.update(b'message')\n",
    "m.hexdigest()"
   ]
  },
  {
   "cell_type": "code",
   "execution_count": 34,
   "metadata": {},
   "outputs": [
    {
     "data": {
      "text/plain": [
       "'fcd053018c41d70f22fc8eceb8ac39dec4e392448f507dfa4cd9990d7f0a0457'"
      ]
     },
     "execution_count": 34,
     "metadata": {},
     "output_type": "execute_result"
    }
   ],
   "source": [
    "blake2s(b'message', key=b'secret key').hexdigest()"
   ]
  },
  {
   "cell_type": "markdown",
   "metadata": {},
   "source": [
    "### Randomized hashing"
   ]
  },
  {
   "cell_type": "code",
   "execution_count": 3,
   "metadata": {},
   "outputs": [
    {
     "data": {
      "text/plain": [
       "True"
      ]
     },
     "execution_count": 3,
     "metadata": {},
     "output_type": "execute_result"
    }
   ],
   "source": [
    "msg = b'some message'\n",
    "\n",
    "# Calculate the first hash with a random salt.\n",
    "salt1 = os.urandom(blake2b.SALT_SIZE)\n",
    "h1 = blake2b(salt=salt1)\n",
    "h1.update(msg)\n",
    "\n",
    "# Calculate the second hash with a different random salt.\n",
    "salt2 = os.urandom(blake2b.SALT_SIZE)\n",
    "h2 = blake2b(salt=salt2)\n",
    "h2.update(msg)\n",
    "\n",
    "# The digests are different.\n",
    "h1.digest() != h2.digest()"
   ]
  },
  {
   "cell_type": "markdown",
   "metadata": {},
   "source": [
    "### Personalization"
   ]
  },
  {
   "cell_type": "code",
   "execution_count": 4,
   "metadata": {},
   "outputs": [],
   "source": [
    "FILES_HASH_PERSON = b'MyApp Files Hash'\n",
    "BLOCK_HASH_PERSON = b'MyApp Block Hash'"
   ]
  },
  {
   "cell_type": "code",
   "execution_count": 5,
   "metadata": {},
   "outputs": [
    {
     "data": {
      "text/plain": [
       "'20d9cd024d4fb086aae819a1432dd2466de12947831b75c5a30cf2676095d3b4'"
      ]
     },
     "execution_count": 5,
     "metadata": {},
     "output_type": "execute_result"
    }
   ],
   "source": [
    "h = blake2b(digest_size=32, person=FILES_HASH_PERSON)\n",
    "h.update(b'the same content')\n",
    "h.hexdigest()"
   ]
  },
  {
   "cell_type": "code",
   "execution_count": 3,
   "metadata": {},
   "outputs": [
    {
     "data": {
      "text/plain": [
       "'cf68fb5761b9c44e7878bfb2c4c9aea52264a80b75005e65619778de59f383a3'"
      ]
     },
     "execution_count": 3,
     "metadata": {},
     "output_type": "execute_result"
    }
   ],
   "source": [
    "h = blake2b(digest_size=32, person=BLOCK_HASH_PERSON)\n",
    "h.update(b'the same content')\n",
    "h.hexdigest()"
   ]
  },
  {
   "cell_type": "code",
   "execution_count": 6,
   "metadata": {},
   "outputs": [
    {
     "name": "stdout",
     "output_type": "stream",
     "text": [
      "rbPb15S/Z9t+agffno5wuhB77VbRi6F9Iv2qIxU7WHw=\n"
     ]
    }
   ],
   "source": [
    "from base64 import b64decode, b64encode\n",
    "orig_key = b64decode(b'Rm5EPJai72qcK3RGBpW3vPNfZy5OZothY+kHY6h21KM=')\n",
    "enc_key = blake2s(key=orig_key, person=b'kEncrypt').digest()\n",
    "mac_key = blake2s(key=orig_key, person=b'kMAC').digest()\n",
    "print(b64encode(enc_key).decode('utf-8'))"
   ]
  },
  {
   "cell_type": "code",
   "execution_count": 7,
   "metadata": {},
   "outputs": [
    {
     "data": {
      "text/plain": [
       "b'FnD<\\x96\\xa2\\xefj\\x9c+tF\\x06\\x95\\xb7\\xbc\\xf3_g.Nf\\x8bac\\xe9\\x07c\\xa8v\\xd4\\xa3'"
      ]
     },
     "execution_count": 7,
     "metadata": {},
     "output_type": "execute_result"
    }
   ],
   "source": [
    "orig_key"
   ]
  },
  {
   "cell_type": "markdown",
   "metadata": {},
   "source": [
    "### Tree mode"
   ]
  },
  {
   "cell_type": "code",
   "execution_count": 8,
   "metadata": {},
   "outputs": [
    {
     "data": {
      "text/plain": [
       "'3ad2a9b37c6070e374c7a8c508fe20ca86b6ed54e286e93a0318e95e881db5aa'"
      ]
     },
     "execution_count": 8,
     "metadata": {},
     "output_type": "execute_result"
    }
   ],
   "source": [
    "FANOUT = 2\n",
    "DEPTH = 2\n",
    "LEAF_SIZE = 4096\n",
    "INNER_SIZE = 64\n",
    "buf = bytearray(6000)\n",
    "# Left leaf\n",
    "h00 = blake2b(buf[0:LEAF_SIZE], fanout=FANOUT, depth=DEPTH,\n",
    "              leaf_size=LEAF_SIZE, inner_size=INNER_SIZE,\n",
    "              node_offset=0, node_depth=0, last_node=False)\n",
    "# Right leaf\n",
    "h01 = blake2b(buf[LEAF_SIZE:], fanout=FANOUT, depth=DEPTH,\n",
    "              leaf_size=LEAF_SIZE, inner_size=INNER_SIZE,\n",
    "              node_offset=1, node_depth=0, last_node=True)\n",
    "# Root node\n",
    "h10 = blake2b(digest_size=32, fanout=FANOUT, depth=DEPTH,\n",
    "              leaf_size=LEAF_SIZE, inner_size=INNER_SIZE,\n",
    "              node_offset=0, node_depth=1, last_node=True)\n",
    "h10.update(h00.digest())\n",
    "h10.update(h01.digest())\n",
    "h10.hexdigest()"
   ]
  },
  {
   "cell_type": "code",
   "execution_count": null,
   "metadata": {},
   "outputs": [],
   "source": []
  }
 ],
 "metadata": {
  "kernelspec": {
   "display_name": "Python 3",
   "language": "python",
   "name": "python3"
  },
  "language_info": {
   "codemirror_mode": {
    "name": "ipython",
    "version": 3
   },
   "file_extension": ".py",
   "mimetype": "text/x-python",
   "name": "python",
   "nbconvert_exporter": "python",
   "pygments_lexer": "ipython3",
   "version": "3.9.0"
  }
 },
 "nbformat": 4,
 "nbformat_minor": 4
}
