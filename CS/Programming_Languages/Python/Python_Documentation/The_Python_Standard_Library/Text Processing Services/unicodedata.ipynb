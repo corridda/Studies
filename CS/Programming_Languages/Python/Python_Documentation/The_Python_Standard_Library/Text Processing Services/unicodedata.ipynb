{
 "cells": [
  {
   "cell_type": "markdown",
   "metadata": {},
   "source": [
    "# [Text Processing Services](https://docs.python.org/3/library/text.html)\n",
    "## [unicodedata — Unicode Database](https://docs.python.org/3/library/unicodedata.html)"
   ]
  },
  {
   "cell_type": "markdown",
   "metadata": {},
   "source": [
    "This module provides access to the Unicode Character Database (UCD) which defines character properties for all Unicode characters. The data contained in this database is compiled from the UCD version 12.1.0.\n",
    "\n",
    "The module uses the same names and symbols as defined by Unicode Standard Annex #44, [Unicode Character Database](https://www.unicode.org/reports/tr44/). It defines the following functions:"
   ]
  },
  {
   "cell_type": "code",
   "execution_count": 3,
   "metadata": {},
   "outputs": [],
   "source": [
    "import traceback as tb\n",
    "import unicodedata"
   ]
  },
  {
   "cell_type": "markdown",
   "metadata": {},
   "source": [
    "**_unicodedata.lookup(name)_**\n",
    "\n",
    "Look up character by name. If a character with the given name is found, return the corresponding character. If not found, KeyError is raised."
   ]
  },
  {
   "cell_type": "code",
   "execution_count": 8,
   "metadata": {},
   "outputs": [
    {
     "name": "stdout",
     "output_type": "stream",
     "text": [
      "{\n"
     ]
    }
   ],
   "source": [
    "try:\n",
    "    print(unicodedata.lookup('LEFT CURLY BRACKET'))\n",
    "except KeyError as e:\n",
    "    print(repr(e))\n",
    "    tb.print_tb(e.__traceback__)"
   ]
  },
  {
   "cell_type": "markdown",
   "metadata": {},
   "source": [
    "**_unicodedata.name(chr[, default])_**\n",
    "\n",
    "Returns the name assigned to the character *chr* as a string. If no name is defined, default is returned, or, if not given, *ValueError* is raised."
   ]
  },
  {
   "cell_type": "code",
   "execution_count": 14,
   "metadata": {},
   "outputs": [
    {
     "name": "stdout",
     "output_type": "stream",
     "text": [
      "REVERSE SOLIDUS\n"
     ]
    }
   ],
   "source": [
    "try:\n",
    "    print(unicodedata.name('\\\\'))\n",
    "except ValueError as e:\n",
    "    print(repr(e))\n",
    "    tb.print_tb(e.__traceback__)"
   ]
  },
  {
   "cell_type": "markdown",
   "metadata": {},
   "source": [
    "**_unicodedata.decimal(chr[, default])_**\n",
    "\n",
    "Returns the decimal value assigned to the character *chr* as integer. If no such value is defined, default is returned, or, if not given, *ValueError* is raised."
   ]
  },
  {
   "cell_type": "code",
   "execution_count": 24,
   "metadata": {},
   "outputs": [
    {
     "name": "stdout",
     "output_type": "stream",
     "text": [
      "3\n"
     ]
    }
   ],
   "source": [
    "try:\n",
    "    print(unicodedata.decimal('3'))\n",
    "except ValueError as e:\n",
    "    print(repr(e))\n",
    "    tb.print_tb(e.__traceback__)"
   ]
  },
  {
   "cell_type": "code",
   "execution_count": 22,
   "metadata": {},
   "outputs": [
    {
     "name": "stdout",
     "output_type": "stream",
     "text": [
      "ValueError('not a decimal')\n"
     ]
    },
    {
     "name": "stderr",
     "output_type": "stream",
     "text": [
      "  File \"<ipython-input-22-ac850855e1c4>\", line 2, in <module>\n",
      "    print(unicodedata.decimal('a'))\n"
     ]
    }
   ],
   "source": [
    "try:\n",
    "    print(unicodedata.decimal('a'))\n",
    "except ValueError as e:\n",
    "    print(repr(e))\n",
    "    tb.print_tb(e.__traceback__)"
   ]
  },
  {
   "cell_type": "markdown",
   "metadata": {},
   "source": [
    "**_unicodedata.digit(chr[, default])_**\n",
    "\n",
    "Returns the digit value assigned to the character *chr* as integer. If no such value is defined, default is returned, or, if not given, *ValueError* is raised."
   ]
  },
  {
   "cell_type": "code",
   "execution_count": 20,
   "metadata": {},
   "outputs": [
    {
     "name": "stdout",
     "output_type": "stream",
     "text": [
      "9\n"
     ]
    }
   ],
   "source": [
    "try:\n",
    "    print(unicodedata.digit('9'))\n",
    "except ValueError as e:\n",
    "    print(repr(e))\n",
    "    tb.print_tb(e.__traceback__)"
   ]
  },
  {
   "cell_type": "code",
   "execution_count": 18,
   "metadata": {},
   "outputs": [
    {
     "name": "stdout",
     "output_type": "stream",
     "text": [
      "ValueError('not a digit')\n"
     ]
    },
    {
     "name": "stderr",
     "output_type": "stream",
     "text": [
      "  File \"<ipython-input-18-b6768cae64ec>\", line 2, in <module>\n",
      "    print(unicodedata.digit('a'))\n"
     ]
    }
   ],
   "source": [
    "try:\n",
    "    print(unicodedata.digit('a'))\n",
    "except ValueError as e:\n",
    "    print(repr(e))\n",
    "    tb.print_tb(e.__traceback__)"
   ]
  },
  {
   "cell_type": "markdown",
   "metadata": {},
   "source": [
    "**_unicodedata.numeric(chr[, default])_**\n",
    "\n",
    "Returns the numeric value assigned to the character *chr* as float. If no such value is defined, default is returned, or, if not given, *ValueError* is raised."
   ]
  },
  {
   "cell_type": "code",
   "execution_count": 25,
   "metadata": {},
   "outputs": [
    {
     "name": "stdout",
     "output_type": "stream",
     "text": [
      "9.0\n"
     ]
    }
   ],
   "source": [
    "try:\n",
    "    print(unicodedata.numeric('9'))\n",
    "except ValueError as e:\n",
    "    print(repr(e))\n",
    "    tb.print_tb(e.__traceback__)"
   ]
  },
  {
   "cell_type": "code",
   "execution_count": 27,
   "metadata": {},
   "outputs": [
    {
     "name": "stdout",
     "output_type": "stream",
     "text": [
      "ValueError('not a numeric character')\n"
     ]
    },
    {
     "name": "stderr",
     "output_type": "stream",
     "text": [
      "  File \"<ipython-input-27-2be3e71a76d9>\", line 2, in <module>\n",
      "    print(unicodedata.numeric('a'))\n"
     ]
    }
   ],
   "source": [
    "try:\n",
    "    print(unicodedata.numeric('a'))\n",
    "except ValueError as e:\n",
    "    print(repr(e))\n",
    "    tb.print_tb(e.__traceback__)"
   ]
  },
  {
   "cell_type": "markdown",
   "metadata": {},
   "source": [
    "**_unicodedata.category(chr)_**\n",
    "\n",
    "Returns the general category assigned to the character *chr* as string."
   ]
  },
  {
   "cell_type": "code",
   "execution_count": 28,
   "metadata": {},
   "outputs": [
    {
     "data": {
      "text/plain": [
       "'Lu'"
      ]
     },
     "execution_count": 28,
     "metadata": {},
     "output_type": "execute_result"
    }
   ],
   "source": [
    "unicodedata.category('A')  # 'L'etter, 'u'ppercase"
   ]
  },
  {
   "cell_type": "code",
   "execution_count": 30,
   "metadata": {},
   "outputs": [
    {
     "data": {
      "text/plain": [
       "'Ll'"
      ]
     },
     "execution_count": 30,
     "metadata": {},
     "output_type": "execute_result"
    }
   ],
   "source": [
    "unicodedata.category('a')"
   ]
  },
  {
   "cell_type": "code",
   "execution_count": 35,
   "metadata": {},
   "outputs": [
    {
     "data": {
      "text/plain": [
       "'Nd'"
      ]
     },
     "execution_count": 35,
     "metadata": {},
     "output_type": "execute_result"
    }
   ],
   "source": [
    "unicodedata.category('2')"
   ]
  },
  {
   "cell_type": "code",
   "execution_count": 32,
   "metadata": {},
   "outputs": [
    {
     "data": {
      "text/plain": [
       "'Po'"
      ]
     },
     "execution_count": 32,
     "metadata": {},
     "output_type": "execute_result"
    }
   ],
   "source": [
    "unicodedata.category('?')"
   ]
  },
  {
   "cell_type": "markdown",
   "metadata": {},
   "source": [
    "**_unicodedata.bidirectional(chr)_**\n",
    "\n",
    "Returns the bidirectional class assigned to the character *chr* as string. If no such value is defined, an empty string is returned."
   ]
  },
  {
   "cell_type": "code",
   "execution_count": 36,
   "metadata": {},
   "outputs": [
    {
     "data": {
      "text/plain": [
       "'AN'"
      ]
     },
     "execution_count": 36,
     "metadata": {},
     "output_type": "execute_result"
    }
   ],
   "source": [
    "unicodedata.bidirectional('\\u0660') # 'A'rabic, 'N'umber"
   ]
  },
  {
   "cell_type": "code",
   "execution_count": 41,
   "metadata": {},
   "outputs": [
    {
     "data": {
      "text/plain": [
       "'٠'"
      ]
     },
     "execution_count": 41,
     "metadata": {},
     "output_type": "execute_result"
    }
   ],
   "source": [
    "'\\u0660'"
   ]
  },
  {
   "cell_type": "markdown",
   "metadata": {},
   "source": [
    "**_unicodedata.combining(chr)_**\n",
    "\n",
    "Returns the canonical combining class assigned to the character *chr* as integer. Returns 0 if no combining class is defined."
   ]
  },
  {
   "cell_type": "code",
   "execution_count": 43,
   "metadata": {},
   "outputs": [
    {
     "data": {
      "text/plain": [
       "0"
      ]
     },
     "execution_count": 43,
     "metadata": {},
     "output_type": "execute_result"
    }
   ],
   "source": [
    "unicodedata.combining('A')"
   ]
  },
  {
   "cell_type": "markdown",
   "metadata": {},
   "source": [
    "**_unicodedata.east_asian_width(chr)_**\n",
    "\n",
    "Returns the east asian width assigned to the character chr as string."
   ]
  },
  {
   "cell_type": "markdown",
   "metadata": {},
   "source": [
    "**_unicodedata.mirrored(chr)_**\n",
    "\n",
    "Returns the mirrored property assigned to the character *chr* as integer. Returns 1 if the character has been identified as a “mirrored” character in bidirectional text, 0 otherwise."
   ]
  },
  {
   "cell_type": "markdown",
   "metadata": {},
   "source": [
    "**_unicodedata.decomposition(chr)_**\n",
    "\n",
    "Returns the character decomposition mapping assigned to the character *chr* as string. An empty string is returned in case no such mapping is defined."
   ]
  },
  {
   "cell_type": "code",
   "execution_count": 48,
   "metadata": {},
   "outputs": [
    {
     "data": {
      "text/plain": [
       "'ﬁ'"
      ]
     },
     "execution_count": 48,
     "metadata": {},
     "output_type": "execute_result"
    }
   ],
   "source": [
    "'\\ufb01'"
   ]
  },
  {
   "cell_type": "code",
   "execution_count": 47,
   "metadata": {},
   "outputs": [
    {
     "data": {
      "text/plain": [
       "'<compat> 0066 0069'"
      ]
     },
     "execution_count": 47,
     "metadata": {},
     "output_type": "execute_result"
    }
   ],
   "source": [
    "unicodedata.decomposition('\\ufb01')"
   ]
  },
  {
   "cell_type": "code",
   "execution_count": 49,
   "metadata": {},
   "outputs": [
    {
     "data": {
      "text/plain": [
       "'fi'"
      ]
     },
     "execution_count": 49,
     "metadata": {},
     "output_type": "execute_result"
    }
   ],
   "source": [
    "'\\u0066' + '\\u0069'"
   ]
  },
  {
   "cell_type": "markdown",
   "metadata": {},
   "source": [
    "**_unicodedata.normalize(form, unistr)_**\n",
    "\n",
    "Return the normal form form for the Unicode string *unistr*. Valid values for form are ‘NFC’, ‘NFKC’, ‘NFD’, and ‘NFKD’."
   ]
  },
  {
   "cell_type": "code",
   "execution_count": 50,
   "metadata": {},
   "outputs": [
    {
     "data": {
      "text/plain": [
       "'fi'"
      ]
     },
     "execution_count": 50,
     "metadata": {},
     "output_type": "execute_result"
    }
   ],
   "source": [
    "s = '\\ufb01' # A single character\n",
    "unicodedata.normalize('NFKC', s)"
   ]
  },
  {
   "cell_type": "markdown",
   "metadata": {},
   "source": [
    "**_unicodedata.is_normalized(form, unistr)_**\n",
    "\n",
    "Return whether the Unicode string unistr is in the normal form *form*. Valid values for *form* are ‘NFC’, ‘NFKC’, ‘NFD’, and ‘NFKD’."
   ]
  },
  {
   "cell_type": "code",
   "execution_count": 52,
   "metadata": {},
   "outputs": [
    {
     "data": {
      "text/plain": [
       "False"
      ]
     },
     "execution_count": 52,
     "metadata": {},
     "output_type": "execute_result"
    }
   ],
   "source": [
    "unicodedata.is_normalized('NFKD', s)"
   ]
  },
  {
   "cell_type": "code",
   "execution_count": 53,
   "metadata": {},
   "outputs": [
    {
     "data": {
      "text/plain": [
       "True"
      ]
     },
     "execution_count": 53,
     "metadata": {},
     "output_type": "execute_result"
    }
   ],
   "source": [
    "unicodedata.is_normalized('NFKD', unicodedata.normalize('NFKC', s))"
   ]
  },
  {
   "cell_type": "markdown",
   "metadata": {},
   "source": [
    "In addition, the module exposes the following constant:\n",
    "\n",
    "**_unicodedata.unidata_version_**\n",
    "\n",
    "The version of the Unicode database used in this module."
   ]
  },
  {
   "cell_type": "code",
   "execution_count": 54,
   "metadata": {},
   "outputs": [
    {
     "data": {
      "text/plain": [
       "'12.1.0'"
      ]
     },
     "execution_count": 54,
     "metadata": {},
     "output_type": "execute_result"
    }
   ],
   "source": [
    "unicodedata.unidata_version"
   ]
  },
  {
   "cell_type": "markdown",
   "metadata": {},
   "source": [
    "**_unicodedata.ucd_3_2_0_**\n",
    "\n",
    "This is an object that has the same methods as the entire module, but uses the Unicode database version 3.2 instead, for applications that require this specific version of the Unicode database (such as IDNA)."
   ]
  },
  {
   "cell_type": "code",
   "execution_count": null,
   "metadata": {},
   "outputs": [],
   "source": []
  }
 ],
 "metadata": {
  "kernelspec": {
   "display_name": "Python 3",
   "language": "python",
   "name": "python3"
  },
  "language_info": {
   "codemirror_mode": {
    "name": "ipython",
    "version": 3
   },
   "file_extension": ".py",
   "mimetype": "text/x-python",
   "name": "python",
   "nbconvert_exporter": "python",
   "pygments_lexer": "ipython3",
   "version": "3.8.3"
  }
 },
 "nbformat": 4,
 "nbformat_minor": 4
}
