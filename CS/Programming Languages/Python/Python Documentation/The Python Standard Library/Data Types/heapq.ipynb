{
 "cells": [
  {
   "cell_type": "markdown",
   "metadata": {},
   "source": [
    "# heapq — Heap queue algorithm\n",
    "\n",
    "This module provides an implementation of the heap queue algorithm, also known as the priority queue algorithm.\n",
    "\n",
    "Heaps are binary trees for which every parent node has a value less than or equal to any of its children. This implementation uses arrays for which heap[k] <= heap[2*k+1] and heap[k] <= heap[2*k+2] for all k, counting elements from zero. For the sake of comparison, non-existing elements are considered to be infinite. The interesting property of a heap is that its smallest element is always the root, heap[0].\n",
    "\n",
    "The API below differs from textbook heap algorithms in two aspects: (a) We use zero-based indexing. This makes the relationship between the index for a node and the indexes for its children slightly less obvious, but is more suitable since Python uses zero-based indexing. (b) Our pop method returns the smallest item, not the largest (called a “min heap” in textbooks; a “max heap” is more common in texts because of its suitability for in-place sorting).\n",
    "\n",
    "These two make it possible to view the heap as a regular Python list without surprises: heap[0] is the smallest item, and heap.sort() maintains the heap invariant!\n",
    "\n",
    "To create a heap, use a list initialized to [], or you can transform a populated list into a heap via function heapify().\n",
    "The following functions are provided:\n",
    "\n",
    "heapq.**heapify**(*x*)\n",
    "\n",
    "Transform list x into a heap, in-place, in linear time.\n"
   ]
  },
  {
   "cell_type": "code",
   "execution_count": 66,
   "metadata": {},
   "outputs": [],
   "source": [
    "from heapq import *\n",
    "import random\n",
    "from random import randint\n",
    "import itertools"
   ]
  },
  {
   "cell_type": "code",
   "execution_count": 26,
   "metadata": {},
   "outputs": [
    {
     "data": {
      "text/plain": [
       "[82, 15, 4, 95, 36, 32, 29, 18, 95, 14]"
      ]
     },
     "execution_count": 26,
     "metadata": {},
     "output_type": "execute_result"
    }
   ],
   "source": [
    "random.seed(42)\n",
    "h = [randint(1,100) for _ in range(10)]\n",
    "h"
   ]
  },
  {
   "cell_type": "code",
   "execution_count": 27,
   "metadata": {},
   "outputs": [
    {
     "data": {
      "text/plain": [
       "[4, 14, 29, 18, 15, 32, 82, 95, 95, 36]"
      ]
     },
     "execution_count": 27,
     "metadata": {},
     "output_type": "execute_result"
    }
   ],
   "source": [
    "heapify(h)\n",
    "h"
   ]
  },
  {
   "cell_type": "markdown",
   "metadata": {},
   "source": [
    "heapq.**heappush**(*heap, item*)\n",
    "\n",
    "Push the value item onto the heap, maintaining the heap invariant."
   ]
  },
  {
   "cell_type": "code",
   "execution_count": 28,
   "metadata": {},
   "outputs": [
    {
     "data": {
      "text/plain": [
       "[3, 4, 29, 18, 14, 32, 82, 95, 95, 36, 15, 85]"
      ]
     },
     "execution_count": 28,
     "metadata": {},
     "output_type": "execute_result"
    }
   ],
   "source": [
    "heappush(h, 3)\n",
    "heappush(h, 85)\n",
    "h"
   ]
  },
  {
   "cell_type": "markdown",
   "metadata": {},
   "source": [
    "heapq.**heappop**(*heap*)\n",
    "\n",
    "Pop and return the smallest item from the heap, maintaining the heap invariant. If the heap is empty, IndexError is raised. To access the smallest item without popping it, use heap[0].\n"
   ]
  },
  {
   "cell_type": "code",
   "execution_count": 30,
   "metadata": {},
   "outputs": [
    {
     "name": "stdout",
     "output_type": "stream",
     "text": [
      "3 4 14 15 18 29 32 36 82 85 95 95 "
     ]
    }
   ],
   "source": [
    "# print all elements of the heap getting them out of the root of the heap\n",
    "try:\n",
    "    while(e := heappop(h)):\n",
    "        print(e, end=\" \")\n",
    "except IndexError as e:\n",
    "    pass"
   ]
  },
  {
   "cell_type": "markdown",
   "metadata": {},
   "source": [
    "heapq.**heappushpop**(*heap, item*)\n",
    "\n",
    "Push item on the heap, then pop and return the smallest item from the heap. The combined action runs more efficiently than heappush() followed by a separate call to heappop()."
   ]
  },
  {
   "cell_type": "code",
   "execution_count": 37,
   "metadata": {},
   "outputs": [
    {
     "name": "stdout",
     "output_type": "stream",
     "text": [
      "4\n"
     ]
    },
    {
     "data": {
      "text/plain": [
       "[14, 15, 29, 18, 36, 32, 82, 95, 95, 85]"
      ]
     },
     "execution_count": 37,
     "metadata": {},
     "output_type": "execute_result"
    }
   ],
   "source": [
    "random.seed(42)\n",
    "h = [randint(1,100) for _ in range(10)]\n",
    "heapify(h)\n",
    "print(heappushpop(h, 85))\n",
    "h"
   ]
  },
  {
   "cell_type": "code",
   "execution_count": 38,
   "metadata": {},
   "outputs": [
    {
     "name": "stdout",
     "output_type": "stream",
     "text": [
      "10\n"
     ]
    },
    {
     "data": {
      "text/plain": [
       "[14, 15, 29, 18, 36, 32, 82, 95, 95, 85]"
      ]
     },
     "execution_count": 38,
     "metadata": {},
     "output_type": "execute_result"
    }
   ],
   "source": [
    "print(heappushpop(h, 10))\n",
    "h"
   ]
  },
  {
   "cell_type": "markdown",
   "metadata": {},
   "source": [
    "heapq.**heapreplace**(*heap, item*)\n",
    "\n",
    "Pop and return the smallest item from the heap, and also push the new item. The heap size doesn’t change. If the heap is empty, IndexError is raised.\n",
    "\n",
    "This one step operation is more efficient than a heappop() followed by heappush() and can be more appropriate when using a fixed-size heap. The pop/push combination always returns an element from the heap and replaces it with item.\n",
    "\n",
    "The value returned may be larger than the item added. If that isn’t desired, consider using heappushpop() instead. Its push/pop combination returns the smaller of the two values, leaving the larger value on the heap"
   ]
  },
  {
   "cell_type": "code",
   "execution_count": 41,
   "metadata": {},
   "outputs": [
    {
     "data": {
      "text/plain": [
       "[4, 14, 29, 18, 15, 32, 82, 95, 95, 36]"
      ]
     },
     "execution_count": 41,
     "metadata": {},
     "output_type": "execute_result"
    }
   ],
   "source": [
    "random.seed(42)\n",
    "h = [randint(1,100) for _ in range(10)]\n",
    "heapify(h)\n",
    "h"
   ]
  },
  {
   "cell_type": "code",
   "execution_count": 42,
   "metadata": {},
   "outputs": [
    {
     "name": "stdout",
     "output_type": "stream",
     "text": [
      "4\n"
     ]
    },
    {
     "data": {
      "text/plain": [
       "[3, 14, 29, 18, 15, 32, 82, 95, 95, 36]"
      ]
     },
     "execution_count": 42,
     "metadata": {},
     "output_type": "execute_result"
    }
   ],
   "source": [
    "print(heapreplace(h, 3))\n",
    "h"
   ]
  },
  {
   "cell_type": "markdown",
   "metadata": {},
   "source": [
    "heapq.**merge**(\\*iterables, key=None, reverse=False)\n",
    "\n",
    "Merge multiple sorted inputs into a single sorted output (for example, merge timestamped entries from multiple log files). Returns an iterator over the sorted values.\n",
    "\n",
    "Similar to sorted(itertools.chain(*iterables)) but returns an iterable, does not pull the data into memory all at once, and assumes that each of the input streams is already sorted (smallest to largest).\n",
    "\n",
    "Has two optional arguments which must be specified as keyword arguments.\n",
    "\n",
    "key specifies a key function of one argument that is used to extract a comparison key from each input element. The default value is None (compare the elements directly).\n",
    "\n",
    "reverse is a boolean value. If set to True, then the input elements are merged as if each comparison were reversed. To achieve behavior similar to sorted(itertools.chain(*iterables), reverse=True), all iterables must be sorted from largest to smallest."
   ]
  },
  {
   "cell_type": "code",
   "execution_count": 43,
   "metadata": {},
   "outputs": [
    {
     "name": "stdout",
     "output_type": "stream",
     "text": [
      "[4, 14, 15, 18, 29, 32, 36, 82, 95, 95]\n"
     ]
    }
   ],
   "source": [
    "random.seed(42)\n",
    "it = merge(sorted([randint(1,100) for _ in range(5)]),\n",
    "          sorted([randint(1,100) for _ in range(5)]))\n",
    "print(list(it))"
   ]
  },
  {
   "cell_type": "code",
   "execution_count": 47,
   "metadata": {},
   "outputs": [
    {
     "name": "stdout",
     "output_type": "stream",
     "text": [
      "[95, 95, 82, 36, 32, 29, 18, 15, 14, 4]\n"
     ]
    }
   ],
   "source": [
    "random.seed(42)\n",
    "it = merge(sorted([randint(1,100) for _ in range(5)], reverse=True),\n",
    "          sorted([randint(1,100) for _ in range(5)], reverse=True),\n",
    "          reverse=True)\n",
    "print(list(it))"
   ]
  },
  {
   "cell_type": "markdown",
   "metadata": {},
   "source": [
    "heapq.**nlargest**(*n, iterable, key=None*)\n",
    "\n",
    "Return a list with the n largest elements from the dataset defined by iterable. key, if provided, specifies a function of one argument that is used to extract a comparison key from each element in iterable (for example, key=str.lower). Equivalent to: sorted(iterable, key=key, reverse=True)[:n]."
   ]
  },
  {
   "cell_type": "markdown",
   "metadata": {},
   "source": [
    "heapq.**nlargest**(*n, iterable, key=None*)\n",
    "\n",
    "Return a list with the n largest elements from the dataset defined by iterable. key, if provided, specifies a function of one argument that is used to extract a comparison key from each element in iterable (for example, key=str.lower). Equivalent to: sorted(iterable, key=key, reverse=True)[:n]."
   ]
  },
  {
   "cell_type": "code",
   "execution_count": 48,
   "metadata": {},
   "outputs": [
    {
     "name": "stdout",
     "output_type": "stream",
     "text": [
      "[82, 15, 4, 95, 36, 32, 29, 18, 95, 14]\n"
     ]
    },
    {
     "data": {
      "text/plain": [
       "[95, 95, 82, 36, 32]"
      ]
     },
     "execution_count": 48,
     "metadata": {},
     "output_type": "execute_result"
    }
   ],
   "source": [
    "random.seed(42)\n",
    "rand_list = [randint(1,100) for _ in range(10)]\n",
    "print(rand_list)\n",
    "nlargest(5, rand_list)"
   ]
  },
  {
   "cell_type": "code",
   "execution_count": 49,
   "metadata": {},
   "outputs": [
    {
     "data": {
      "text/plain": [
       "[95, 95, 82, 36, 32]"
      ]
     },
     "execution_count": 49,
     "metadata": {},
     "output_type": "execute_result"
    }
   ],
   "source": [
    "sorted(rand_list, reverse=True)[:5]"
   ]
  },
  {
   "cell_type": "markdown",
   "metadata": {},
   "source": [
    "heapq.**nsmallest**(*n, iterable, key=None*)\n",
    "\n",
    "Return a list with the n smallest elements from the dataset defined by iterable. key, if provided, specifies a function of one argument that is used to extract a comparison key from each element in iterable (for example, key=str.lower). Equivalent to: sorted(iterable, key=key)[:n]."
   ]
  },
  {
   "cell_type": "code",
   "execution_count": 50,
   "metadata": {},
   "outputs": [
    {
     "name": "stdout",
     "output_type": "stream",
     "text": [
      "[82, 15, 4, 95, 36, 32, 29, 18, 95, 14]\n"
     ]
    },
    {
     "data": {
      "text/plain": [
       "[4, 14, 15, 18, 29]"
      ]
     },
     "execution_count": 50,
     "metadata": {},
     "output_type": "execute_result"
    }
   ],
   "source": [
    "random.seed(42)\n",
    "rand_list = [randint(1,100) for _ in range(10)]\n",
    "print(rand_list)\n",
    "nsmallest(5, rand_list)"
   ]
  },
  {
   "cell_type": "code",
   "execution_count": 51,
   "metadata": {},
   "outputs": [
    {
     "data": {
      "text/plain": [
       "[4, 14, 15, 18, 29]"
      ]
     },
     "execution_count": 51,
     "metadata": {},
     "output_type": "execute_result"
    }
   ],
   "source": [
    "sorted(rand_list)[:5]"
   ]
  },
  {
   "cell_type": "markdown",
   "metadata": {},
   "source": [
    "The latter two functions perform best for smaller values of *n*. For larger values, it is more efficient to use the sorted() function. Also, when *n==1*, it is more efficient to use the built-in min() and max() functions. If repeated usage of these functions is required, consider turning the iterable into an actual heap."
   ]
  },
  {
   "cell_type": "markdown",
   "metadata": {},
   "source": [
    "Heap elements can be tuples. This is useful for assigning comparison values (such as task priorities) alongside the main record being tracked:"
   ]
  },
  {
   "cell_type": "code",
   "execution_count": 52,
   "metadata": {},
   "outputs": [
    {
     "data": {
      "text/plain": [
       "(1, 'write spec')"
      ]
     },
     "execution_count": 52,
     "metadata": {},
     "output_type": "execute_result"
    }
   ],
   "source": [
    "h = []\n",
    "heappush(h, (5, 'write code'))\n",
    "heappush(h, (7, 'release product'))\n",
    "heappush(h, (1, 'write spec'))\n",
    "heappush(h, (3, 'create tests'))\n",
    "heappop(h)"
   ]
  },
  {
   "cell_type": "markdown",
   "metadata": {},
   "source": [
    "## Priority Queue Implementation Notes\n",
    "\n",
    "A priority queue is common use for a heap, and it presents several implementation challenges:\n",
    "* Sort stability: how do you get two tasks with equal priorities to be returned in the order they were originally added?\n",
    "* Tuple comparison breaks for (priority, task) pairs if the priorities are equal and the tasks do not have a default comparison order.\n",
    "* If the priority of a task changes, how do you move it to a new position in the heap?\n",
    "* Or if a pending task needs to be deleted, how do you find it and remove it from the queue?\n",
    "\n",
    "A solution to the first two challenges is to store entries as 3-element list including the priority, an entry count, and the task. The entry count serves as a tie-breaker so that two tasks with the same priority are returned in the order they were added. And since no two entry counts are the same, the tuple comparison will never attempt to directly compare two tasks."
   ]
  },
  {
   "cell_type": "code",
   "execution_count": 61,
   "metadata": {},
   "outputs": [
    {
     "name": "stdout",
     "output_type": "stream",
     "text": [
      "(1, datetime.datetime(2020, 4, 18, 9, 14, 21, 50247), 'write spec')\n",
      "(3, datetime.datetime(2020, 4, 18, 9, 14, 21, 268915), 'create tests')\n",
      "(5, datetime.datetime(2020, 4, 18, 9, 14, 20, 727760), 'write code 1')\n",
      "(5, datetime.datetime(2020, 4, 18, 9, 14, 20, 940880), 'write code 2')\n",
      "(5, datetime.datetime(2020, 4, 18, 9, 14, 21, 159586), 'write code 3')\n",
      "(7, datetime.datetime(2020, 4, 18, 9, 14, 20, 831534), 'release product')\n"
     ]
    }
   ],
   "source": [
    "from datetime import datetime\n",
    "from time import sleep\n",
    "\n",
    "h = []\n",
    "heappush(h, (5, datetime.today(), 'write code 1'))\n",
    "sleep(0.1)\n",
    "heappush(h, (7, datetime.today(), 'release product'))\n",
    "sleep(0.1)\n",
    "heappush(h, (5, datetime.today(), 'write code 2'))\n",
    "sleep(0.1)\n",
    "heappush(h, (1, datetime.today(), 'write spec'))\n",
    "sleep(0.1)\n",
    "heappush(h, (5, datetime.today(), 'write code 3'))\n",
    "sleep(0.1)\n",
    "heappush(h, (3, datetime.today(), 'create tests'))\n",
    "\n",
    "try:\n",
    "    while(cur_el := heappop(h)):\n",
    "        print(cur_el)\n",
    "except IndexError:\n",
    "    pass"
   ]
  },
  {
   "cell_type": "markdown",
   "metadata": {},
   "source": [
    "Another solution to the problem of non-comparable tasks is to create a wrapper class that ignores the task item and only compares the priority field:"
   ]
  },
  {
   "cell_type": "code",
   "execution_count": 62,
   "metadata": {},
   "outputs": [],
   "source": [
    "from dataclasses import dataclass, field\n",
    "from typing import Any\n",
    "\n",
    "@dataclass(order=True)\n",
    "class PrioritizedItem:\n",
    "    priority: int\n",
    "    item: Any=field(compare=False)"
   ]
  },
  {
   "cell_type": "code",
   "execution_count": 63,
   "metadata": {},
   "outputs": [
    {
     "name": "stdout",
     "output_type": "stream",
     "text": [
      "PrioritizedItem(priority=1, item='write spec')\n",
      "PrioritizedItem(priority=3, item='create tests')\n",
      "PrioritizedItem(priority=5, item='write code 2')\n",
      "PrioritizedItem(priority=5, item='write code 3')\n",
      "PrioritizedItem(priority=5, item='write code 1')\n",
      "PrioritizedItem(priority=7, item='release product')\n"
     ]
    }
   ],
   "source": [
    "h = []\n",
    "heappush(h, PrioritizedItem(5, 'write code 1'))\n",
    "heappush(h, PrioritizedItem(7, 'release product'))\n",
    "heappush(h, PrioritizedItem(5, 'write code 2'))\n",
    "heappush(h, PrioritizedItem(1, 'write spec'))\n",
    "heappush(h, PrioritizedItem(5, 'write code 3'))\n",
    "heappush(h, PrioritizedItem(3, 'create tests'))\n",
    "\n",
    "try:\n",
    "    while(cur_el := heappop(h)):\n",
    "        print(cur_el)\n",
    "except IndexError:\n",
    "    pass"
   ]
  },
  {
   "cell_type": "markdown",
   "metadata": {},
   "source": [
    "The remaining challenges revolve around finding a pending task and making changes to its priority or removing it entirely. Finding a task can be done with a dictionary pointing to an entry in the queue.\n",
    "\n",
    "Removing the entry or changing its priority is more difficult because it would break the heap structure invariants. So, a possible solution is to mark the entry as removed and add a new entry with the revised priority:"
   ]
  },
  {
   "cell_type": "code",
   "execution_count": 67,
   "metadata": {},
   "outputs": [],
   "source": [
    "pq = []                         # list of entries arranged in a heap\n",
    "entry_finder = {}               # mapping of tasks to entries\n",
    "REMOVED = '<removed-task>'      # placeholder for a removed task\n",
    "counter = itertools.count()     # unique sequence count\n",
    "\n",
    "def add_task(task, priority=0):\n",
    "    'Add a new task or update the priority of an existing task'\n",
    "    if task in entry_finder:\n",
    "        remove_task(task)\n",
    "    count = next(counter)\n",
    "    entry = [priority, count, task]\n",
    "    entry_finder[task] = entry\n",
    "    heappush(pq, entry)\n",
    "\n",
    "def remove_task(task):\n",
    "    'Mark an existing task as REMOVED.  Raise KeyError if not found.'\n",
    "    entry = entry_finder.pop(task)\n",
    "    entry[-1] = REMOVED\n",
    "\n",
    "def pop_task():\n",
    "    'Remove and return the lowest priority task. Raise KeyError if empty.'\n",
    "    while pq:\n",
    "        priority, count, task = heappop(pq)\n",
    "        if task is not REMOVED:\n",
    "            del entry_finder[task]\n",
    "            return task\n",
    "    raise KeyError('pop from an empty priority queue')"
   ]
  },
  {
   "cell_type": "code",
   "execution_count": null,
   "metadata": {},
   "outputs": [],
   "source": []
  }
 ],
 "metadata": {
  "kernelspec": {
   "display_name": "Python 3",
   "language": "python",
   "name": "python3"
  },
  "language_info": {
   "codemirror_mode": {
    "name": "ipython",
    "version": 3
   },
   "file_extension": ".py",
   "mimetype": "text/x-python",
   "name": "python",
   "nbconvert_exporter": "python",
   "pygments_lexer": "ipython3",
   "version": "3.8.2"
  }
 },
 "nbformat": 4,
 "nbformat_minor": 4
}
