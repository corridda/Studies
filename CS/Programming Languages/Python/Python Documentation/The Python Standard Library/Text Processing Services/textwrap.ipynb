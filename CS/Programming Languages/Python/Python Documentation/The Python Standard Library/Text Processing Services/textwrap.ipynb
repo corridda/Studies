{
 "cells": [
  {
   "cell_type": "markdown",
   "metadata": {},
   "source": [
    "# [textwrap — Text wrapping and filling](https://docs.python.org/3/library/textwrap.html)\n",
    "\n",
    "The textwrap module provides some convenience functions, as well as **TextWrapper**, the class that does all the work. If you’re just wrapping or filling one or two text strings, the convenience functions should be good enough; otherwise, you should use an instance of **TextWrapper** for efficiency."
   ]
  },
  {
   "cell_type": "markdown",
   "metadata": {},
   "source": [
    "textwrap.**wrap**(*text, width=70, \\*\\*kwargs*)\n",
    "\n",
    "Wraps the single paragraph in text (a string) so every line is at most width characters long. Returns a list of output lines, without final newlines.\n",
    "Optional keyword arguments correspond to the instance attributes of **TextWrapper**, documented below. *width* defaults to 70."
   ]
  },
  {
   "cell_type": "code",
   "execution_count": 2,
   "metadata": {},
   "outputs": [],
   "source": [
    "import textwrap"
   ]
  },
  {
   "cell_type": "code",
   "execution_count": 10,
   "metadata": {},
   "outputs": [],
   "source": [
    "s = \"Look into my eyes, look into my eyes, the eyes, the eyes, \\\n",
    "the eyes, not around the eyes, don't look around the eyes, \\\n",
    "look into my eyes, you're under.\""
   ]
  },
  {
   "cell_type": "code",
   "execution_count": 9,
   "metadata": {},
   "outputs": [
    {
     "data": {
      "text/plain": [
       "['Look into my eyes, look into my eyes, the eyes, the eyes, the eyes,',\n",
       " \"not around the eyes, don't look around the eyes, look into my eyes,\",\n",
       " \"you're under.\"]"
      ]
     },
     "execution_count": 9,
     "metadata": {},
     "output_type": "execute_result"
    }
   ],
   "source": [
    "textwrap.wrap(s)"
   ]
  },
  {
   "cell_type": "markdown",
   "metadata": {},
   "source": [
    "textwrap.**fill**(*text, width=70, \\*\\*kwargs*)\n",
    "\n",
    "Wraps the single paragraph in *text*, and returns a single string containing the wrapped paragraph. **fill()** is shorthand for\n",
    "\n",
    "    \"\\n\".join(wrap(text, ...))\n",
    "\n",
    "In particular, **fill()** accepts exactly the same keyword arguments as **wrap()**."
   ]
  },
  {
   "cell_type": "code",
   "execution_count": 12,
   "metadata": {},
   "outputs": [
    {
     "name": "stdout",
     "output_type": "stream",
     "text": [
      "Look into my eyes, look into my eyes,\n",
      "the eyes, the eyes, the eyes, not around\n",
      "the eyes, don't look around the eyes,\n",
      "look into my eyes, you're under.\n"
     ]
    }
   ],
   "source": [
    "print(textwrap.fill(s, width=40))"
   ]
  },
  {
   "cell_type": "markdown",
   "metadata": {},
   "source": [
    "textwrap.**shorten**(*text, width, \\*\\*kwargs*)\n",
    "\n",
    "Collapse and truncate the given *text* to fit in the given *width*.\n",
    "\n",
    "First the whitespace in *text* is collapsed (all whitespace is replaced by single spaces). If the result fits in the *width*, it is returned. Otherwise, enough words are dropped from the end so that the remaining words plus the *placeholder* fit within *width*:"
   ]
  },
  {
   "cell_type": "code",
   "execution_count": 14,
   "metadata": {},
   "outputs": [
    {
     "data": {
      "text/plain": [
       "'Hello world!'"
      ]
     },
     "execution_count": 14,
     "metadata": {},
     "output_type": "execute_result"
    }
   ],
   "source": [
    "textwrap.shorten(\"Hello     world!\", width=12)"
   ]
  },
  {
   "cell_type": "code",
   "execution_count": 15,
   "metadata": {},
   "outputs": [
    {
     "data": {
      "text/plain": [
       "'Hello [...]'"
      ]
     },
     "execution_count": 15,
     "metadata": {},
     "output_type": "execute_result"
    }
   ],
   "source": [
    "textwrap.shorten(\"Hello  world!\", width=11)"
   ]
  },
  {
   "cell_type": "code",
   "execution_count": 16,
   "metadata": {},
   "outputs": [
    {
     "data": {
      "text/plain": [
       "'Hello...'"
      ]
     },
     "execution_count": 16,
     "metadata": {},
     "output_type": "execute_result"
    }
   ],
   "source": [
    "textwrap.shorten(\"Hello  world!\", 11, placeholder='...')"
   ]
  },
  {
   "cell_type": "markdown",
   "metadata": {},
   "source": [
    "Optional keyword arguments correspond to the instance attributes of **TextWrapper**, documented below. Note that the whitespace is collapsed before the text is passed to the **TextWrapper** *fill()* function, so changing the value of *tabsize*, *expand_tabs*, *drop_whitespace*, and *replace_whitespace* will have no effect."
   ]
  },
  {
   "cell_type": "markdown",
   "metadata": {},
   "source": [
    "textwrap.**dedent**(*text*)\n",
    "\n",
    "Remove any common leading whitespace from every line in *text*.\n",
    "\n",
    "This can be used to make triple-quoted strings line up with the left edge of the display, while still presenting them in the source code in indented form.\n",
    "\n",
    "Note that tabs and spaces are both treated as whitespace, but they are not equal: the lines \"  hello\" and \"\\thello\" are considered to have no common leading whitespace.\n",
    "\n",
    "Lines containing only whitespace are ignored in the input and normalized to a single newline character in the output.\n",
    "\n",
    "For example:"
   ]
  },
  {
   "cell_type": "code",
   "execution_count": 20,
   "metadata": {},
   "outputs": [],
   "source": [
    "def test():\n",
    "    # end first line with \\ to avoid the empty line!\n",
    "    s = '''\\\n",
    "    hello\n",
    "      world\n",
    "    '''\n",
    "    print(repr(s))          # prints '    hello\\n      world\\n    '\n",
    "    print(repr(textwrap.dedent(s)))  # prints 'hello\\n  world\\n'"
   ]
  },
  {
   "cell_type": "code",
   "execution_count": 21,
   "metadata": {},
   "outputs": [
    {
     "name": "stdout",
     "output_type": "stream",
     "text": [
      "'    hello\\n      world\\n    '\n",
      "'hello\\n  world\\n'\n"
     ]
    }
   ],
   "source": [
    "test()"
   ]
  },
  {
   "cell_type": "markdown",
   "metadata": {},
   "source": [
    "textwrap.**indent**(*text, prefix, predicate=None*)\n",
    "\n",
    "Add prefix to the beginning of selected lines in *text*.\n",
    "Lines are separated by calling *text.splitlines(True)*.\n",
    "\n",
    "By default, prefix is added to all lines that do not consist solely of whitespace (including any line endings). For example:"
   ]
  },
  {
   "cell_type": "code",
   "execution_count": 22,
   "metadata": {},
   "outputs": [
    {
     "data": {
      "text/plain": [
       "'  hello\\n\\n \\n  world'"
      ]
     },
     "execution_count": 22,
     "metadata": {},
     "output_type": "execute_result"
    }
   ],
   "source": [
    "s = 'hello\\n\\n \\nworld'\n",
    "textwrap.indent(s, '  ')"
   ]
  },
  {
   "cell_type": "markdown",
   "metadata": {},
   "source": [
    "The optional *predicate* argument can be used to control which lines are indented. For example, it is easy to add prefix to even empty and whitespace-only lines:"
   ]
  },
  {
   "cell_type": "code",
   "execution_count": 25,
   "metadata": {},
   "outputs": [
    {
     "name": "stdout",
     "output_type": "stream",
     "text": [
      "+ hello\n",
      "+ \n",
      "+  \n",
      "+ world\n"
     ]
    }
   ],
   "source": [
    "print(textwrap.indent(s, '+ ', predicate=lambda line: True))"
   ]
  },
  {
   "cell_type": "markdown",
   "metadata": {},
   "source": [
    "*wrap()*, *fill()* and *shorten()* work by creating a **TextWrapper** instance and calling a single method on it. That instance is not reused, so for applications that process many text strings using *wrap()* and/or *fill()*, it may be more efficient to create your own **TextWrapper** object."
   ]
  },
  {
   "cell_type": "code",
   "execution_count": 30,
   "metadata": {},
   "outputs": [
    {
     "name": "stdout",
     "output_type": "stream",
     "text": [
      "a\f",
      "b\f",
      "c\n"
     ]
    }
   ],
   "source": [
    "print(f'a\\fb\\fc')"
   ]
  },
  {
   "cell_type": "markdown",
   "metadata": {},
   "source": [
    "class textwrap.**TextWrapper**(*\\*\\*kwargs*)\n",
    "\n",
    "The **TextWrapper** constructor accepts a number of optional keyword arguments. Each keyword argument corresponds to an instance attribute, so for example:"
   ]
  },
  {
   "cell_type": "code",
   "execution_count": 32,
   "metadata": {},
   "outputs": [],
   "source": [
    "wrapper = textwrap.TextWrapper(initial_indent=\"* \")"
   ]
  },
  {
   "cell_type": "markdown",
   "metadata": {},
   "source": [
    "is the same as"
   ]
  },
  {
   "cell_type": "code",
   "execution_count": 33,
   "metadata": {},
   "outputs": [],
   "source": [
    "wrapper = textwrap.TextWrapper()\n",
    "wrapper.initial_indent = \"* \""
   ]
  },
  {
   "cell_type": "markdown",
   "metadata": {},
   "source": [
    "You can re-use the same **TextWrapper** object many times, and you can change any of its options through direct assignment to instance attributes between uses."
   ]
  },
  {
   "cell_type": "code",
   "execution_count": 36,
   "metadata": {},
   "outputs": [],
   "source": [
    "s = \"Look into my eyes, look into my eyes, the eyes, the eyes, \\\n",
    "the eyes, not around the eyes, don't look around the eyes, \\\n",
    "look into my eyes, you're under.\""
   ]
  },
  {
   "cell_type": "code",
   "execution_count": 37,
   "metadata": {},
   "outputs": [
    {
     "name": "stdout",
     "output_type": "stream",
     "text": [
      "* Look into my eyes, look into my eyes,\n",
      "the eyes, the eyes, the eyes, not around\n",
      "the eyes, don't look around the eyes,\n",
      "look into my eyes, you're under.\n"
     ]
    }
   ],
   "source": [
    "wrapper.width = 40\n",
    "print(wrapper.fill(s))"
   ]
  },
  {
   "cell_type": "markdown",
   "metadata": {},
   "source": [
    "**break_long_words**\n",
    "\n",
    "(default: True) If true, then words longer than width will be broken in order to ensure that no lines are longer than width. If it is false, long words will not be broken, and some lines may be longer than width. (Long words will be put on a line by themselves, in order to minimize the amount by which width is exceeded.)"
   ]
  },
  {
   "cell_type": "code",
   "execution_count": 38,
   "metadata": {},
   "outputs": [
    {
     "name": "stdout",
     "output_type": "stream",
     "text": [
      "Veryyyyyyy\n",
      "yyyyyyyyyy\n",
      "yyyyyyyyyy\n",
      "y long\n",
      "word\n"
     ]
    }
   ],
   "source": [
    "wrapper = textwrap.TextWrapper(width=10, break_long_words=True)\n",
    "s = \"Veryyyyyyyyyyyyyyyyyyyyyyyyyyyy long word\"\n",
    "print(wrapper.fill(s))"
   ]
  },
  {
   "cell_type": "code",
   "execution_count": 39,
   "metadata": {},
   "outputs": [
    {
     "name": "stdout",
     "output_type": "stream",
     "text": [
      "Veryyyyyyyyyyyyyyyyyyyyyyyyyyyy\n",
      "long word\n"
     ]
    }
   ],
   "source": [
    "wrapper = textwrap.TextWrapper(width=10, break_long_words=False)\n",
    "s = \"Veryyyyyyyyyyyyyyyyyyyyyyyyyyyy long word\"\n",
    "print(wrapper.fill(s))"
   ]
  },
  {
   "cell_type": "markdown",
   "metadata": {},
   "source": [
    "**max_lines**\n",
    "\n",
    "(default: None) If not None, then the output will contain at most max_lines lines, with placeholder appearing at the end of the output."
   ]
  },
  {
   "cell_type": "code",
   "execution_count": 41,
   "metadata": {},
   "outputs": [
    {
     "name": "stdout",
     "output_type": "stream",
     "text": [
      "Look into my eyes,\n",
      "look into my eyes,\n",
      "the eyes, the...\n"
     ]
    }
   ],
   "source": [
    "s = \"Look into my eyes, look into my eyes, the eyes, the eyes, \\\n",
    "the eyes, not around the eyes, don't look around the eyes, \\\n",
    "look into my eyes, you're under.\"\n",
    "\n",
    "wrapper = textwrap.TextWrapper(width=20, max_lines=3, placeholder='...')\n",
    "print(wrapper.fill(s))"
   ]
  },
  {
   "cell_type": "markdown",
   "metadata": {},
   "source": [
    "**TextWrapper** also provides some public methods, analogous to the module-level convenience functions:\n",
    "\n",
    "**wrap**(*text*)\n",
    "\n",
    "Wraps the single paragraph in text (a string) so every line is at most width characters long. All wrapping options are taken from instance attributes of the **TextWrapper** instance. Returns a list of output lines, without final newlines. If the wrapped output has no content, the returned list is empty.\n",
    "\n",
    "**fill**(*text*)\n",
    "\n",
    "Wraps the single paragraph in text, and returns a single string containing the wrapped paragraph."
   ]
  },
  {
   "cell_type": "code",
   "execution_count": null,
   "metadata": {},
   "outputs": [],
   "source": []
  }
 ],
 "metadata": {
  "kernelspec": {
   "display_name": "Python 3",
   "language": "python",
   "name": "python3"
  },
  "language_info": {
   "codemirror_mode": {
    "name": "ipython",
    "version": 3
   },
   "file_extension": ".py",
   "mimetype": "text/x-python",
   "name": "python",
   "nbconvert_exporter": "python",
   "pygments_lexer": "ipython3",
   "version": "3.8.3"
  }
 },
 "nbformat": 4,
 "nbformat_minor": 4
}
