{
 "cells": [
  {
   "cell_type": "markdown",
   "id": "70a05c73",
   "metadata": {},
   "source": [
    "# [10 Awesome Python 3.9 Features](https://towardsdatascience.com/10-awesome-python-3-9-features-b8c27f5eba5c)"
   ]
  },
  {
   "cell_type": "markdown",
   "id": "57541ca6",
   "metadata": {},
   "source": [
    "## 1. Feature: Dictionary Update And Merge Operators\n",
    "Two new operators, $|$ and $|=$ have been added to the built-in dict class.\n",
    "\n",
    "The $|$ operator is used to merge dictionaries whereas the $|=$ operator can be used to update the dictionaries.\n",
    "\n",
    "For Merge: $|$"
   ]
  },
  {
   "cell_type": "code",
   "execution_count": 1,
   "id": "be7a27a3",
   "metadata": {},
   "outputs": [
    {
     "data": {
      "text/plain": [
       "{'farhad': 'malik', 'blog': 2, 'python': 3, 'topic': 'python3.9'}"
      ]
     },
     "execution_count": 1,
     "metadata": {},
     "output_type": "execute_result"
    }
   ],
   "source": [
    "a = {'farhad': 1, 'blog': 2, 'python': 3}\n",
    "b = {'farhad': 'malik', 'topic': 'python3.9'}\n",
    "a | b"
   ]
  },
  {
   "cell_type": "code",
   "execution_count": 2,
   "id": "a6ebf9b2",
   "metadata": {},
   "outputs": [
    {
     "data": {
      "text/plain": [
       "{'farhad': 1, 'topic': 'python3.9', 'blog': 2, 'python': 3}"
      ]
     },
     "execution_count": 2,
     "metadata": {},
     "output_type": "execute_result"
    }
   ],
   "source": [
    "b | a"
   ]
  },
  {
   "cell_type": "markdown",
   "id": "2a9e4d23",
   "metadata": {},
   "source": [
    "For Update: $|=$"
   ]
  },
  {
   "cell_type": "code",
   "execution_count": 3,
   "id": "c97e996e",
   "metadata": {},
   "outputs": [
    {
     "data": {
      "text/plain": [
       "{'farhad': 'malik', 'blog': 2, 'python': 3, 'topic': 'python3.9'}"
      ]
     },
     "execution_count": 3,
     "metadata": {},
     "output_type": "execute_result"
    }
   ],
   "source": [
    "a |= b\n",
    "a"
   ]
  },
  {
   "cell_type": "markdown",
   "id": "c36b5805",
   "metadata": {},
   "source": [
    "## 2. Feature: New Flexible High Performant PEG-Based Parser\n",
    "\n",
    "## 3. Feature: New String Functions To Remove Prefix and Suffix\n",
    "Two new functions have been added to the str object.\n",
    "* The first function removes the prefix. It is $str.removeprefix(prefix)$.\n",
    "* The second function removes the suffix. It is $str.removesuffix(suffix)$."
   ]
  },
  {
   "cell_type": "code",
   "execution_count": 4,
   "id": "7c441285",
   "metadata": {},
   "outputs": [
    {
     "data": {
      "text/plain": [
       "'python'"
      ]
     },
     "execution_count": 4,
     "metadata": {},
     "output_type": "execute_result"
    }
   ],
   "source": [
    "'farhad_python'.removeprefix('farhad_')"
   ]
  },
  {
   "cell_type": "code",
   "execution_count": 5,
   "id": "386b5185",
   "metadata": {},
   "outputs": [
    {
     "data": {
      "text/plain": [
       "'farhad'"
      ]
     },
     "execution_count": 5,
     "metadata": {},
     "output_type": "execute_result"
    }
   ],
   "source": [
    "'farhad_python'.removesuffix('_python')"
   ]
  },
  {
   "cell_type": "markdown",
   "id": "37e88dff",
   "metadata": {},
   "source": [
    "## 4. Feature: Type Hinting For Built-in Generic Types"
   ]
  },
  {
   "cell_type": "code",
   "execution_count": 6,
   "id": "7201b400",
   "metadata": {},
   "outputs": [],
   "source": [
    "def read_blog_tags(tags: list[str]) -> None:\n",
    "    for tag in tags:\n",
    "        print(\"Tag Name\", tag)"
   ]
  },
  {
   "cell_type": "code",
   "execution_count": 7,
   "id": "babc8cee",
   "metadata": {},
   "outputs": [
    {
     "name": "stdout",
     "output_type": "stream",
     "text": [
      "Tag Name tag_1\n",
      "Tag Name tag_2\n",
      "Tag Name tag_3\n"
     ]
    }
   ],
   "source": [
    "read_blog_tags(['tag_1', 'tag_2', 'tag_3'])"
   ]
  },
  {
   "cell_type": "code",
   "execution_count": 8,
   "id": "e8dabb17",
   "metadata": {},
   "outputs": [
    {
     "name": "stdout",
     "output_type": "stream",
     "text": [
      "Tag Name tag_1\n",
      "Tag Name tag_2\n",
      "Tag Name tag_3\n",
      "Tag Name 4\n"
     ]
    }
   ],
   "source": [
    "read_blog_tags(['tag_1', 'tag_2', 'tag_3', 4])"
   ]
  },
  {
   "cell_type": "markdown",
   "id": "bc0947c8",
   "metadata": {},
   "source": [
    "## 5. Feature: Support For IANA timezone In DateTime"
   ]
  },
  {
   "cell_type": "code",
   "execution_count": 9,
   "id": "af0c9a22",
   "metadata": {},
   "outputs": [],
   "source": [
    "from zoneinfo import ZoneInfo\n",
    "from datetime import datetime, timedelta"
   ]
  },
  {
   "cell_type": "code",
   "execution_count": 12,
   "id": "3fee6fdd",
   "metadata": {},
   "outputs": [
    {
     "data": {
      "text/plain": [
       "datetime.datetime(2020, 10, 31, 12, 0, tzinfo=zoneinfo.ZoneInfo(key='America/Los_Angeles'))"
      ]
     },
     "execution_count": 12,
     "metadata": {},
     "output_type": "execute_result"
    }
   ],
   "source": [
    "dt = datetime(2020, 10, 31, 12, tzinfo=ZoneInfo(\"America/Los_Angeles\"))\n",
    "dt"
   ]
  },
  {
   "cell_type": "markdown",
   "id": "0be3d31a",
   "metadata": {},
   "source": [
    "## 6. Feature: Ability To Cancel Concurrent Futures\n",
    "## 7. Feature: AsyncIO and multiprocessing Improvements\n",
    "## 8. Feature: Consistent Package Import Errors"
   ]
  },
  {
   "cell_type": "code",
   "execution_count": 14,
   "id": "905b9e4f",
   "metadata": {},
   "outputs": [],
   "source": [
    "import builtins"
   ]
  },
  {
   "cell_type": "code",
   "execution_count": 22,
   "id": "c47bad40",
   "metadata": {},
   "outputs": [
    {
     "ename": "TypeError",
     "evalue": "__import__() missing required argument 'name' (pos 1)",
     "output_type": "error",
     "traceback": [
      "\u001b[1;31m---------------------------------------------------------------------------\u001b[0m",
      "\u001b[1;31mTypeError\u001b[0m                                 Traceback (most recent call last)",
      "\u001b[1;32m~\\AppData\\Local\\Temp/ipykernel_5244/108447851.py\u001b[0m in \u001b[0;36m<module>\u001b[1;34m\u001b[0m\n\u001b[1;32m----> 1\u001b[1;33m \u001b[0mbuiltins\u001b[0m\u001b[1;33m.\u001b[0m\u001b[0m__import__\u001b[0m\u001b[1;33m(\u001b[0m\u001b[1;33m)\u001b[0m\u001b[1;33m\u001b[0m\u001b[1;33m\u001b[0m\u001b[0m\n\u001b[0m",
      "\u001b[1;31mTypeError\u001b[0m: __import__() missing required argument 'name' (pos 1)"
     ]
    }
   ],
   "source": [
    "builtins.__import__()"
   ]
  },
  {
   "cell_type": "code",
   "execution_count": 21,
   "id": "8b1e688a",
   "metadata": {},
   "outputs": [
    {
     "ename": "ModuleNotFoundError",
     "evalue": "No module named 'some_module'",
     "output_type": "error",
     "traceback": [
      "\u001b[1;31m---------------------------------------------------------------------------\u001b[0m",
      "\u001b[1;31mModuleNotFoundError\u001b[0m                       Traceback (most recent call last)",
      "\u001b[1;32m~\\AppData\\Local\\Temp/ipykernel_5244/2485254352.py\u001b[0m in \u001b[0;36m<module>\u001b[1;34m\u001b[0m\n\u001b[1;32m----> 1\u001b[1;33m \u001b[0mbuiltins\u001b[0m\u001b[1;33m.\u001b[0m\u001b[0m__import__\u001b[0m\u001b[1;33m(\u001b[0m\u001b[1;34m\"some_module\"\u001b[0m\u001b[1;33m)\u001b[0m\u001b[1;33m\u001b[0m\u001b[1;33m\u001b[0m\u001b[0m\n\u001b[0m",
      "\u001b[1;31mModuleNotFoundError\u001b[0m: No module named 'some_module'"
     ]
    }
   ],
   "source": [
    "builtins.__import__(\"some_module\")"
   ]
  },
  {
   "cell_type": "markdown",
   "id": "c087a20a",
   "metadata": {},
   "source": [
    "## 9. Feature: Random Bytes Generation"
   ]
  },
  {
   "cell_type": "code",
   "execution_count": 48,
   "id": "0c1c1d51",
   "metadata": {},
   "outputs": [],
   "source": [
    "from random import seed, randbytes"
   ]
  },
  {
   "cell_type": "code",
   "execution_count": 54,
   "id": "338887aa",
   "metadata": {},
   "outputs": [
    {
     "data": {
      "text/plain": [
       "b'\\x9dy\\xb1\\xa3\\x7f1\\x80\\x1c\\xd1\\x1ag\\x06\\xfb@\\xd6\\xbd'"
      ]
     },
     "execution_count": 54,
     "metadata": {},
     "output_type": "execute_result"
    }
   ],
   "source": [
    "seed(42)\n",
    "randbytes(16)"
   ]
  },
  {
   "cell_type": "markdown",
   "id": "8633bfe2",
   "metadata": {},
   "source": [
    "## 10. Feature: String Replace Function Fix"
   ]
  },
  {
   "attachments": {
    "2021-07-04_14-05-22.png": {
     "image/png": "[encoded data removed]"
    }
   },
   "cell_type": "markdown",
   "id": "dc91e2f2",
   "metadata": {},
   "source": [
    "![2021-07-04_14-05-22.png](attachment:2021-07-04_14-05-22.png)"
   ]
  },
  {
   "cell_type": "code",
   "execution_count": 55,
   "id": "105c5b7f",
   "metadata": {},
   "outputs": [
    {
     "data": {
      "text/plain": [
       "'123'"
      ]
     },
     "execution_count": 55,
     "metadata": {},
     "output_type": "execute_result"
    }
   ],
   "source": [
    "\"\".replace(\"\", \"123\")"
   ]
  },
  {
   "cell_type": "code",
   "execution_count": 57,
   "id": "e7268e44",
   "metadata": {},
   "outputs": [
    {
     "data": {
      "text/plain": [
       "'123'"
      ]
     },
     "execution_count": 57,
     "metadata": {},
     "output_type": "execute_result"
    }
   ],
   "source": [
    "\"\".replace(\"\", \"123\", 1)"
   ]
  },
  {
   "cell_type": "code",
   "execution_count": 58,
   "id": "f7e04e66",
   "metadata": {},
   "outputs": [
    {
     "data": {
      "text/plain": [
       "'123'"
      ]
     },
     "execution_count": 58,
     "metadata": {},
     "output_type": "execute_result"
    }
   ],
   "source": [
    "\"\".replace(\"\", \"123\", 5)"
   ]
  }
 ],
 "metadata": {
  "kernelspec": {
   "display_name": "Python 3 (ipykernel)",
   "language": "python",
   "name": "python3"
  },
  "language_info": {
   "codemirror_mode": {
    "name": "ipython",
    "version": 3
   },
   "file_extension": ".py",
   "mimetype": "text/x-python",
   "name": "python",
   "nbconvert_exporter": "python",
   "pygments_lexer": "ipython3",
   "version": "3.9.6"
  }
 },
 "nbformat": 4,
 "nbformat_minor": 5
}
