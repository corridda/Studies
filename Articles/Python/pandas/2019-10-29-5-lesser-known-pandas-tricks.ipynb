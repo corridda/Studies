{
 "cells": [
  {
   "cell_type": "markdown",
   "metadata": {},
   "source": [
    "# 5 lesser-known pandas tricks\n",
    "https://habr.com/ru/company/ruvds/blog/492220/\n",
    "\n",
    "https://towardsdatascience.com/5-lesser-known-pandas-tricks-e8ab1dd21431\n",
    "\n",
    "pandas needs no introduction as it became the de facto tool for data analysis in Python. \n",
    "As a Data Scientist, I use pandas daily and I am always amazed by how many functionalities it has.\n",
    "In this post, I am going to show you 5 pandas tricks that I learned recently and using them helps me to be more productive.\n",
    "\n",
    "For pandas newbies - [Pandas](https://pandas.pydata.org/) provides high-performance, easy-to-use data structures and data analysis tools for the Python programming language.\n",
    "The name is derived from the term \"panel data\", an econometrics term for data sets that include observations over multiple time periods for the same individuals."
   ]
  },
  {
   "cell_type": "code",
   "execution_count": 1,
   "metadata": {},
   "outputs": [],
   "source": [
    "from platform import python_version\n",
    "\n",
    "import pandas as pd\n",
    "import xlsxwriter"
   ]
  },
  {
   "cell_type": "markdown",
   "metadata": {},
   "source": [
    "## Setup"
   ]
  },
  {
   "cell_type": "code",
   "execution_count": 2,
   "metadata": {},
   "outputs": [
    {
     "name": "stdout",
     "output_type": "stream",
     "text": [
      "python version==3.8.1\n",
      "pandas==1.0.1\n",
      "xlsxwriter==1.2.8\n"
     ]
    }
   ],
   "source": [
    "print(\"python version==%s\" % python_version())\n",
    "print(\"pandas==%s\" % pd.__version__)\n",
    "print(\"xlsxwriter==%s\" % xlsxwriter.__version__)"
   ]
  },
  {
   "cell_type": "markdown",
   "metadata": {},
   "source": [
    "## 1. Date Ranges\n",
    "\n",
    "When fetching the data from an external API or a database, we many times need to specify a date range.\n",
    "Pandas got us covered. \n",
    "There is a [data_range](https://pandas.pydata.org/pandas-docs/stable/reference/api/pandas.date_range.html) function, which returns dates incremented by days, months or years, etc.\n",
    "\n",
    "Let's say we need a date range incremented by days. "
   ]
  },
  {
   "cell_type": "code",
   "execution_count": 3,
   "metadata": {},
   "outputs": [
    {
     "data": {
      "text/plain": [
       "DatetimeIndex(['2019-01-01', '2019-01-02', '2019-01-03', '2019-01-04',\n",
       "               '2019-01-05', '2019-01-06', '2019-01-07', '2019-01-08',\n",
       "               '2019-01-09', '2019-01-10', '2019-01-11', '2019-01-12'],\n",
       "              dtype='datetime64[ns]', freq='D')"
      ]
     },
     "execution_count": 3,
     "metadata": {},
     "output_type": "execute_result"
    }
   ],
   "source": [
    "date_from = \"2019-01-01\"\n",
    "date_to = \"2019-01-12\"\n",
    "date_range = pd.date_range(date_from, date_to, freq=\"D\")\n",
    "date_range"
   ]
  },
  {
   "cell_type": "markdown",
   "metadata": {},
   "source": [
    "Let's transform the generated date_range to start and end dates, which can be passed to a subsequent function."
   ]
  },
  {
   "cell_type": "code",
   "execution_count": 4,
   "metadata": {},
   "outputs": [
    {
     "name": "stdout",
     "output_type": "stream",
     "text": [
      "1. date_from: 2019-01-01, date_to: 2019-01-02\n",
      "2. date_from: 2019-01-02, date_to: 2019-01-03\n",
      "3. date_from: 2019-01-03, date_to: 2019-01-04\n",
      "4. date_from: 2019-01-04, date_to: 2019-01-05\n",
      "5. date_from: 2019-01-05, date_to: 2019-01-06\n",
      "6. date_from: 2019-01-06, date_to: 2019-01-07\n",
      "7. date_from: 2019-01-07, date_to: 2019-01-08\n",
      "8. date_from: 2019-01-08, date_to: 2019-01-09\n",
      "9. date_from: 2019-01-09, date_to: 2019-01-10\n",
      "10. date_from: 2019-01-10, date_to: 2019-01-11\n",
      "11. date_from: 2019-01-11, date_to: 2019-01-12\n"
     ]
    }
   ],
   "source": [
    "for i, (date_from, date_to) in enumerate(zip(date_range[:-1], date_range[1:]), 1):\n",
    "    date_from = date_from.date().isoformat()\n",
    "    date_to = date_to.date().isoformat()\n",
    "    print(\"%d. date_from: %s, date_to: %s\" % (i, date_from, date_to))"
   ]
  },
  {
   "cell_type": "markdown",
   "metadata": {},
   "source": [
    "## 2. Merge with indicator\n",
    "\n",
    "Merging two datasets is the process of bringing two datasets together into one, and aligning the rows from each based on common attributes or columns.\n",
    "\n",
    "One of the arguments of the merge function that I've missed is the `indicator` argument.\n",
    "Indicator argument adds a `_merge` column to a DataFrame, which tells you \"where the row came from\", left, right or both DataFrames.\n",
    "The `_merge` column can be very useful when working with bigger datasets to check the correctness of a merge operation."
   ]
  },
  {
   "cell_type": "code",
   "execution_count": 5,
   "metadata": {},
   "outputs": [
    {
     "data": {
      "text/html": [
       "<div>\n",
       "<style scoped>\n",
       "    .dataframe tbody tr th:only-of-type {\n",
       "        vertical-align: middle;\n",
       "    }\n",
       "\n",
       "    .dataframe tbody tr th {\n",
       "        vertical-align: top;\n",
       "    }\n",
       "\n",
       "    .dataframe thead th {\n",
       "        text-align: right;\n",
       "    }\n",
       "</style>\n",
       "<table border=\"1\" class=\"dataframe\">\n",
       "  <thead>\n",
       "    <tr style=\"text-align: right;\">\n",
       "      <th></th>\n",
       "      <th>key</th>\n",
       "      <th>value_l</th>\n",
       "    </tr>\n",
       "  </thead>\n",
       "  <tbody>\n",
       "    <tr>\n",
       "      <th>0</th>\n",
       "      <td>key1</td>\n",
       "      <td>1</td>\n",
       "    </tr>\n",
       "    <tr>\n",
       "      <th>1</th>\n",
       "      <td>key2</td>\n",
       "      <td>2</td>\n",
       "    </tr>\n",
       "    <tr>\n",
       "      <th>2</th>\n",
       "      <td>key3</td>\n",
       "      <td>3</td>\n",
       "    </tr>\n",
       "    <tr>\n",
       "      <th>3</th>\n",
       "      <td>key4</td>\n",
       "      <td>4</td>\n",
       "    </tr>\n",
       "  </tbody>\n",
       "</table>\n",
       "</div>"
      ],
      "text/plain": [
       "    key  value_l\n",
       "0  key1        1\n",
       "1  key2        2\n",
       "2  key3        3\n",
       "3  key4        4"
      ]
     },
     "execution_count": 5,
     "metadata": {},
     "output_type": "execute_result"
    }
   ],
   "source": [
    "left = pd.DataFrame({\"key\": [\"key1\", \"key2\", \"key3\", \"key4\"], \"value_l\": [1, 2, 3, 4]})\n",
    "left"
   ]
  },
  {
   "cell_type": "code",
   "execution_count": 6,
   "metadata": {},
   "outputs": [
    {
     "data": {
      "text/html": [
       "<div>\n",
       "<style scoped>\n",
       "    .dataframe tbody tr th:only-of-type {\n",
       "        vertical-align: middle;\n",
       "    }\n",
       "\n",
       "    .dataframe tbody tr th {\n",
       "        vertical-align: top;\n",
       "    }\n",
       "\n",
       "    .dataframe thead th {\n",
       "        text-align: right;\n",
       "    }\n",
       "</style>\n",
       "<table border=\"1\" class=\"dataframe\">\n",
       "  <thead>\n",
       "    <tr style=\"text-align: right;\">\n",
       "      <th></th>\n",
       "      <th>key</th>\n",
       "      <th>value_r</th>\n",
       "    </tr>\n",
       "  </thead>\n",
       "  <tbody>\n",
       "    <tr>\n",
       "      <th>0</th>\n",
       "      <td>key3</td>\n",
       "      <td>3</td>\n",
       "    </tr>\n",
       "    <tr>\n",
       "      <th>1</th>\n",
       "      <td>key2</td>\n",
       "      <td>2</td>\n",
       "    </tr>\n",
       "    <tr>\n",
       "      <th>2</th>\n",
       "      <td>key1</td>\n",
       "      <td>1</td>\n",
       "    </tr>\n",
       "    <tr>\n",
       "      <th>3</th>\n",
       "      <td>key6</td>\n",
       "      <td>6</td>\n",
       "    </tr>\n",
       "  </tbody>\n",
       "</table>\n",
       "</div>"
      ],
      "text/plain": [
       "    key  value_r\n",
       "0  key3        3\n",
       "1  key2        2\n",
       "2  key1        1\n",
       "3  key6        6"
      ]
     },
     "execution_count": 6,
     "metadata": {},
     "output_type": "execute_result"
    }
   ],
   "source": [
    "right = pd.DataFrame({\"key\": [\"key3\", \"key2\", \"key1\", \"key6\"], \"value_r\": [3, 2, 1, 6]})\n",
    "right"
   ]
  },
  {
   "cell_type": "code",
   "execution_count": 7,
   "metadata": {},
   "outputs": [
    {
     "data": {
      "text/html": [
       "<div>\n",
       "<style scoped>\n",
       "    .dataframe tbody tr th:only-of-type {\n",
       "        vertical-align: middle;\n",
       "    }\n",
       "\n",
       "    .dataframe tbody tr th {\n",
       "        vertical-align: top;\n",
       "    }\n",
       "\n",
       "    .dataframe thead th {\n",
       "        text-align: right;\n",
       "    }\n",
       "</style>\n",
       "<table border=\"1\" class=\"dataframe\">\n",
       "  <thead>\n",
       "    <tr style=\"text-align: right;\">\n",
       "      <th></th>\n",
       "      <th>key</th>\n",
       "      <th>value_l</th>\n",
       "      <th>value_r</th>\n",
       "      <th>_merge</th>\n",
       "    </tr>\n",
       "  </thead>\n",
       "  <tbody>\n",
       "    <tr>\n",
       "      <th>0</th>\n",
       "      <td>key1</td>\n",
       "      <td>1</td>\n",
       "      <td>1.0</td>\n",
       "      <td>both</td>\n",
       "    </tr>\n",
       "    <tr>\n",
       "      <th>1</th>\n",
       "      <td>key2</td>\n",
       "      <td>2</td>\n",
       "      <td>2.0</td>\n",
       "      <td>both</td>\n",
       "    </tr>\n",
       "    <tr>\n",
       "      <th>2</th>\n",
       "      <td>key3</td>\n",
       "      <td>3</td>\n",
       "      <td>3.0</td>\n",
       "      <td>both</td>\n",
       "    </tr>\n",
       "    <tr>\n",
       "      <th>3</th>\n",
       "      <td>key4</td>\n",
       "      <td>4</td>\n",
       "      <td>NaN</td>\n",
       "      <td>left_only</td>\n",
       "    </tr>\n",
       "  </tbody>\n",
       "</table>\n",
       "</div>"
      ],
      "text/plain": [
       "    key  value_l  value_r     _merge\n",
       "0  key1        1      1.0       both\n",
       "1  key2        2      2.0       both\n",
       "2  key3        3      3.0       both\n",
       "3  key4        4      NaN  left_only"
      ]
     },
     "execution_count": 7,
     "metadata": {},
     "output_type": "execute_result"
    }
   ],
   "source": [
    "df_merge = left.merge(right, on='key', how='left', indicator=True)\n",
    "df_merge"
   ]
  },
  {
   "cell_type": "markdown",
   "metadata": {},
   "source": [
    "The `_merge` column can be used to check if there is an expected number of rows with values from both DataFrames."
   ]
  },
  {
   "cell_type": "code",
   "execution_count": 8,
   "metadata": {},
   "outputs": [
    {
     "data": {
      "text/plain": [
       "both          3\n",
       "left_only     1\n",
       "right_only    0\n",
       "Name: _merge, dtype: int64"
      ]
     },
     "execution_count": 8,
     "metadata": {},
     "output_type": "execute_result"
    }
   ],
   "source": [
    "df_merge._merge.value_counts()"
   ]
  },
  {
   "cell_type": "markdown",
   "metadata": {},
   "source": [
    "## 3. Nearest merge\n",
    "\n",
    "When working with financial data, like stocks or cryptocurrencies, we may need to combine quotes (price changes) with actual trades.\n",
    "Let's say that we would like to merge each trade with a quote that occurred a few milliseconds before it.\n",
    "Pandas has a function merge_asof, which enables merging DataFrames by the nearest key (timestamp in our example).\n",
    "The datasets quotes and trades are taken from [pandas example](https://pandas.pydata.org/pandas-docs/stable/reference/api/pandas.DataFrame.merge.html)"
   ]
  },
  {
   "cell_type": "markdown",
   "metadata": {},
   "source": [
    "The quotes DataFrame contains price changes for different stocks. \n",
    "Usually, there are many more quotes than trades."
   ]
  },
  {
   "cell_type": "code",
   "execution_count": 9,
   "metadata": {},
   "outputs": [
    {
     "data": {
      "text/plain": [
       "(8, 4)"
      ]
     },
     "execution_count": 9,
     "metadata": {},
     "output_type": "execute_result"
    }
   ],
   "source": [
    "quotes = pd.DataFrame(\n",
    "    [\n",
    "        [\"2016-05-25 13:30:00.023\", \"GOOG\", 720.50, 720.93],\n",
    "        [\"2016-05-25 13:30:00.023\", \"MSFT\", 51.95, 51.96],\n",
    "        [\"2016-05-25 13:30:00.030\", \"MSFT\", 51.97, 51.98],\n",
    "        [\"2016-05-25 13:30:00.041\", \"MSFT\", 51.99, 52.00],\n",
    "        [\"2016-05-25 13:30:00.048\", \"GOOG\", 720.50, 720.93],\n",
    "        [\"2016-05-25 13:30:00.049\", \"AAPL\", 97.99, 98.01],\n",
    "        [\"2016-05-25 13:30:00.072\", \"GOOG\", 720.50, 720.88],\n",
    "        [\"2016-05-25 13:30:00.075\", \"MSFT\", 52.01, 52.03],\n",
    "    ],\n",
    "    columns=[\"timestamp\", \"ticker\", \"bid\", \"ask\"],\n",
    ")\n",
    "quotes['timestamp'] = pd.to_datetime(quotes['timestamp'])\n",
    "quotes.shape"
   ]
  },
  {
   "cell_type": "code",
   "execution_count": 10,
   "metadata": {},
   "outputs": [
    {
     "data": {
      "text/html": [
       "<div>\n",
       "<style scoped>\n",
       "    .dataframe tbody tr th:only-of-type {\n",
       "        vertical-align: middle;\n",
       "    }\n",
       "\n",
       "    .dataframe tbody tr th {\n",
       "        vertical-align: top;\n",
       "    }\n",
       "\n",
       "    .dataframe thead th {\n",
       "        text-align: right;\n",
       "    }\n",
       "</style>\n",
       "<table border=\"1\" class=\"dataframe\">\n",
       "  <thead>\n",
       "    <tr style=\"text-align: right;\">\n",
       "      <th></th>\n",
       "      <th>timestamp</th>\n",
       "      <th>ticker</th>\n",
       "      <th>bid</th>\n",
       "      <th>ask</th>\n",
       "    </tr>\n",
       "  </thead>\n",
       "  <tbody>\n",
       "    <tr>\n",
       "      <th>0</th>\n",
       "      <td>2016-05-25 13:30:00.023</td>\n",
       "      <td>GOOG</td>\n",
       "      <td>720.50</td>\n",
       "      <td>720.93</td>\n",
       "    </tr>\n",
       "    <tr>\n",
       "      <th>1</th>\n",
       "      <td>2016-05-25 13:30:00.023</td>\n",
       "      <td>MSFT</td>\n",
       "      <td>51.95</td>\n",
       "      <td>51.96</td>\n",
       "    </tr>\n",
       "    <tr>\n",
       "      <th>2</th>\n",
       "      <td>2016-05-25 13:30:00.030</td>\n",
       "      <td>MSFT</td>\n",
       "      <td>51.97</td>\n",
       "      <td>51.98</td>\n",
       "    </tr>\n",
       "    <tr>\n",
       "      <th>3</th>\n",
       "      <td>2016-05-25 13:30:00.041</td>\n",
       "      <td>MSFT</td>\n",
       "      <td>51.99</td>\n",
       "      <td>52.00</td>\n",
       "    </tr>\n",
       "    <tr>\n",
       "      <th>4</th>\n",
       "      <td>2016-05-25 13:30:00.048</td>\n",
       "      <td>GOOG</td>\n",
       "      <td>720.50</td>\n",
       "      <td>720.93</td>\n",
       "    </tr>\n",
       "    <tr>\n",
       "      <th>5</th>\n",
       "      <td>2016-05-25 13:30:00.049</td>\n",
       "      <td>AAPL</td>\n",
       "      <td>97.99</td>\n",
       "      <td>98.01</td>\n",
       "    </tr>\n",
       "    <tr>\n",
       "      <th>6</th>\n",
       "      <td>2016-05-25 13:30:00.072</td>\n",
       "      <td>GOOG</td>\n",
       "      <td>720.50</td>\n",
       "      <td>720.88</td>\n",
       "    </tr>\n",
       "    <tr>\n",
       "      <th>7</th>\n",
       "      <td>2016-05-25 13:30:00.075</td>\n",
       "      <td>MSFT</td>\n",
       "      <td>52.01</td>\n",
       "      <td>52.03</td>\n",
       "    </tr>\n",
       "  </tbody>\n",
       "</table>\n",
       "</div>"
      ],
      "text/plain": [
       "                timestamp ticker     bid     ask\n",
       "0 2016-05-25 13:30:00.023   GOOG  720.50  720.93\n",
       "1 2016-05-25 13:30:00.023   MSFT   51.95   51.96\n",
       "2 2016-05-25 13:30:00.030   MSFT   51.97   51.98\n",
       "3 2016-05-25 13:30:00.041   MSFT   51.99   52.00\n",
       "4 2016-05-25 13:30:00.048   GOOG  720.50  720.93\n",
       "5 2016-05-25 13:30:00.049   AAPL   97.99   98.01\n",
       "6 2016-05-25 13:30:00.072   GOOG  720.50  720.88\n",
       "7 2016-05-25 13:30:00.075   MSFT   52.01   52.03"
      ]
     },
     "execution_count": 10,
     "metadata": {},
     "output_type": "execute_result"
    }
   ],
   "source": [
    "quotes"
   ]
  },
  {
   "cell_type": "markdown",
   "metadata": {},
   "source": [
    "The trades DataFrame contains trades of different stocks."
   ]
  },
  {
   "cell_type": "code",
   "execution_count": 11,
   "metadata": {},
   "outputs": [
    {
     "data": {
      "text/plain": [
       "(5, 4)"
      ]
     },
     "execution_count": 11,
     "metadata": {},
     "output_type": "execute_result"
    }
   ],
   "source": [
    "trades = pd.DataFrame(\n",
    "    [\n",
    "        [\"2016-05-25 13:30:00.023\", \"MSFT\", 51.95, 75],\n",
    "        [\"2016-05-25 13:30:00.038\", \"MSFT\", 51.95, 155],\n",
    "        [\"2016-05-25 13:30:00.048\", \"GOOG\", 720.77, 100],\n",
    "        [\"2016-05-25 13:30:00.048\", \"GOOG\", 720.92, 100],\n",
    "        [\"2016-05-25 13:30:00.048\", \"AAPL\", 98.00, 100],\n",
    "    ],\n",
    "    columns=[\"timestamp\", \"ticker\", \"price\", \"quantity\"],\n",
    ")\n",
    "trades['timestamp'] = pd.to_datetime(trades['timestamp'])\n",
    "trades.shape"
   ]
  },
  {
   "cell_type": "code",
   "execution_count": 12,
   "metadata": {},
   "outputs": [
    {
     "data": {
      "text/html": [
       "<div>\n",
       "<style scoped>\n",
       "    .dataframe tbody tr th:only-of-type {\n",
       "        vertical-align: middle;\n",
       "    }\n",
       "\n",
       "    .dataframe tbody tr th {\n",
       "        vertical-align: top;\n",
       "    }\n",
       "\n",
       "    .dataframe thead th {\n",
       "        text-align: right;\n",
       "    }\n",
       "</style>\n",
       "<table border=\"1\" class=\"dataframe\">\n",
       "  <thead>\n",
       "    <tr style=\"text-align: right;\">\n",
       "      <th></th>\n",
       "      <th>timestamp</th>\n",
       "      <th>ticker</th>\n",
       "      <th>price</th>\n",
       "      <th>quantity</th>\n",
       "    </tr>\n",
       "  </thead>\n",
       "  <tbody>\n",
       "    <tr>\n",
       "      <th>0</th>\n",
       "      <td>2016-05-25 13:30:00.023</td>\n",
       "      <td>MSFT</td>\n",
       "      <td>51.95</td>\n",
       "      <td>75</td>\n",
       "    </tr>\n",
       "    <tr>\n",
       "      <th>1</th>\n",
       "      <td>2016-05-25 13:30:00.038</td>\n",
       "      <td>MSFT</td>\n",
       "      <td>51.95</td>\n",
       "      <td>155</td>\n",
       "    </tr>\n",
       "    <tr>\n",
       "      <th>2</th>\n",
       "      <td>2016-05-25 13:30:00.048</td>\n",
       "      <td>GOOG</td>\n",
       "      <td>720.77</td>\n",
       "      <td>100</td>\n",
       "    </tr>\n",
       "    <tr>\n",
       "      <th>3</th>\n",
       "      <td>2016-05-25 13:30:00.048</td>\n",
       "      <td>GOOG</td>\n",
       "      <td>720.92</td>\n",
       "      <td>100</td>\n",
       "    </tr>\n",
       "    <tr>\n",
       "      <th>4</th>\n",
       "      <td>2016-05-25 13:30:00.048</td>\n",
       "      <td>AAPL</td>\n",
       "      <td>98.00</td>\n",
       "      <td>100</td>\n",
       "    </tr>\n",
       "  </tbody>\n",
       "</table>\n",
       "</div>"
      ],
      "text/plain": [
       "                timestamp ticker   price  quantity\n",
       "0 2016-05-25 13:30:00.023   MSFT   51.95        75\n",
       "1 2016-05-25 13:30:00.038   MSFT   51.95       155\n",
       "2 2016-05-25 13:30:00.048   GOOG  720.77       100\n",
       "3 2016-05-25 13:30:00.048   GOOG  720.92       100\n",
       "4 2016-05-25 13:30:00.048   AAPL   98.00       100"
      ]
     },
     "execution_count": 12,
     "metadata": {},
     "output_type": "execute_result"
    }
   ],
   "source": [
    "trades.head()"
   ]
  },
  {
   "cell_type": "raw",
   "metadata": {},
   "source": [
    "We merge trades and quotes by tickers, where the latest quote can be 10 ms behind the trade.\n",
    "If a quote is more than 10 ms behind the trade or there isn't any quote, the bid and ask for that quote will be null (AAPL ticker in this example). "
   ]
  },
  {
   "cell_type": "code",
   "execution_count": 12,
   "metadata": {},
   "outputs": [
    {
     "data": {
      "text/html": [
       "<div>\n",
       "<style scoped>\n",
       "    .dataframe tbody tr th:only-of-type {\n",
       "        vertical-align: middle;\n",
       "    }\n",
       "\n",
       "    .dataframe tbody tr th {\n",
       "        vertical-align: top;\n",
       "    }\n",
       "\n",
       "    .dataframe thead th {\n",
       "        text-align: right;\n",
       "    }\n",
       "</style>\n",
       "<table border=\"1\" class=\"dataframe\">\n",
       "  <thead>\n",
       "    <tr style=\"text-align: right;\">\n",
       "      <th></th>\n",
       "      <th>timestamp</th>\n",
       "      <th>ticker</th>\n",
       "      <th>price</th>\n",
       "      <th>quantity</th>\n",
       "      <th>bid</th>\n",
       "      <th>ask</th>\n",
       "    </tr>\n",
       "  </thead>\n",
       "  <tbody>\n",
       "    <tr>\n",
       "      <th>0</th>\n",
       "      <td>2016-05-25 13:30:00.023</td>\n",
       "      <td>MSFT</td>\n",
       "      <td>51.95</td>\n",
       "      <td>75</td>\n",
       "      <td>51.95</td>\n",
       "      <td>51.96</td>\n",
       "    </tr>\n",
       "    <tr>\n",
       "      <th>1</th>\n",
       "      <td>2016-05-25 13:30:00.038</td>\n",
       "      <td>MSFT</td>\n",
       "      <td>51.95</td>\n",
       "      <td>155</td>\n",
       "      <td>51.97</td>\n",
       "      <td>51.98</td>\n",
       "    </tr>\n",
       "    <tr>\n",
       "      <th>2</th>\n",
       "      <td>2016-05-25 13:30:00.048</td>\n",
       "      <td>GOOG</td>\n",
       "      <td>720.77</td>\n",
       "      <td>100</td>\n",
       "      <td>720.50</td>\n",
       "      <td>720.93</td>\n",
       "    </tr>\n",
       "    <tr>\n",
       "      <th>3</th>\n",
       "      <td>2016-05-25 13:30:00.048</td>\n",
       "      <td>GOOG</td>\n",
       "      <td>720.92</td>\n",
       "      <td>100</td>\n",
       "      <td>720.50</td>\n",
       "      <td>720.93</td>\n",
       "    </tr>\n",
       "    <tr>\n",
       "      <th>4</th>\n",
       "      <td>2016-05-25 13:30:00.048</td>\n",
       "      <td>AAPL</td>\n",
       "      <td>98.00</td>\n",
       "      <td>100</td>\n",
       "      <td>NaN</td>\n",
       "      <td>NaN</td>\n",
       "    </tr>\n",
       "  </tbody>\n",
       "</table>\n",
       "</div>"
      ],
      "text/plain": [
       "                timestamp ticker   price  quantity     bid     ask\n",
       "0 2016-05-25 13:30:00.023   MSFT   51.95        75   51.95   51.96\n",
       "1 2016-05-25 13:30:00.038   MSFT   51.95       155   51.97   51.98\n",
       "2 2016-05-25 13:30:00.048   GOOG  720.77       100  720.50  720.93\n",
       "3 2016-05-25 13:30:00.048   GOOG  720.92       100  720.50  720.93\n",
       "4 2016-05-25 13:30:00.048   AAPL   98.00       100     NaN     NaN"
      ]
     },
     "execution_count": 12,
     "metadata": {},
     "output_type": "execute_result"
    }
   ],
   "source": [
    "pd.merge_asof(trades, quotes, on=\"timestamp\", by='ticker', tolerance=pd.Timedelta('10ms'), direction='backward')"
   ]
  },
  {
   "cell_type": "markdown",
   "metadata": {},
   "source": [
    "## 4. Create an Excel report\n",
    "\n",
    "Pandas (with XlsxWriter library) enables us to create an Excel report from the DataFrame. \n",
    "This is a major time saver - no more saving a DataFrame to CSV and then formatting it in Excel.\n",
    "We can also add all kinds of [charts](https://pandas-xlsxwriter-charts.readthedocs.io/), etc."
   ]
  },
  {
   "cell_type": "code",
   "execution_count": 14,
   "metadata": {},
   "outputs": [],
   "source": [
    "import numpy as np"
   ]
  },
  {
   "cell_type": "code",
   "execution_count": 15,
   "metadata": {},
   "outputs": [
    {
     "data": {
      "text/plain": [
       "(3, 3)"
      ]
     },
     "execution_count": 15,
     "metadata": {},
     "output_type": "execute_result"
    }
   ],
   "source": [
    "df = pd.DataFrame(np.array([[1, 2, 3], [4, 5, 6], [7, 8, 9]]), columns=[\"a\", \"b\", \"c\"])\n",
    "df.shape"
   ]
  },
  {
   "cell_type": "markdown",
   "metadata": {},
   "source": [
    "The code snippet below creates an Excel report. To save a DataFrame to the Excel file, uncomment the `writer.save()` line."
   ]
  },
  {
   "cell_type": "code",
   "execution_count": 18,
   "metadata": {},
   "outputs": [],
   "source": [
    "report_name = 'example_report.xlsx'\n",
    "sheet_name = 'Sheet1'\n",
    "\n",
    "writer = pd.ExcelWriter(report_name, engine='xlsxwriter')\n",
    "df.to_excel(writer, sheet_name=sheet_name, index=False)\n",
    "writer.save()"
   ]
  },
  {
   "cell_type": "markdown",
   "metadata": {},
   "source": [
    "As mentioned before, the library also supports adding charts to the Excel report.\n",
    "We need to define the type of the chart (line chart in our example) and the data series for the chart (the data series needs to be in the Excel spreadsheet)."
   ]
  },
  {
   "cell_type": "code",
   "execution_count": 20,
   "metadata": {},
   "outputs": [],
   "source": [
    "# define the workbook\n",
    "workbook = writer.book\n",
    "worksheet = writer.sheets[sheet_name]\n",
    "\n",
    "# create a chart line object\n",
    "chart = workbook.add_chart({'type': 'line'})\n",
    "\n",
    "# configure the series of the chart from the spreadsheet\n",
    "# using a list of values instead of category/value formulas:\n",
    "#     [sheetname, first_row, first_col, last_row, last_col]\n",
    "chart.add_series({\n",
    "    'categories': [sheet_name, 1, 0, 3, 0],\n",
    "    'values':     [sheet_name, 1, 1, 3, 1],\n",
    "})\n",
    "\n",
    "# configure the chart axes\n",
    "chart.set_x_axis({'name': 'Index', 'position_axis': 'on_tick'})\n",
    "chart.set_y_axis({'name': 'Value', 'major_gridlines': {'visible': False}})\n",
    "\n",
    "# place the chart on the worksheet\n",
    "worksheet.insert_chart('E2', chart)\n",
    "\n",
    "# output the excel file\n",
    "writer.save()"
   ]
  },
  {
   "cell_type": "markdown",
   "metadata": {},
   "source": [
    "## 5. Save the disk space\n",
    "\n",
    "When working on multiple Data Science projects, you usually end up with many preprocessed datasets from different experiments.\n",
    "Your SSD on a laptop can get cluttered quickly.\n",
    "Pandas enables you to compress the dataset when saving it and then reading back in compressed format."
   ]
  },
  {
   "cell_type": "markdown",
   "metadata": {},
   "source": [
    "Let's create a big pandas DataFrame with random numbers."
   ]
  },
  {
   "cell_type": "code",
   "execution_count": 22,
   "metadata": {},
   "outputs": [
    {
     "data": {
      "text/plain": [
       "(50000, 300)"
      ]
     },
     "execution_count": 22,
     "metadata": {},
     "output_type": "execute_result"
    }
   ],
   "source": [
    "df = pd.DataFrame(np.random.randn(50000,300))\n",
    "df.shape"
   ]
  },
  {
   "cell_type": "code",
   "execution_count": 23,
   "metadata": {},
   "outputs": [
    {
     "data": {
      "text/html": [
       "<div>\n",
       "<style scoped>\n",
       "    .dataframe tbody tr th:only-of-type {\n",
       "        vertical-align: middle;\n",
       "    }\n",
       "\n",
       "    .dataframe tbody tr th {\n",
       "        vertical-align: top;\n",
       "    }\n",
       "\n",
       "    .dataframe thead th {\n",
       "        text-align: right;\n",
       "    }\n",
       "</style>\n",
       "<table border=\"1\" class=\"dataframe\">\n",
       "  <thead>\n",
       "    <tr style=\"text-align: right;\">\n",
       "      <th></th>\n",
       "      <th>0</th>\n",
       "      <th>1</th>\n",
       "      <th>2</th>\n",
       "      <th>3</th>\n",
       "      <th>4</th>\n",
       "      <th>5</th>\n",
       "      <th>6</th>\n",
       "      <th>7</th>\n",
       "      <th>8</th>\n",
       "      <th>9</th>\n",
       "      <th>...</th>\n",
       "      <th>290</th>\n",
       "      <th>291</th>\n",
       "      <th>292</th>\n",
       "      <th>293</th>\n",
       "      <th>294</th>\n",
       "      <th>295</th>\n",
       "      <th>296</th>\n",
       "      <th>297</th>\n",
       "      <th>298</th>\n",
       "      <th>299</th>\n",
       "    </tr>\n",
       "  </thead>\n",
       "  <tbody>\n",
       "    <tr>\n",
       "      <th>0</th>\n",
       "      <td>-0.104492</td>\n",
       "      <td>-1.192783</td>\n",
       "      <td>-1.125230</td>\n",
       "      <td>0.449183</td>\n",
       "      <td>0.447411</td>\n",
       "      <td>0.865693</td>\n",
       "      <td>-0.256284</td>\n",
       "      <td>-1.362297</td>\n",
       "      <td>1.646809</td>\n",
       "      <td>0.022523</td>\n",
       "      <td>...</td>\n",
       "      <td>-0.310960</td>\n",
       "      <td>0.210653</td>\n",
       "      <td>0.216976</td>\n",
       "      <td>0.013279</td>\n",
       "      <td>1.354123</td>\n",
       "      <td>1.247548</td>\n",
       "      <td>-0.077878</td>\n",
       "      <td>0.890103</td>\n",
       "      <td>-1.442470</td>\n",
       "      <td>-0.297368</td>\n",
       "    </tr>\n",
       "    <tr>\n",
       "      <th>1</th>\n",
       "      <td>-1.857127</td>\n",
       "      <td>0.228509</td>\n",
       "      <td>-0.207790</td>\n",
       "      <td>1.116918</td>\n",
       "      <td>-0.129379</td>\n",
       "      <td>-0.627351</td>\n",
       "      <td>0.971476</td>\n",
       "      <td>-1.044035</td>\n",
       "      <td>0.503027</td>\n",
       "      <td>-0.584438</td>\n",
       "      <td>...</td>\n",
       "      <td>1.136544</td>\n",
       "      <td>-2.267090</td>\n",
       "      <td>0.630062</td>\n",
       "      <td>-0.185475</td>\n",
       "      <td>-0.450560</td>\n",
       "      <td>-0.837168</td>\n",
       "      <td>-0.379570</td>\n",
       "      <td>-0.384447</td>\n",
       "      <td>0.032870</td>\n",
       "      <td>-0.305531</td>\n",
       "    </tr>\n",
       "    <tr>\n",
       "      <th>2</th>\n",
       "      <td>0.607123</td>\n",
       "      <td>-0.036956</td>\n",
       "      <td>0.324988</td>\n",
       "      <td>-1.280504</td>\n",
       "      <td>-0.709948</td>\n",
       "      <td>0.952832</td>\n",
       "      <td>-0.222609</td>\n",
       "      <td>0.140018</td>\n",
       "      <td>1.015334</td>\n",
       "      <td>1.740781</td>\n",
       "      <td>...</td>\n",
       "      <td>-1.364855</td>\n",
       "      <td>0.082700</td>\n",
       "      <td>0.170540</td>\n",
       "      <td>-0.716544</td>\n",
       "      <td>0.873500</td>\n",
       "      <td>-1.546191</td>\n",
       "      <td>-0.255314</td>\n",
       "      <td>-1.043906</td>\n",
       "      <td>-0.721152</td>\n",
       "      <td>-0.605607</td>\n",
       "    </tr>\n",
       "    <tr>\n",
       "      <th>3</th>\n",
       "      <td>1.495182</td>\n",
       "      <td>-0.081596</td>\n",
       "      <td>0.007765</td>\n",
       "      <td>-2.127593</td>\n",
       "      <td>0.468819</td>\n",
       "      <td>-0.487132</td>\n",
       "      <td>0.884707</td>\n",
       "      <td>-0.498685</td>\n",
       "      <td>-0.670018</td>\n",
       "      <td>-0.270024</td>\n",
       "      <td>...</td>\n",
       "      <td>-0.529358</td>\n",
       "      <td>1.236618</td>\n",
       "      <td>1.225891</td>\n",
       "      <td>1.050789</td>\n",
       "      <td>0.921116</td>\n",
       "      <td>0.141758</td>\n",
       "      <td>-0.224311</td>\n",
       "      <td>0.457823</td>\n",
       "      <td>0.175800</td>\n",
       "      <td>0.244563</td>\n",
       "    </tr>\n",
       "    <tr>\n",
       "      <th>4</th>\n",
       "      <td>0.515673</td>\n",
       "      <td>0.384206</td>\n",
       "      <td>-1.767382</td>\n",
       "      <td>1.048877</td>\n",
       "      <td>1.177544</td>\n",
       "      <td>0.980238</td>\n",
       "      <td>-0.508858</td>\n",
       "      <td>-0.790550</td>\n",
       "      <td>1.472458</td>\n",
       "      <td>-0.467334</td>\n",
       "      <td>...</td>\n",
       "      <td>1.232349</td>\n",
       "      <td>-0.154896</td>\n",
       "      <td>1.738258</td>\n",
       "      <td>0.775427</td>\n",
       "      <td>0.696980</td>\n",
       "      <td>-0.274359</td>\n",
       "      <td>1.955505</td>\n",
       "      <td>-0.549390</td>\n",
       "      <td>-0.798476</td>\n",
       "      <td>-1.464946</td>\n",
       "    </tr>\n",
       "  </tbody>\n",
       "</table>\n",
       "<p>5 rows × 300 columns</p>\n",
       "</div>"
      ],
      "text/plain": [
       "        0         1         2         3         4         5         6    \\\n",
       "0 -0.104492 -1.192783 -1.125230  0.449183  0.447411  0.865693 -0.256284   \n",
       "1 -1.857127  0.228509 -0.207790  1.116918 -0.129379 -0.627351  0.971476   \n",
       "2  0.607123 -0.036956  0.324988 -1.280504 -0.709948  0.952832 -0.222609   \n",
       "3  1.495182 -0.081596  0.007765 -2.127593  0.468819 -0.487132  0.884707   \n",
       "4  0.515673  0.384206 -1.767382  1.048877  1.177544  0.980238 -0.508858   \n",
       "\n",
       "        7         8         9    ...       290       291       292       293  \\\n",
       "0 -1.362297  1.646809  0.022523  ... -0.310960  0.210653  0.216976  0.013279   \n",
       "1 -1.044035  0.503027 -0.584438  ...  1.136544 -2.267090  0.630062 -0.185475   \n",
       "2  0.140018  1.015334  1.740781  ... -1.364855  0.082700  0.170540 -0.716544   \n",
       "3 -0.498685 -0.670018 -0.270024  ... -0.529358  1.236618  1.225891  1.050789   \n",
       "4 -0.790550  1.472458 -0.467334  ...  1.232349 -0.154896  1.738258  0.775427   \n",
       "\n",
       "        294       295       296       297       298       299  \n",
       "0  1.354123  1.247548 -0.077878  0.890103 -1.442470 -0.297368  \n",
       "1 -0.450560 -0.837168 -0.379570 -0.384447  0.032870 -0.305531  \n",
       "2  0.873500 -1.546191 -0.255314 -1.043906 -0.721152 -0.605607  \n",
       "3  0.921116  0.141758 -0.224311  0.457823  0.175800  0.244563  \n",
       "4  0.696980 -0.274359  1.955505 -0.549390 -0.798476 -1.464946  \n",
       "\n",
       "[5 rows x 300 columns]"
      ]
     },
     "execution_count": 23,
     "metadata": {},
     "output_type": "execute_result"
    }
   ],
   "source": [
    "df.head()"
   ]
  },
  {
   "cell_type": "markdown",
   "metadata": {},
   "source": [
    "When we save this file as CSV, it takes almost 300 MB on the hard drive."
   ]
  },
  {
   "cell_type": "code",
   "execution_count": 24,
   "metadata": {},
   "outputs": [
    {
     "data": {
      "text/plain": [
       "(50000, 300)"
      ]
     },
     "execution_count": 24,
     "metadata": {},
     "output_type": "execute_result"
    }
   ],
   "source": [
    "df.to_csv('random_data.csv', index=False)\n",
    "df.shape"
   ]
  },
  {
   "cell_type": "markdown",
   "metadata": {},
   "source": [
    "With a single argument `compression='gzip'`, we can reduce the file size to 136 MB."
   ]
  },
  {
   "cell_type": "code",
   "execution_count": 25,
   "metadata": {},
   "outputs": [
    {
     "data": {
      "text/plain": [
       "(50000, 300)"
      ]
     },
     "execution_count": 25,
     "metadata": {},
     "output_type": "execute_result"
    }
   ],
   "source": [
    "df.to_csv('random_data.gz', compression='gzip', index=False)\n",
    "df.shape"
   ]
  },
  {
   "cell_type": "markdown",
   "metadata": {},
   "source": [
    "It is also easy to read the gzipped data to the DataFrame, so we don't lose any functionality."
   ]
  },
  {
   "cell_type": "code",
   "execution_count": 26,
   "metadata": {},
   "outputs": [
    {
     "data": {
      "text/plain": [
       "(50000, 300)"
      ]
     },
     "execution_count": 26,
     "metadata": {},
     "output_type": "execute_result"
    }
   ],
   "source": [
    "df = pd.read_csv('random_data.gz')\n",
    "df.shape"
   ]
  },
  {
   "cell_type": "code",
   "execution_count": 27,
   "metadata": {},
   "outputs": [
    {
     "data": {
      "text/plain": [
       "(50000, 300)"
      ]
     },
     "execution_count": 27,
     "metadata": {},
     "output_type": "execute_result"
    }
   ],
   "source": [
    "df.to_csv('random_data.zip', compression='zip', index=False)\n",
    "df.shape"
   ]
  },
  {
   "cell_type": "markdown",
   "metadata": {},
   "source": [
    "## Conclusion\n",
    "\n",
    "These tricks help me daily to be more productive with pandas.\n",
    "Hopefully, this blog post showed you a new pandas function, that will help you to be more productive. \n",
    "\n",
    "What's your favorite pandas trick?"
   ]
  }
 ],
 "metadata": {
  "kernelspec": {
   "display_name": "Python 3",
   "language": "python",
   "name": "python3"
  },
  "language_info": {
   "codemirror_mode": {
    "name": "ipython",
    "version": 3
   },
   "file_extension": ".py",
   "mimetype": "text/x-python",
   "name": "python",
   "nbconvert_exporter": "python",
   "pygments_lexer": "ipython3",
   "version": "3.8.1"
  }
 },
 "nbformat": 4,
 "nbformat_minor": 4
}
