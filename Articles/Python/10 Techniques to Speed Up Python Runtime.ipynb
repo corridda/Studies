{
 "cells": [
  {
   "cell_type": "markdown",
   "metadata": {},
   "source": [
    "# [10 Techniques to Speed Up Python Runtime](https://towardsdatascience.com/10-techniques-to-speed-up-python-runtime-95e213e925dc)\n",
    "## Compare good writing style and bad writing style with the code runtime\n",
    "\n",
    "Python is a scripting language. Compared with compiled languages like C/C++, Python has some disadvantages in efficiency and performance. However, we could use some techniques to speed up the efficiency of Python code. In this article, I will show you the speed-up techniques I usually used in my work.\n",
    "The test environment is Python 3.7, with macOS 10.14.6, and 2.3 GHz Intel Core i5."
   ]
  },
  {
   "cell_type": "code",
   "execution_count": 1,
   "metadata": {},
   "outputs": [],
   "source": [
    "from time import perf_counter, perf_counter_ns\n",
    "from functools import wraps\n",
    "\n",
    "def timethis(func):\n",
    "    \"\"\"Decorator that reports the execution time.\"\"\"\n",
    "    @wraps(func)\n",
    "    def wrapper(*args, **kwargs):\n",
    "        start_1 = perf_counter()\n",
    "        start_2 = perf_counter_ns()\n",
    "        result = func(*args, **kwargs)\n",
    "        print(f\"{func.__name__}: {round(perf_counter() - start_1, 3)} s\")\n",
    "        print(f\"{func.__name__}: {perf_counter_ns() - start_2:_} ns\")\n",
    "        return result\n",
    "    return wrapper"
   ]
  },
  {
   "cell_type": "markdown",
   "metadata": {},
   "source": [
    "## 0. Optimization principles\n",
    "Before diving into the details of code optimization, we need to understand some basic principles of code optimization.\n",
    "1. Make sure that the code can work normally first. Because making the correct program faster is much easier than making the fast program correct.\n",
    "2. Weigh the cost of optimization. Optimization comes with a cost. For example, less runtime usually needs more space usage, or less space usage usually need more runtime.\n",
    "3. Optimization cannot sacrifice code readability."
   ]
  },
  {
   "cell_type": "markdown",
   "metadata": {},
   "source": [
    "## 1. Proper Data Types Usage in Python\n",
    "### 1.1 Replace list with set to check whether an element is in a sequence"
   ]
  },
  {
   "cell_type": "code",
   "execution_count": 4,
   "metadata": {},
   "outputs": [],
   "source": [
    "import random"
   ]
  },
  {
   "cell_type": "code",
   "execution_count": 3,
   "metadata": {},
   "outputs": [
    {
     "name": "stdout",
     "output_type": "stream",
     "text": [
      "bad: 10.42s\n"
     ]
    }
   ],
   "source": [
    "# Bad\n",
    "@timethis\n",
    "def bad():\n",
    "    randome_elements = random.sample(range(0, 10000000), 1000)\n",
    "    list_seq = list(range(1_000_000)) # list\n",
    "\n",
    "    counter = 0\n",
    "    for ele in randome_elements:\n",
    "        if ele in list_seq:\n",
    "            counter += 1\n",
    "\n",
    "bad()"
   ]
  },
  {
   "cell_type": "markdown",
   "metadata": {},
   "source": [
    "According to the TimeComplexity of Python, the average case of $x$ in $s$ operation of list is $O(n)$. On the other hand, the average case of $x$ in $s$ operation of set is $O(1)$."
   ]
  },
  {
   "cell_type": "code",
   "execution_count": 6,
   "metadata": {},
   "outputs": [
    {
     "name": "stdout",
     "output_type": "stream",
     "text": [
      "good: 0.06s\n"
     ]
    }
   ],
   "source": [
    "# Good\n",
    "@timethis\n",
    "def good():\n",
    "    randome_elements = random.sample(range(0, 10000000), 1000)\n",
    "    list_seq = set(range(1_000_000)) # set\n",
    "\n",
    "    counter = 0\n",
    "    for ele in randome_elements:\n",
    "        if ele in list_seq:\n",
    "            counter += 1\n",
    "\n",
    "good()"
   ]
  },
  {
   "cell_type": "markdown",
   "metadata": {},
   "source": [
    "### 1.2 Dictionary initialization with defaultdict"
   ]
  },
  {
   "cell_type": "code",
   "execution_count": 7,
   "metadata": {},
   "outputs": [
    {
     "name": "stdout",
     "output_type": "stream",
     "text": [
      "bad: 2.66s\n"
     ]
    }
   ],
   "source": [
    "# Bad\n",
    "@timethis\n",
    "def bad():\n",
    "    sentence = 'When I originally wrote this section, there were clear situations where one of the first two approaches was faster. It seems that all three approaches now exhibit similar performance (within about 10% of each other), more or less independent of the properties of the list of words.'\n",
    "\n",
    "    for i in range(100_000):\n",
    "        wdict = {}  ###\n",
    "        for word in sentence:\n",
    "            try:\n",
    "                wdict[word] += 1\n",
    "            except KeyError:\n",
    "                wdict[word] = 1\n",
    "        del wdict\n",
    "\n",
    "bad()"
   ]
  },
  {
   "cell_type": "markdown",
   "metadata": {},
   "source": [
    "We should use **defaultdict** for the initialization."
   ]
  },
  {
   "cell_type": "code",
   "execution_count": 9,
   "metadata": {},
   "outputs": [
    {
     "name": "stdout",
     "output_type": "stream",
     "text": [
      "good: 2.25s\n"
     ]
    }
   ],
   "source": [
    "# Good\n",
    "@timethis\n",
    "def good():\n",
    "    sentence = 'When I originally wrote this section, there were clear situations where one of the first two approaches was faster. It seems that all three approaches now exhibit similar performance (within about 10% of each other), more or less independent of the properties of the list of words.'\n",
    "    for i in range(100_000):\n",
    "        wdict = defaultdict(int)  ###\n",
    "        for word in sentence:\n",
    "            wdict[word] += 1\n",
    "        del wdict\n",
    "\n",
    "good()"
   ]
  },
  {
   "cell_type": "markdown",
   "metadata": {},
   "source": [
    "## 2. Replace list comprehension with generator expressions"
   ]
  },
  {
   "cell_type": "code",
   "execution_count": 22,
   "metadata": {},
   "outputs": [
    {
     "name": "stdout",
     "output_type": "stream",
     "text": [
      "bad: 0.283 s\n",
      "bad: 283_231_300 ns\n"
     ]
    }
   ],
   "source": [
    "# Bad\n",
    "@timethis\n",
    "def bad():\n",
    "    nums_sum_list_comprehension = sum([num**2 for num in range(1_000_000)])\n",
    "\n",
    "bad()"
   ]
  },
  {
   "cell_type": "code",
   "execution_count": 23,
   "metadata": {},
   "outputs": [
    {
     "name": "stdout",
     "output_type": "stream",
     "text": [
      "good: 0.267 s\n",
      "good: 266_883_100 ns\n"
     ]
    }
   ],
   "source": [
    "# Good\n",
    "@timethis\n",
    "def good():\n",
    "    nums_sum_generator_expression = sum((num**2 for num in range(1_000_000)))\n",
    "\n",
    "good()"
   ]
  },
  {
   "cell_type": "markdown",
   "metadata": {},
   "source": [
    "Another benefit of generator expression is that we can get the result without building and holding the entire list object in memory before iteration. In other words, generator expression saves memory usage."
   ]
  },
  {
   "cell_type": "code",
   "execution_count": 28,
   "metadata": {},
   "outputs": [
    {
     "name": "stdout",
     "output_type": "stream",
     "text": [
      "8448728\n",
      "112\n"
     ]
    }
   ],
   "source": [
    "import sys\n",
    "# Bad\n",
    "nums_squared_list = [num**2 for num in range(1_000_000)]\n",
    "print(sys.getsizeof(nums_squared_list))\n",
    "\n",
    "# Good\n",
    "nums_squared_generator = (num**2 for num in range(1_000_000))\n",
    "print(sys.getsizeof(nums_squared_generator))"
   ]
  },
  {
   "cell_type": "markdown",
   "metadata": {},
   "source": [
    "## 3. Replace global variables with local variables\n",
    "We should put the global variables into the function. The local variable is fast than the global variable."
   ]
  },
  {
   "cell_type": "code",
   "execution_count": 33,
   "metadata": {},
   "outputs": [],
   "source": [
    "import math"
   ]
  },
  {
   "cell_type": "code",
   "execution_count": 34,
   "metadata": {},
   "outputs": [
    {
     "name": "stdout",
     "output_type": "stream",
     "text": [
      "bad: 25.24 s\n",
      "bad: 25_239_795_500 ns\n"
     ]
    }
   ],
   "source": [
    "# Bad\n",
    "size = 10000  ###\n",
    "\n",
    "@timethis\n",
    "def bad():\n",
    "    for x in range(size):\n",
    "        for y in range(size):\n",
    "            z = math.sqrt(x) + math.sqrt(y)\n",
    "bad()"
   ]
  },
  {
   "cell_type": "code",
   "execution_count": 35,
   "metadata": {},
   "outputs": [
    {
     "name": "stdout",
     "output_type": "stream",
     "text": [
      "good: 25.402 s\n",
      "good: 25_402_074_500 ns\n"
     ]
    }
   ],
   "source": [
    "# Good\n",
    "@timethis\n",
    "def good():\n",
    "    size = 10000  ###\n",
    "    for x in range(size):\n",
    "        for y in range(size):\n",
    "            z = math.sqrt(x) + math.sqrt(y)\n",
    "good()"
   ]
  },
  {
   "cell_type": "markdown",
   "metadata": {},
   "source": [
    "## 4. Avoid dot operation\n",
    "### 4.1 Avoid function access\n",
    "Every time we use . to access the function, it will trigger specific methods, like **__getattribute__()** and **__getattr__()**. These methods will use the dictionary operation, which will cause a time cost. We can use **from xx import xx** to remove such costs."
   ]
  },
  {
   "cell_type": "code",
   "execution_count": 3,
   "metadata": {},
   "outputs": [
    {
     "name": "stdout",
     "output_type": "stream",
     "text": [
      "main: 15.035 s\n",
      "main: 15_034_908_100 ns\n"
     ]
    }
   ],
   "source": [
    "# Bad\n",
    "import math ###\n",
    "\n",
    "def computeSqrt(size: int):\n",
    "    result = []\n",
    "    for i in range(size):\n",
    "        result.append(math.sqrt(i)) ###\n",
    "    return result\n",
    "\n",
    "@timethis\n",
    "def main():\n",
    "    size = 10000\n",
    "    for _ in range(size):\n",
    "        result = computeSqrt(size)\n",
    "\n",
    "main()"
   ]
  },
  {
   "cell_type": "code",
   "execution_count": 2,
   "metadata": {},
   "outputs": [
    {
     "name": "stdout",
     "output_type": "stream",
     "text": [
      "main: 12.83 s\n",
      "main: 12_830_631_900 ns\n"
     ]
    }
   ],
   "source": [
    "# Good 1\n",
    "from math import sqrt  ###\n",
    "\n",
    "def computeSqrt(size: int):\n",
    "    result = []\n",
    "    for i in range(size):\n",
    "        result.append(sqrt(i))  ###\n",
    "    return result\n",
    "\n",
    "@timethis\n",
    "def main():\n",
    "    size = 10000\n",
    "    for _ in range(size):\n",
    "        result = computeSqrt(size)\n",
    "\n",
    "main()"
   ]
  },
  {
   "cell_type": "markdown",
   "metadata": {},
   "source": [
    "According to the technique 3, We also can assign the global function to a local function."
   ]
  },
  {
   "cell_type": "code",
   "execution_count": 2,
   "metadata": {},
   "outputs": [
    {
     "name": "stdout",
     "output_type": "stream",
     "text": [
      "main: 12.747 s\n",
      "main: 12_747_164_900 ns\n"
     ]
    }
   ],
   "source": [
    "# Good 2\n",
    "import math\n",
    "\n",
    "def computeSqrt(size: int):\n",
    "    result = []\n",
    "    sqrt = math.sqrt  ###\n",
    "    for i in range(size):\n",
    "        result.append(sqrt(i))  ###\n",
    "    return result\n",
    "\n",
    "@timethis\n",
    "def main():\n",
    "    size = 10000\n",
    "    for _ in range(size):\n",
    "        result = computeSqrt(size)\n",
    "\n",
    "main()"
   ]
  },
  {
   "cell_type": "markdown",
   "metadata": {},
   "source": [
    "Furthermore, we could assign the list.append() method to a local function."
   ]
  },
  {
   "cell_type": "code",
   "execution_count": 2,
   "metadata": {},
   "outputs": [
    {
     "name": "stdout",
     "output_type": "stream",
     "text": [
      "main: 10.654 s\n",
      "main: 10_654_640_700 ns\n"
     ]
    }
   ],
   "source": [
    "# Good 3\n",
    "import math\n",
    "\n",
    "def computeSqrt(size: int):\n",
    "    result = []\n",
    "    append = result.append\n",
    "    sqrt = math.sqrt    ###\n",
    "    for i in range(size):\n",
    "        append(sqrt(i))  ###\n",
    "    return result\n",
    "\n",
    "@timethis\n",
    "def main():\n",
    "    size = 10000\n",
    "    for _ in range(size):\n",
    "        result = computeSqrt(size)\n",
    "\n",
    "main()"
   ]
  },
  {
   "cell_type": "markdown",
   "metadata": {},
   "source": [
    "### 4.2 Avoid class property access"
   ]
  },
  {
   "cell_type": "code",
   "execution_count": 2,
   "metadata": {},
   "outputs": [
    {
     "name": "stdout",
     "output_type": "stream",
     "text": [
      "main: 12.587 s\n",
      "main: 12_587_650_900 ns\n"
     ]
    }
   ],
   "source": [
    "# Bad\n",
    "import math\n",
    "from typing import List\n",
    "\n",
    "class DemoClass:\n",
    "    def __init__(self, value: int):\n",
    "        self._value = value  ###\n",
    "    \n",
    "    def computeSqrt(self, size: int) -> List[float]:\n",
    "        result = []\n",
    "        append = result.append\n",
    "        sqrt = math.sqrt\n",
    "        for _ in range(size):\n",
    "            append(sqrt(self._value))  ###\n",
    "        return result\n",
    "\n",
    "@timethis\n",
    "def main():\n",
    "    size = 10000\n",
    "    for _ in range(size):\n",
    "        demo_instance = DemoClass(size)\n",
    "        result = demo_instance.computeSqrt(size)\n",
    "\n",
    "main()"
   ]
  },
  {
   "cell_type": "markdown",
   "metadata": {},
   "source": [
    "The speed of accessing **self._value** is slower than accessing a local variable. We could assign the class property to a local variable to speed up the runtime."
   ]
  },
  {
   "cell_type": "code",
   "execution_count": 2,
   "metadata": {},
   "outputs": [
    {
     "name": "stdout",
     "output_type": "stream",
     "text": [
      "main: 10.347 s\n",
      "main: 10_347_134_500 ns\n"
     ]
    }
   ],
   "source": [
    "# Good\n",
    "import math\n",
    "from typing import List\n",
    "\n",
    "class DemoClass:\n",
    "    def __init__(self, value: int):\n",
    "        self._value = value   ###\n",
    "    \n",
    "    def computeSqrt(self, size: int) -> List[float]:\n",
    "        result = []\n",
    "        append = result.append\n",
    "        sqrt = math.sqrt\n",
    "        value = self._value  ###\n",
    "        for _ in range(size):\n",
    "            append(sqrt(value))  ###\n",
    "        return result\n",
    "\n",
    "@timethis\n",
    "def main():\n",
    "    size = 10000\n",
    "    for _ in range(size):\n",
    "        demo_instance = DemoClass(size)\n",
    "        demo_instance.computeSqrt(size)\n",
    "\n",
    "main()"
   ]
  },
  {
   "cell_type": "markdown",
   "metadata": {},
   "source": [
    "## 5. Avoid Unnecessary Abstraction"
   ]
  },
  {
   "cell_type": "code",
   "execution_count": 3,
   "metadata": {},
   "outputs": [
    {
     "name": "stdout",
     "output_type": "stream",
     "text": [
      "main: 0.497 s\n",
      "main: 496_722_000 ns\n"
     ]
    }
   ],
   "source": [
    "# Bad\n",
    "class DemoClass:\n",
    "    def __init__(self, value: int):\n",
    "        self.value = value\n",
    "\n",
    "    @property\n",
    "    def value(self) -> int:\n",
    "        return self._value\n",
    "\n",
    "    @value.setter\n",
    "    def value(self, x: int):\n",
    "        self._value = x\n",
    "\n",
    "@timethis\n",
    "def main():\n",
    "    size = 1000000\n",
    "    for i in range(size):\n",
    "        demo_instance = DemoClass(size)\n",
    "        value = demo_instance.value\n",
    "        demo_instance.value = i\n",
    "\n",
    "main()"
   ]
  },
  {
   "cell_type": "markdown",
   "metadata": {},
   "source": [
    "When use additional processing layers (such as decorators, property access, descriptors) to wrap the code, it will make the code slow. In most cases, it is necessary to reconsider whether it is necessary to use these layers. Some C/C++ programmers might follow the coding style that using the getter/setter function to access the property. But we could use a more simple writing style."
   ]
  },
  {
   "cell_type": "code",
   "execution_count": 4,
   "metadata": {},
   "outputs": [
    {
     "name": "stdout",
     "output_type": "stream",
     "text": [
      "main: 0.273 s\n",
      "main: 272_911_800 ns\n"
     ]
    }
   ],
   "source": [
    "# Good\n",
    "class DemoClass:\n",
    "    def __init__(self, value: int):\n",
    "        self.value = value  ###\n",
    "\n",
    "@timethis\n",
    "def main():\n",
    "    size = 1000000\n",
    "    for i in range(size):\n",
    "        demo_instance = DemoClass(size)\n",
    "        value = demo_instance.value\n",
    "        demo_instance.value = i\n",
    "\n",
    "main()"
   ]
  },
  {
   "cell_type": "markdown",
   "metadata": {},
   "source": [
    "## 6. Avoid Data Duplication\n",
    "### 6.1 Avoid meaningless data copying"
   ]
  },
  {
   "cell_type": "code",
   "execution_count": 5,
   "metadata": {},
   "outputs": [
    {
     "name": "stdout",
     "output_type": "stream",
     "text": [
      "main: 5.918 s\n",
      "main: 5_918_349_300 ns\n"
     ]
    }
   ],
   "source": [
    "# Bad\n",
    "@timethis\n",
    "def main():\n",
    "    size = 10000\n",
    "    for _ in range(size):\n",
    "        value = range(size)\n",
    "        value_list = [x for x in value]  ###\n",
    "        square_list = [x * x for x in value_list]  ###\n",
    "\n",
    "main()"
   ]
  },
  {
   "cell_type": "markdown",
   "metadata": {},
   "source": [
    "The *value_list* is meaningless."
   ]
  },
  {
   "cell_type": "code",
   "execution_count": 6,
   "metadata": {},
   "outputs": [
    {
     "name": "stdout",
     "output_type": "stream",
     "text": [
      "main: 4.363 s\n",
      "main: 4_363_241_000 ns\n"
     ]
    }
   ],
   "source": [
    "# Good\n",
    "@timethis\n",
    "def main():\n",
    "    size = 10000\n",
    "    for _ in range(size):\n",
    "        value = range(size)\n",
    "        square_list = [x * x for x in value]  ###\n",
    "\n",
    "main()"
   ]
  },
  {
   "cell_type": "code",
   "execution_count": 7,
   "metadata": {},
   "outputs": [
    {
     "name": "stdout",
     "output_type": "stream",
     "text": [
      "main: 4.355 s\n",
      "main: 4_355_035_200 ns\n"
     ]
    }
   ],
   "source": [
    "# Good 2\n",
    "@timethis\n",
    "def main():\n",
    "    size = 10000\n",
    "    for _ in range(size):\n",
    "        square_list = [x * x for x in range(size)]  ###\n",
    "\n",
    "main()"
   ]
  },
  {
   "cell_type": "markdown",
   "metadata": {},
   "source": [
    "### 6.2 Avoid temp variable when changing the value"
   ]
  },
  {
   "cell_type": "code",
   "execution_count": 8,
   "metadata": {},
   "outputs": [
    {
     "name": "stdout",
     "output_type": "stream",
     "text": [
      "main: 3.952 s\n",
      "main: 3_952_630_900 ns\n"
     ]
    }
   ],
   "source": [
    "# Bad\n",
    "@timethis\n",
    "def main():\n",
    "    size = 100_000_000\n",
    "    for _ in range(size):\n",
    "        a = 3\n",
    "        b = 5\n",
    "        temp = a\n",
    "        a = b\n",
    "        b = temp\n",
    "\n",
    "main()"
   ]
  },
  {
   "cell_type": "markdown",
   "metadata": {},
   "source": [
    "The temp is no need."
   ]
  },
  {
   "cell_type": "code",
   "execution_count": 9,
   "metadata": {},
   "outputs": [
    {
     "name": "stdout",
     "output_type": "stream",
     "text": [
      "main: 3.683 s\n",
      "main: 3_682_950_700 ns\n"
     ]
    }
   ],
   "source": [
    "# Good\n",
    "@timethis\n",
    "def main():\n",
    "    size = 100000000\n",
    "    for _ in range(size):\n",
    "        a = 3\n",
    "        b = 5\n",
    "        a, b = b, a  ###\n",
    "\n",
    "main()"
   ]
  },
  {
   "cell_type": "markdown",
   "metadata": {},
   "source": [
    "### 6.3 Replace + with join() when concatenating strings"
   ]
  },
  {
   "cell_type": "code",
   "execution_count": 10,
   "metadata": {},
   "outputs": [
    {
     "name": "stdout",
     "output_type": "stream",
     "text": [
      "main: 10.27 s\n",
      "main: 10_269_917_600 ns\n"
     ]
    }
   ],
   "source": [
    "# Bad\n",
    "import string\n",
    "from typing import List\n",
    "\n",
    "def concatString(string_list: List[str]) -> str:\n",
    "    result = ''\n",
    "    for str_i in string_list:\n",
    "        result += str_i  ###\n",
    "    return result\n",
    "\n",
    "@timethis\n",
    "def main():\n",
    "    string_list = list(string.ascii_letters * 100)\n",
    "    for _ in range(10000):\n",
    "        result = concatString(string_list)\n",
    "\n",
    "main()"
   ]
  },
  {
   "cell_type": "markdown",
   "metadata": {},
   "source": [
    "When using $a + b$ to concatenate strings, Python will apply for memory space, and copy a and b to the newly applied memory space respectively. This is because the string data type in Python is an immutable object. If concatenating $n$ string, it will generate $n-1$ intermediate results and every intermediate result will apply for memory space and copy the new string.\n",
    "On the other hand, **join()** will save time. It will first calculate the total memory space that needs to be applied, and then apply for the required memory at one time, and copy each string element into the memory."
   ]
  },
  {
   "cell_type": "code",
   "execution_count": 11,
   "metadata": {},
   "outputs": [
    {
     "name": "stdout",
     "output_type": "stream",
     "text": [
      "main: 0.343 s\n",
      "main: 343_470_900 ns\n"
     ]
    }
   ],
   "source": [
    "# Good\n",
    "import string\n",
    "from typing import List\n",
    "\n",
    "def concatString(string_list: List[str]) -> str:\n",
    "    return ''.join(string_list)  ###\n",
    "\n",
    "@timethis\n",
    "def main():\n",
    "    string_list = list(string.ascii_letters * 100)\n",
    "    for _ in range(10000):\n",
    "        result = concatString(string_list)\n",
    "\n",
    "main()"
   ]
  },
  {
   "cell_type": "markdown",
   "metadata": {},
   "source": [
    "## 7. Utilize the Short Circuit Evaluation of if Statement"
   ]
  },
  {
   "cell_type": "code",
   "execution_count": 12,
   "metadata": {},
   "outputs": [
    {
     "name": "stdout",
     "output_type": "stream",
     "text": [
      "main: 0.736 s\n",
      "main: 735_913_600 ns\n"
     ]
    }
   ],
   "source": [
    "# Bad\n",
    "from typing import List\n",
    "\n",
    "def concatString(string_list: List[str]) -> str:\n",
    "    abbreviations1 = {'cf.', 'e.g.', 'ex.', 'etc.', 'flg.', 'i.e.', 'Mr.', 'vs.'}\n",
    "    abbreviations2 = {'Miss.', 'Mrs'}\n",
    "    abbr_count = 0\n",
    "    result = ''\n",
    "    for str_i in string_list:\n",
    "        if str_i not in abbreviations2 and str_i in abbreviations1:  ###\n",
    "            result += str_i\n",
    "    return result\n",
    "\n",
    "@timethis\n",
    "def main():\n",
    "    for _ in range(1_000_000):\n",
    "        string_list = ['Mr.', 'Hat', 'is', 'Chasing', 'the', 'black', 'cat', '.']\n",
    "        result = concatString(string_list)\n",
    "\n",
    "main()"
   ]
  },
  {
   "cell_type": "markdown",
   "metadata": {},
   "source": [
    "Python uses a short circuit technique to speed truth value evaluation. If the first statement is false then the whole thing must be false, so it returns that value. Otherwise, if the first value is true it checks the second and returns that value.\n",
    "Therefore, to save runtime, we can follow the below rules:\n",
    "\n",
    "**if a and b**: The variable $a$ should have a high probability of False, so Python won't calculate $b$.\n",
    "**if a or b**: The variable $a$ should have a higher probability of True, so Python won't calculate $b$."
   ]
  },
  {
   "cell_type": "code",
   "execution_count": 13,
   "metadata": {},
   "outputs": [
    {
     "name": "stdout",
     "output_type": "stream",
     "text": [
      "main: 0.623 s\n",
      "main: 623_331_100 ns\n"
     ]
    }
   ],
   "source": [
    "# Good\n",
    "from typing import List\n",
    "\n",
    "def concatString(string_list: List[str]) -> str:\n",
    "    abbreviations1 = {'cf.', 'e.g.', 'ex.', 'etc.', 'flg.', 'i.e.', 'Mr.', 'vs.'}\n",
    "    abbreviations2 = {'Miss.', 'Mrs'}\n",
    "    abbr_count = 0\n",
    "    result = ''\n",
    "    for str_i in string_list:\n",
    "        if str_i in abbreviations1 and str_i not in abbreviations2:  ###\n",
    "            result += str_i\n",
    "    return result\n",
    "\n",
    "@timethis\n",
    "def main():\n",
    "    for _ in range(1000000):\n",
    "        string_list = ['Mr.', 'Hat', 'is', 'Chasing', 'the', 'black', 'cat', '.']\n",
    "        result = concatString(string_list)\n",
    "\n",
    "main()"
   ]
  },
  {
   "cell_type": "markdown",
   "metadata": {},
   "source": [
    "## 8. Loop optimization\n",
    "### 8.1 Replace while with for"
   ]
  },
  {
   "cell_type": "code",
   "execution_count": 14,
   "metadata": {},
   "outputs": [
    {
     "name": "stdout",
     "output_type": "stream",
     "text": [
      "main: 6.138 s\n",
      "main: 6_138_392_200 ns\n"
     ]
    }
   ],
   "source": [
    "# Bad\n",
    "def computeSum(size: int) -> int:\n",
    "    sum_ = 0\n",
    "    i = 0\n",
    "    while i < size:\n",
    "        sum_ += i\n",
    "        i += 1\n",
    "    return sum_\n",
    "\n",
    "@timethis\n",
    "def main():\n",
    "    size = 10000\n",
    "    for _ in range(size):\n",
    "        sum_ = computeSum(size)\n",
    "\n",
    "main()"
   ]
  },
  {
   "cell_type": "markdown",
   "metadata": {},
   "source": [
    "**for** loop is faster than **while** loop."
   ]
  },
  {
   "cell_type": "code",
   "execution_count": 15,
   "metadata": {},
   "outputs": [
    {
     "name": "stdout",
     "output_type": "stream",
     "text": [
      "main: 3.714 s\n",
      "main: 3_714_053_800 ns\n"
     ]
    }
   ],
   "source": [
    "# Good\n",
    "def computeSum(size: int) -> int:\n",
    "    sum_ = 0\n",
    "    for i in range(size):  ### explicit for loop\n",
    "        sum_ += i\n",
    "    return sum_\n",
    "\n",
    "@timethis\n",
    "def main():\n",
    "    size = 10000\n",
    "    for _ in range(size):\n",
    "        sum_ = computeSum(size)\n",
    "\n",
    "main()"
   ]
  },
  {
   "cell_type": "markdown",
   "metadata": {},
   "source": [
    "### 8.2 Replace explicit for loop with implicit for loop\n",
    "We use the above example."
   ]
  },
  {
   "cell_type": "code",
   "execution_count": 16,
   "metadata": {},
   "outputs": [
    {
     "name": "stdout",
     "output_type": "stream",
     "text": [
      "main: 1.45 s\n",
      "main: 1_449_999_700 ns\n"
     ]
    }
   ],
   "source": [
    "# Good\n",
    "def computeSum(size: int) -> int:\n",
    "    return sum(range(size))  ### implicit for loop\n",
    "\n",
    "@timethis\n",
    "def main():\n",
    "    size = 10000\n",
    "    for _ in range(size):\n",
    "        sum = computeSum(size)\n",
    "\n",
    "main()"
   ]
  },
  {
   "cell_type": "markdown",
   "metadata": {},
   "source": [
    "### 8.3 Reduce the calculation of inner for loop"
   ]
  },
  {
   "cell_type": "code",
   "execution_count": 2,
   "metadata": {},
   "outputs": [
    {
     "name": "stdout",
     "output_type": "stream",
     "text": [
      "main: 18.71 s\n",
      "main: 18_709_775_400 ns\n"
     ]
    }
   ],
   "source": [
    "# Bad\n",
    "import math\n",
    "\n",
    "@timethis\n",
    "def main():\n",
    "    size = 10000\n",
    "    sqrt = math.sqrt\n",
    "    for x in range(size):\n",
    "        for y in range(size):\n",
    "            z = sqrt(x) + sqrt(y)  ###\n",
    "\n",
    "main() "
   ]
  },
  {
   "cell_type": "markdown",
   "metadata": {},
   "source": [
    "We move the *sqrt(x)* from inner **for** loop to outer **for** loop."
   ]
  },
  {
   "cell_type": "code",
   "execution_count": 2,
   "metadata": {},
   "outputs": [
    {
     "name": "stdout",
     "output_type": "stream",
     "text": [
      "main: 9.919 s\n",
      "main: 9_919_253_800 ns\n"
     ]
    }
   ],
   "source": [
    "# Good\n",
    "import math\n",
    "\n",
    "@timethis\n",
    "def main():\n",
    "    size = 10000\n",
    "    sqrt = math.sqrt\n",
    "    for x in range(size):\n",
    "        sqrt_x = sqrt(x)  ### \n",
    "        for y in range(size):\n",
    "            z = sqrt_x + sqrt(y)\n",
    "\n",
    "main() "
   ]
  },
  {
   "cell_type": "markdown",
   "metadata": {},
   "source": [
    "## 9. Use numba.jit\n",
    "**Numba** can compile the Python function JIT into machine code for execution, which greatly improves the speed of the code. For more information about **numba**, see the [homepage](http://numba.pydata.org/).\n",
    "\n",
    "We use the above example."
   ]
  },
  {
   "cell_type": "code",
   "execution_count": 2,
   "metadata": {},
   "outputs": [
    {
     "name": "stdout",
     "output_type": "stream",
     "text": [
      "main: 4.082 s\n",
      "main: 4_082_331_600 ns\n"
     ]
    }
   ],
   "source": [
    "# Bad\n",
    "def computeSum(size: float) -> int:\n",
    "    sum = 0\n",
    "    for i in range(size):\n",
    "        sum += i\n",
    "    return sum\n",
    "\n",
    "@timethis\n",
    "def main():\n",
    "    size = 10000\n",
    "    for _ in range(size):\n",
    "        sum = computeSum(size)\n",
    "\n",
    "main()"
   ]
  },
  {
   "cell_type": "code",
   "execution_count": 3,
   "metadata": {},
   "outputs": [
    {
     "name": "stdout",
     "output_type": "stream",
     "text": [
      "main: 0.451 s\n",
      "main: 451_180_600 ns\n"
     ]
    }
   ],
   "source": [
    "# Good\n",
    "import numba\n",
    "\n",
    "@numba.jit\n",
    "def computeSum(size: float) -> int:\n",
    "    sum = 0\n",
    "    for i in range(size):\n",
    "        sum += i\n",
    "    return sum\n",
    "\n",
    "@timethis\n",
    "def main():\n",
    "    size = 10000\n",
    "    for _ in range(size):\n",
    "        sum = computeSum(size)\n",
    "\n",
    "main()"
   ]
  },
  {
   "cell_type": "markdown",
   "metadata": {},
   "source": [
    "## 10. Use cProfile to Locate Time Cost Function\n",
    "\n",
    "`cProfile` will output the time usage of each function. So we can find the time cost function."
   ]
  },
  {
   "cell_type": "code",
   "execution_count": 4,
   "metadata": {},
   "outputs": [
    {
     "name": "stdout",
     "output_type": "stream",
     "text": [
      "         20004 function calls in 1.648 seconds\n",
      "\n",
      "   Ordered by: standard name\n",
      "\n",
      "   ncalls  tottime  percall  cumtime  percall filename:lineno(function)\n",
      "    10000    0.006    0.000    1.646    0.000 <ipython-input-4-0a7c4410d013>:3(computeSum)\n",
      "        1    0.002    0.002    1.648    1.648 <ipython-input-4-0a7c4410d013>:6(main)\n",
      "        1    0.000    0.000    1.648    1.648 <string>:1(<module>)\n",
      "        1    0.000    0.000    1.648    1.648 {built-in method builtins.exec}\n",
      "    10000    1.640    0.000    1.640    0.000 {built-in method builtins.sum}\n",
      "        1    0.000    0.000    0.000    0.000 {method 'disable' of '_lsprof.Profiler' objects}\n",
      "\n",
      "\n"
     ]
    }
   ],
   "source": [
    "import cProfile\n",
    "\n",
    "def computeSum(size: int) -> int:\n",
    "    return sum(range(size)) \n",
    "\n",
    "def main():\n",
    "    size = 10000\n",
    "    for _ in range(size):\n",
    "        sum = computeSum(size)\n",
    "\n",
    "cProfile.run(\"main()\")"
   ]
  },
  {
   "cell_type": "markdown",
   "metadata": {},
   "source": [
    "## Reference\n",
    "\n",
    "https://wiki.python.org/moin/PythonSpeed/PerformanceTips\n",
    "\n",
    "https://realpython.com/introduction-to-python-generators/#building-generators-with-generator-expressions\n",
    "\n",
    "Writing Solid Python Code 91 Suggestions\n",
    "\n",
    "Python Cookbook, Third edition\n",
    "\n",
    "https://zhuanlan.zhihu.com/p/143052860\n",
    "\n",
    "https://pybit.es/faster-python.html"
   ]
  },
  {
   "cell_type": "code",
   "execution_count": null,
   "metadata": {},
   "outputs": [],
   "source": []
  },
  {
   "cell_type": "code",
   "execution_count": null,
   "metadata": {},
   "outputs": [],
   "source": []
  },
  {
   "cell_type": "code",
   "execution_count": null,
   "metadata": {},
   "outputs": [],
   "source": []
  }
 ],
 "metadata": {
  "kernelspec": {
   "display_name": "Python 38",
   "language": "python",
   "name": "python38"
  },
  "language_info": {
   "codemirror_mode": {
    "name": "ipython",
    "version": 3
   },
   "file_extension": ".py",
   "mimetype": "text/x-python",
   "name": "python",
   "nbconvert_exporter": "python",
   "pygments_lexer": "ipython3",
   "version": "3.8.7"
  }
 },
 "nbformat": 4,
 "nbformat_minor": 4
}
