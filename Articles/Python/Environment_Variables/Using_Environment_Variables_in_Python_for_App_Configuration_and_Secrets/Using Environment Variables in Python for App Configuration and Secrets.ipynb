{
 "cells": [
  {
   "cell_type": "markdown",
   "id": "b8b65e55",
   "metadata": {},
   "source": [
    "# [Using Environment Variables in Python for App Configuration and Secrets](https://www.doppler.com/blog/environment-variables-in-python)"
   ]
  },
  {
   "cell_type": "code",
   "execution_count": 27,
   "id": "b681b998",
   "metadata": {},
   "outputs": [],
   "source": [
    "from os import environ\n",
    "import sys"
   ]
  },
  {
   "cell_type": "code",
   "execution_count": 28,
   "id": "88b1ffa9",
   "metadata": {},
   "outputs": [
    {
     "data": {
      "text/plain": [
       "environ{'ALLUSERSPROFILE': 'C:\\\\ProgramData',\n",
       "        'APPDATA': 'C:\\\\Users\\\\Igor\\\\AppData\\\\Roaming',\n",
       "        'COMMONPROGRAMFILES': 'C:\\\\Program Files\\\\Common Files',\n",
       "        'COMMONPROGRAMFILES(X86)': 'C:\\\\Program Files (x86)\\\\Common Files',\n",
       "        'COMMONPROGRAMW6432': 'C:\\\\Program Files\\\\Common Files',\n",
       "        'COMPUTERNAME': 'Z170A',\n",
       "        'COMSPEC': 'C:\\\\Windows\\\\system32\\\\cmd.exe',\n",
       "        'DRIVERDATA': 'C:\\\\Windows\\\\System32\\\\Drivers\\\\DriverData',\n",
       "        'HOMEDRIVE': 'C:',\n",
       "        'HOMEPATH': '\\\\Users\\\\Igor',\n",
       "        'INTELLIJ IDEA COMMUNITY EDITION': 'C:\\\\Program Files\\\\JetBrains\\\\IntelliJ IDEA Community Edition\\\\bin;',\n",
       "        'LOCALAPPDATA': 'C:\\\\Users\\\\Igor\\\\AppData\\\\Local',\n",
       "        'LOGONSERVER': '\\\\\\\\Z170A',\n",
       "        'NUMBER_OF_PROCESSORS': '4',\n",
       "        'OS': 'Windows_NT',\n",
       "        'PATH': 'C:\\\\Program Files\\\\Common Files\\\\Oracle\\\\Java\\\\javapath;C:\\\\Program Files\\\\Python39\\\\;C:\\\\Program Files\\\\Python39\\\\Scripts\\\\;C:\\\\Program Files\\\\Python38\\\\;C:\\\\Program Files\\\\Python38\\\\Scripts\\\\;C:\\\\Windows\\\\system32;C:\\\\Windows;C:\\\\Windows\\\\System32\\\\Wbem;C:\\\\Windows\\\\System32\\\\WindowsPowerShell\\\\v1.0\\\\;C:\\\\Windows\\\\System32\\\\OpenSSH\\\\;C:\\\\Program Files\\\\TortoiseGit\\\\bin;C:\\\\Program Files (x86)\\\\NVIDIA Corporation\\\\PhysX\\\\Common;C:\\\\Program Files (x86)\\\\scala\\\\bin;C:\\\\Program Files\\\\Git\\\\cmd;C:\\\\Program Files (x86)\\\\Gpg4win\\\\..\\\\GnuPG\\\\bin;C:\\\\Users\\\\Igor\\\\AppData\\\\Local\\\\Microsoft\\\\WindowsApps;C:\\\\Program Files\\\\JetBrains\\\\PyCharm Community Edition\\\\bin;C:\\\\Program Files\\\\JetBrains\\\\IntelliJ IDEA Community Edition\\\\bin',\n",
       "        'PATHEXT': '.COM;.EXE;.BAT;.CMD;.VBS;.VBE;.JS;.JSE;.WSF;.WSH;.MSC;.PY;.PYW',\n",
       "        'PROCESSOR_ARCHITECTURE': 'AMD64',\n",
       "        'PROCESSOR_IDENTIFIER': 'Intel64 Family 6 Model 94 Stepping 3, GenuineIntel',\n",
       "        'PROCESSOR_LEVEL': '6',\n",
       "        'PROCESSOR_REVISION': '5e03',\n",
       "        'PROGRAMDATA': 'C:\\\\ProgramData',\n",
       "        'PROGRAMFILES': 'C:\\\\Program Files',\n",
       "        'PROGRAMFILES(X86)': 'C:\\\\Program Files (x86)',\n",
       "        'PROGRAMW6432': 'C:\\\\Program Files',\n",
       "        'PROMPT': '$P$G',\n",
       "        'PSMODULEPATH': 'C:\\\\Program Files\\\\WindowsPowerShell\\\\Modules;C:\\\\Windows\\\\system32\\\\WindowsPowerShell\\\\v1.0\\\\Modules',\n",
       "        'PUBLIC': 'C:\\\\Users\\\\Public',\n",
       "        'PYCHARM COMMUNITY EDITION': 'C:\\\\Program Files\\\\JetBrains\\\\PyCharm Community Edition\\\\bin;',\n",
       "        'SYSTEMDRIVE': 'C:',\n",
       "        'SYSTEMROOT': 'C:\\\\Windows',\n",
       "        'TEMP': 'C:\\\\Users\\\\Igor\\\\AppData\\\\Local\\\\Temp',\n",
       "        'TMP': 'C:\\\\Users\\\\Igor\\\\AppData\\\\Local\\\\Temp',\n",
       "        'USERDOMAIN': 'Z170A',\n",
       "        'USERDOMAIN_ROAMINGPROFILE': 'Z170A',\n",
       "        'USERNAME': 'Igor',\n",
       "        'USERPROFILE': 'C:\\\\Users\\\\Igor',\n",
       "        'VBOX_MSI_INSTALL_PATH': 'C:\\\\Program Files\\\\Oracle\\\\VirtualBox\\\\',\n",
       "        'WINDIR': 'C:\\\\Windows',\n",
       "        'JPY_INTERRUPT_EVENT': '2748',\n",
       "        'IPY_INTERRUPT_EVENT': '2748',\n",
       "        'JPY_PARENT_PID': '1896',\n",
       "        'TERM': 'xterm-color',\n",
       "        'CLICOLOR': '1',\n",
       "        'PAGER': 'cat',\n",
       "        'GIT_PAGER': 'cat',\n",
       "        'MPLBACKEND': 'module://matplotlib_inline.backend_inline',\n",
       "        'TESTING': 'True',\n",
       "        'DB_USER': 'inside DB_USER',\n",
       "        'DB_PASSWORD': 'inside DB_PASSWORD',\n",
       "        'DB_HOST': 'inside DB_HOST',\n",
       "        'DB_PORT': 'inside DB_PORT',\n",
       "        'DB_NAME': 'inside DB_NAME',\n",
       "        'DB_URL': 'psql://inside DB_USER:inside DB_PASSWORD@inside DB_HOST:inside DB_PORT/inside DB_NAME'}"
      ]
     },
     "execution_count": 28,
     "metadata": {},
     "output_type": "execute_result"
    }
   ],
   "source": [
    "environ"
   ]
  },
  {
   "cell_type": "markdown",
   "id": "32b15457",
   "metadata": {},
   "source": [
    "## How to get a Python environment variable\n",
    "Environment variables in Python are accessed using the `os.environ` object.\n",
    "\n",
    "The `os.environ` object seems like a dictionary but is different as values may only be strings, plus it's not serializable to JSON.\n",
    "\n",
    "You've got a few options when it comes to referencing the `os.environ` object:"
   ]
  },
  {
   "cell_type": "code",
   "execution_count": 29,
   "id": "d741b688",
   "metadata": {},
   "outputs": [
    {
     "data": {
      "text/plain": [
       "'Igor'"
      ]
     },
     "execution_count": 29,
     "metadata": {},
     "output_type": "execute_result"
    }
   ],
   "source": [
    "# 1. Standard way\n",
    "import os\n",
    "os.environ['USERNAME']"
   ]
  },
  {
   "cell_type": "code",
   "execution_count": 30,
   "id": "2f64f6b9",
   "metadata": {},
   "outputs": [
    {
     "data": {
      "text/plain": [
       "'Igor'"
      ]
     },
     "execution_count": 30,
     "metadata": {},
     "output_type": "execute_result"
    }
   ],
   "source": [
    "# 2. Import just the environ object\n",
    "from os import environ\n",
    "environ['USERNAME']"
   ]
  },
  {
   "cell_type": "code",
   "execution_count": 31,
   "id": "e00b969f",
   "metadata": {},
   "outputs": [
    {
     "data": {
      "text/plain": [
       "'Igor'"
      ]
     },
     "execution_count": 31,
     "metadata": {},
     "output_type": "execute_result"
    }
   ],
   "source": [
    "# 3. Rename the `environ` to env object for more concise code\n",
    "from os import environ as env\n",
    "env['USERNAME']"
   ]
  },
  {
   "cell_type": "markdown",
   "id": "cbc6d203",
   "metadata": {},
   "source": [
    "Accessing a specific environment variable in Python can be done in one of three ways, depending upon what should happen if an environment variable does not exist.\n",
    "\n",
    "Let's explore with some examples.\n",
    "\n",
    "### Option 1: Required with no default value\n",
    "If your app should crash when an environment variable is not set, then access it directly:"
   ]
  },
  {
   "cell_type": "code",
   "execution_count": 32,
   "id": "0f44994c",
   "metadata": {},
   "outputs": [
    {
     "name": "stdout",
     "output_type": "stream",
     "text": [
      "\\Users\\Igor\n"
     ]
    }
   ],
   "source": [
    "print(os.environ['HOMEPATH'])"
   ]
  },
  {
   "cell_type": "code",
   "execution_count": 33,
   "id": "9aa4e358",
   "metadata": {},
   "outputs": [
    {
     "name": "stdout",
     "output_type": "stream",
     "text": [
      "<class 'KeyError'>: 'DOES_NOT_EXIST'\n"
     ]
    }
   ],
   "source": [
    "try:\n",
    "    print(os.environ['DOES_NOT_EXIST'])\n",
    "except KeyError as e:\n",
    "    exc_type, exc_value, exc_traceback = sys.exc_info()\n",
    "    print(f\"{exc_type}: {exc_value}\")"
   ]
  },
  {
   "cell_type": "markdown",
   "id": "4c746f28",
   "metadata": {},
   "source": [
    "For example, an application should fail to start if a required environment variable is not set, and a default value can't be provided, e.g. a database password.\n",
    "\n",
    "If instead of the default `KeyError` exception being raised (which doesn't communicate why your app failed to start), you could capture the exception and print out a helpful message:"
   ]
  },
  {
   "cell_type": "code",
   "execution_count": 34,
   "id": "d592dc7a",
   "metadata": {},
   "outputs": [
    {
     "name": "stdout",
     "output_type": "stream",
     "text": [
      "[error]: `API_KEY` environment variable required\n"
     ]
    }
   ],
   "source": [
    "import os\n",
    "import sys\n",
    "\n",
    "# Ensure all required environment variables are set\n",
    "try:  \n",
    "    os.environ['API_KEY']\n",
    "except KeyError: \n",
    "    print('[error]: `API_KEY` environment variable required')\n",
    "#     sys.exit(1)"
   ]
  },
  {
   "cell_type": "markdown",
   "id": "1226adeb",
   "metadata": {},
   "source": [
    "### Option 2: Required with default value\n",
    "You can have a default value returned if an environment variable doesn't exist by using the `os.environ.get` method and supplying the default value as the second parameter:"
   ]
  },
  {
   "cell_type": "code",
   "execution_count": 35,
   "id": "95564969",
   "metadata": {},
   "outputs": [
    {
     "name": "stdout",
     "output_type": "stream",
     "text": [
      "localhost\n"
     ]
    }
   ],
   "source": [
    "# If HOSTNAME doesn't exist, presume local development and return localhost\n",
    "print(os.environ.get('HOSTNAME', 'localhost'))"
   ]
  },
  {
   "cell_type": "markdown",
   "id": "21754700",
   "metadata": {},
   "source": [
    "If the variable doesn't exist and you use `os.environ.get` without a default value, `None` is returned"
   ]
  },
  {
   "cell_type": "code",
   "execution_count": 36,
   "id": "a54453b7",
   "metadata": {},
   "outputs": [
    {
     "name": "stdout",
     "output_type": "stream",
     "text": [
      "True\n"
     ]
    }
   ],
   "source": [
    "print(os.environ.get('NO_VAR_EXISTS') == None)"
   ]
  },
  {
   "cell_type": "markdown",
   "id": "6da72ec5",
   "metadata": {},
   "source": [
    "### Option 3: Conditional logic if value exists\n",
    "You may need to check if an environment variable exists, but don't necessarily care about its value. For example, your application can be put in a \"Debug mode\" if the `DEBUG` environment variable is set.\n",
    "\n",
    "You can check for just the existence of an environment variable:"
   ]
  },
  {
   "cell_type": "code",
   "execution_count": 37,
   "id": "14ceb8cd",
   "metadata": {},
   "outputs": [],
   "source": [
    "if 'DEBUG' in os.environ:\n",
    "    print('[info]: app is running in debug mode')"
   ]
  },
  {
   "cell_type": "markdown",
   "id": "51115f9a",
   "metadata": {},
   "source": [
    "Or check to see it matches a specific value:"
   ]
  },
  {
   "cell_type": "code",
   "execution_count": 38,
   "id": "6b28f097",
   "metadata": {},
   "outputs": [],
   "source": [
    "if os.environ.get('DEBUG') == 'True':\n",
    "    print('[info]: app is running in debug mode')"
   ]
  },
  {
   "cell_type": "markdown",
   "id": "72da1a20",
   "metadata": {},
   "source": [
    "## How to set a Python environment variable\n",
    "Setting an environment variable in Python is the same as setting a key on a dictionary:"
   ]
  },
  {
   "cell_type": "code",
   "execution_count": 39,
   "id": "e6e39e2f",
   "metadata": {},
   "outputs": [
    {
     "data": {
      "text/plain": [
       "'True'"
      ]
     },
     "execution_count": 39,
     "metadata": {},
     "output_type": "execute_result"
    }
   ],
   "source": [
    "os.environ['TESTING'] = 'True'\n",
    "os.environ.get('TESTING')"
   ]
  },
  {
   "cell_type": "markdown",
   "id": "b7ddc2f1",
   "metadata": {},
   "source": [
    "What makes os.environ different to a standard dictionary, is that only string values are allowed:"
   ]
  },
  {
   "cell_type": "code",
   "execution_count": 40,
   "id": "4b1a2673",
   "metadata": {},
   "outputs": [
    {
     "name": "stdout",
     "output_type": "stream",
     "text": [
      "<class 'TypeError'>: str expected, not bool\n"
     ]
    }
   ],
   "source": [
    "try:\n",
    "    os.environ['TESTING'] = True\n",
    "except TypeError as e:\n",
    "    exc_type, exc_value, exc_traceback = sys.exc_info()\n",
    "    print(f\"{exc_type}: {exc_value}\")"
   ]
  },
  {
   "cell_type": "markdown",
   "id": "6f08322e",
   "metadata": {},
   "source": [
    "In most cases, your application will only need to get environment variables, but there are use cases for setting them as well.\n",
    "\n",
    "For example, constructing a `DB_URL` environment variable on application start-up using `DB_HOST`, `DB_PORT`, `DB_USER`, `DB_PASSWORD`, and `DB_NAME` environment variables:"
   ]
  },
  {
   "cell_type": "code",
   "execution_count": 41,
   "id": "1a2266cc",
   "metadata": {},
   "outputs": [
    {
     "name": "stdout",
     "output_type": "stream",
     "text": [
      "psql://inside DB_USER:inside DB_PASSWORD@inside DB_HOST:inside DB_PORT/inside DB_NAME\n"
     ]
    }
   ],
   "source": [
    "os.environ.setdefault('DB_USER', 'inside DB_USER'),\n",
    "os.environ.setdefault('DB_PASSWORD', 'inside DB_PASSWORD')\n",
    "os.environ.setdefault('DB_HOST', 'inside DB_HOST')\n",
    "os.environ.setdefault('DB_PORT', 'inside DB_PORT')\n",
    "os.environ.setdefault('DB_NAME', 'inside DB_NAME')\n",
    "\n",
    "try:\n",
    "    os.environ['DB_URL'] = 'psql://{user}:{password}@{host}:{port}/{name}'.format(\n",
    "      user=os.environ['DB_USER'],\n",
    "      password=os.environ['DB_PASSWORD'],\n",
    "      host=os.environ['DB_HOST'],\n",
    "      port=os.environ['DB_PORT'],\n",
    "      name=os.environ['DB_NAME']\n",
    "    )\n",
    "    print(os.environ.get('DB_URL'))\n",
    "except KeyError as e:\n",
    "    exc_type, exc_value, exc_traceback = sys.exc_info()\n",
    "    print(f\"{exc_type}: {exc_value}\")"
   ]
  },
  {
   "cell_type": "markdown",
   "id": "d9aa85f8",
   "metadata": {},
   "source": [
    "Another example is setting a variable to a default value based on the value of another variable:"
   ]
  },
  {
   "cell_type": "code",
   "execution_count": 42,
   "id": "fa8f36b5",
   "metadata": {},
   "outputs": [],
   "source": [
    "# Set DEBUG and TESTING to 'True' if ENV is 'development'\n",
    "try:\n",
    "    if os.environ.get('ENV') == 'development':\n",
    "        os.environ.setdefault('DEBUG', 'True') # Only set to True if DEBUG not set\n",
    "        os.environ.setdefault('TESTING', 'True') # Only set to True if TESTING not set\n",
    "except KeyError as e:\n",
    "    exc_type, exc_value, exc_traceback = sys.exc_info()\n",
    "    print(f\"{exc_type}: {exc_value}\")"
   ]
  },
  {
   "cell_type": "markdown",
   "id": "5ffdf378",
   "metadata": {},
   "source": [
    "## How to delete a Python environment variable\n",
    "If you need to delete a Python environment variable, use the `os.environ.pop` function:"
   ]
  },
  {
   "cell_type": "code",
   "execution_count": 43,
   "id": "a2d55e86",
   "metadata": {},
   "outputs": [
    {
     "name": "stdout",
     "output_type": "stream",
     "text": [
      "inside MY_KEY\n",
      "inside MY_KEY\n",
      "None\n"
     ]
    }
   ],
   "source": [
    "os.environ.setdefault('MY_KEY', 'inside MY_KEY')\n",
    "print(os.environ.get('MY_KEY'))\n",
    "print(os.environ.pop('MY_KEY'))\n",
    "print(os.environ.get('MY_KEY'))"
   ]
  },
  {
   "cell_type": "markdown",
   "id": "b2a57125",
   "metadata": {},
   "source": [
    "To extend our `DB_URL` example above, you may want to delete the other `DB_` prefixed fields to ensure the only way the app can connect to the database is via `DB_URL`:\n",
    "\n",
    "Another example is deleting an environment variable once it is no longer needed:"
   ]
  },
  {
   "cell_type": "code",
   "execution_count": 44,
   "id": "04538db4",
   "metadata": {},
   "outputs": [
    {
     "name": "stdout",
     "output_type": "stream",
     "text": [
      "Do smth. with an API key.\n",
      "None\n"
     ]
    }
   ],
   "source": [
    "def auth_api(api_key: str) -> None:\n",
    "    print(f\"Do smth. with an {api_key}.\")\n",
    "\n",
    "os.environ.setdefault('API_KEY', 'API key')\n",
    "auth_api(os.environ['API_KEY']) # Use API_KEY\n",
    "os.environ.pop('API_KEY') # Delete API_KEY as it's no longer needed\n",
    "print(os.environ.get('API_KEY'))"
   ]
  },
  {
   "cell_type": "markdown",
   "id": "29f4e370",
   "metadata": {},
   "source": [
    "## How to list Python environment variables\n",
    "To view all environment variables:"
   ]
  },
  {
   "cell_type": "code",
   "execution_count": 45,
   "id": "98b657f5",
   "metadata": {},
   "outputs": [
    {
     "name": "stdout",
     "output_type": "stream",
     "text": [
      "environ({'ALLUSERSPROFILE': 'C:\\\\ProgramData', 'APPDATA': 'C:\\\\Users\\\\Igor\\\\AppData\\\\Roaming', 'COMMONPROGRAMFILES': 'C:\\\\Program Files\\\\Common Files', 'COMMONPROGRAMFILES(X86)': 'C:\\\\Program Files (x86)\\\\Common Files', 'COMMONPROGRAMW6432': 'C:\\\\Program Files\\\\Common Files', 'COMPUTERNAME': 'Z170A', 'COMSPEC': 'C:\\\\Windows\\\\system32\\\\cmd.exe', 'DRIVERDATA': 'C:\\\\Windows\\\\System32\\\\Drivers\\\\DriverData', 'HOMEDRIVE': 'C:', 'HOMEPATH': '\\\\Users\\\\Igor', 'INTELLIJ IDEA COMMUNITY EDITION': 'C:\\\\Program Files\\\\JetBrains\\\\IntelliJ IDEA Community Edition\\\\bin;', 'LOCALAPPDATA': 'C:\\\\Users\\\\Igor\\\\AppData\\\\Local', 'LOGONSERVER': '\\\\\\\\Z170A', 'NUMBER_OF_PROCESSORS': '4', 'OS': 'Windows_NT', 'PATH': 'C:\\\\Program Files\\\\Common Files\\\\Oracle\\\\Java\\\\javapath;C:\\\\Program Files\\\\Python39\\\\;C:\\\\Program Files\\\\Python39\\\\Scripts\\\\;C:\\\\Program Files\\\\Python38\\\\;C:\\\\Program Files\\\\Python38\\\\Scripts\\\\;C:\\\\Windows\\\\system32;C:\\\\Windows;C:\\\\Windows\\\\System32\\\\Wbem;C:\\\\Windows\\\\System32\\\\WindowsPowerShell\\\\v1.0\\\\;C:\\\\Windows\\\\System32\\\\OpenSSH\\\\;C:\\\\Program Files\\\\TortoiseGit\\\\bin;C:\\\\Program Files (x86)\\\\NVIDIA Corporation\\\\PhysX\\\\Common;C:\\\\Program Files (x86)\\\\scala\\\\bin;C:\\\\Program Files\\\\Git\\\\cmd;C:\\\\Program Files (x86)\\\\Gpg4win\\\\..\\\\GnuPG\\\\bin;C:\\\\Users\\\\Igor\\\\AppData\\\\Local\\\\Microsoft\\\\WindowsApps;C:\\\\Program Files\\\\JetBrains\\\\PyCharm Community Edition\\\\bin;C:\\\\Program Files\\\\JetBrains\\\\IntelliJ IDEA Community Edition\\\\bin', 'PATHEXT': '.COM;.EXE;.BAT;.CMD;.VBS;.VBE;.JS;.JSE;.WSF;.WSH;.MSC;.PY;.PYW', 'PROCESSOR_ARCHITECTURE': 'AMD64', 'PROCESSOR_IDENTIFIER': 'Intel64 Family 6 Model 94 Stepping 3, GenuineIntel', 'PROCESSOR_LEVEL': '6', 'PROCESSOR_REVISION': '5e03', 'PROGRAMDATA': 'C:\\\\ProgramData', 'PROGRAMFILES': 'C:\\\\Program Files', 'PROGRAMFILES(X86)': 'C:\\\\Program Files (x86)', 'PROGRAMW6432': 'C:\\\\Program Files', 'PROMPT': '$P$G', 'PSMODULEPATH': 'C:\\\\Program Files\\\\WindowsPowerShell\\\\Modules;C:\\\\Windows\\\\system32\\\\WindowsPowerShell\\\\v1.0\\\\Modules', 'PUBLIC': 'C:\\\\Users\\\\Public', 'PYCHARM COMMUNITY EDITION': 'C:\\\\Program Files\\\\JetBrains\\\\PyCharm Community Edition\\\\bin;', 'SYSTEMDRIVE': 'C:', 'SYSTEMROOT': 'C:\\\\Windows', 'TEMP': 'C:\\\\Users\\\\Igor\\\\AppData\\\\Local\\\\Temp', 'TMP': 'C:\\\\Users\\\\Igor\\\\AppData\\\\Local\\\\Temp', 'USERDOMAIN': 'Z170A', 'USERDOMAIN_ROAMINGPROFILE': 'Z170A', 'USERNAME': 'Igor', 'USERPROFILE': 'C:\\\\Users\\\\Igor', 'VBOX_MSI_INSTALL_PATH': 'C:\\\\Program Files\\\\Oracle\\\\VirtualBox\\\\', 'WINDIR': 'C:\\\\Windows', 'JPY_INTERRUPT_EVENT': '2748', 'IPY_INTERRUPT_EVENT': '2748', 'JPY_PARENT_PID': '1896', 'TERM': 'xterm-color', 'CLICOLOR': '1', 'PAGER': 'cat', 'GIT_PAGER': 'cat', 'MPLBACKEND': 'module://matplotlib_inline.backend_inline', 'TESTING': 'True', 'DB_USER': 'inside DB_USER', 'DB_PASSWORD': 'inside DB_PASSWORD', 'DB_HOST': 'inside DB_HOST', 'DB_PORT': 'inside DB_PORT', 'DB_NAME': 'inside DB_NAME', 'DB_URL': 'psql://inside DB_USER:inside DB_PASSWORD@inside DB_HOST:inside DB_PORT/inside DB_NAME'})\n"
     ]
    }
   ],
   "source": [
    "print(os.environ)"
   ]
  },
  {
   "cell_type": "markdown",
   "id": "038a73fd",
   "metadata": {},
   "source": [
    "The output of this command is difficult to read though because it's printed as one huge dictionary.\n",
    "\n",
    "A better way, is to create a convenience function that converts `os.environ` to an actual dictionary so we can serialize it to `JSON` for pretty-printing:"
   ]
  },
  {
   "cell_type": "code",
   "execution_count": 46,
   "id": "22583a5f",
   "metadata": {},
   "outputs": [
    {
     "name": "stdout",
     "output_type": "stream",
     "text": [
      "{\n",
      "  \"ALLUSERSPROFILE\": \"C:\\\\ProgramData\",\n",
      "  \"APPDATA\": \"C:\\\\Users\\\\Igor\\\\AppData\\\\Roaming\",\n",
      "  \"COMMONPROGRAMFILES\": \"C:\\\\Program Files\\\\Common Files\",\n",
      "  \"COMMONPROGRAMFILES(X86)\": \"C:\\\\Program Files (x86)\\\\Common Files\",\n",
      "  \"COMMONPROGRAMW6432\": \"C:\\\\Program Files\\\\Common Files\",\n",
      "  \"COMPUTERNAME\": \"Z170A\",\n",
      "  \"COMSPEC\": \"C:\\\\Windows\\\\system32\\\\cmd.exe\",\n",
      "  \"DRIVERDATA\": \"C:\\\\Windows\\\\System32\\\\Drivers\\\\DriverData\",\n",
      "  \"HOMEDRIVE\": \"C:\",\n",
      "  \"HOMEPATH\": \"\\\\Users\\\\Igor\",\n",
      "  \"INTELLIJ IDEA COMMUNITY EDITION\": \"C:\\\\Program Files\\\\JetBrains\\\\IntelliJ IDEA Community Edition\\\\bin;\",\n",
      "  \"LOCALAPPDATA\": \"C:\\\\Users\\\\Igor\\\\AppData\\\\Local\",\n",
      "  \"LOGONSERVER\": \"\\\\\\\\Z170A\",\n",
      "  \"NUMBER_OF_PROCESSORS\": \"4\",\n",
      "  \"OS\": \"Windows_NT\",\n",
      "  \"PATH\": \"C:\\\\Program Files\\\\Common Files\\\\Oracle\\\\Java\\\\javapath;C:\\\\Program Files\\\\Python39\\\\;C:\\\\Program Files\\\\Python39\\\\Scripts\\\\;C:\\\\Program Files\\\\Python38\\\\;C:\\\\Program Files\\\\Python38\\\\Scripts\\\\;C:\\\\Windows\\\\system32;C:\\\\Windows;C:\\\\Windows\\\\System32\\\\Wbem;C:\\\\Windows\\\\System32\\\\WindowsPowerShell\\\\v1.0\\\\;C:\\\\Windows\\\\System32\\\\OpenSSH\\\\;C:\\\\Program Files\\\\TortoiseGit\\\\bin;C:\\\\Program Files (x86)\\\\NVIDIA Corporation\\\\PhysX\\\\Common;C:\\\\Program Files (x86)\\\\scala\\\\bin;C:\\\\Program Files\\\\Git\\\\cmd;C:\\\\Program Files (x86)\\\\Gpg4win\\\\..\\\\GnuPG\\\\bin;C:\\\\Users\\\\Igor\\\\AppData\\\\Local\\\\Microsoft\\\\WindowsApps;C:\\\\Program Files\\\\JetBrains\\\\PyCharm Community Edition\\\\bin;C:\\\\Program Files\\\\JetBrains\\\\IntelliJ IDEA Community Edition\\\\bin\",\n",
      "  \"PATHEXT\": \".COM;.EXE;.BAT;.CMD;.VBS;.VBE;.JS;.JSE;.WSF;.WSH;.MSC;.PY;.PYW\",\n",
      "  \"PROCESSOR_ARCHITECTURE\": \"AMD64\",\n",
      "  \"PROCESSOR_IDENTIFIER\": \"Intel64 Family 6 Model 94 Stepping 3, GenuineIntel\",\n",
      "  \"PROCESSOR_LEVEL\": \"6\",\n",
      "  \"PROCESSOR_REVISION\": \"5e03\",\n",
      "  \"PROGRAMDATA\": \"C:\\\\ProgramData\",\n",
      "  \"PROGRAMFILES\": \"C:\\\\Program Files\",\n",
      "  \"PROGRAMFILES(X86)\": \"C:\\\\Program Files (x86)\",\n",
      "  \"PROGRAMW6432\": \"C:\\\\Program Files\",\n",
      "  \"PROMPT\": \"$P$G\",\n",
      "  \"PSMODULEPATH\": \"C:\\\\Program Files\\\\WindowsPowerShell\\\\Modules;C:\\\\Windows\\\\system32\\\\WindowsPowerShell\\\\v1.0\\\\Modules\",\n",
      "  \"PUBLIC\": \"C:\\\\Users\\\\Public\",\n",
      "  \"PYCHARM COMMUNITY EDITION\": \"C:\\\\Program Files\\\\JetBrains\\\\PyCharm Community Edition\\\\bin;\",\n",
      "  \"SYSTEMDRIVE\": \"C:\",\n",
      "  \"SYSTEMROOT\": \"C:\\\\Windows\",\n",
      "  \"TEMP\": \"C:\\\\Users\\\\Igor\\\\AppData\\\\Local\\\\Temp\",\n",
      "  \"TMP\": \"C:\\\\Users\\\\Igor\\\\AppData\\\\Local\\\\Temp\",\n",
      "  \"USERDOMAIN\": \"Z170A\",\n",
      "  \"USERDOMAIN_ROAMINGPROFILE\": \"Z170A\",\n",
      "  \"USERNAME\": \"Igor\",\n",
      "  \"USERPROFILE\": \"C:\\\\Users\\\\Igor\",\n",
      "  \"VBOX_MSI_INSTALL_PATH\": \"C:\\\\Program Files\\\\Oracle\\\\VirtualBox\\\\\",\n",
      "  \"WINDIR\": \"C:\\\\Windows\",\n",
      "  \"JPY_INTERRUPT_EVENT\": \"2748\",\n",
      "  \"IPY_INTERRUPT_EVENT\": \"2748\",\n",
      "  \"JPY_PARENT_PID\": \"1896\",\n",
      "  \"TERM\": \"xterm-color\",\n",
      "  \"CLICOLOR\": \"1\",\n",
      "  \"PAGER\": \"cat\",\n",
      "  \"GIT_PAGER\": \"cat\",\n",
      "  \"MPLBACKEND\": \"module://matplotlib_inline.backend_inline\",\n",
      "  \"TESTING\": \"True\",\n",
      "  \"DB_USER\": \"inside DB_USER\",\n",
      "  \"DB_PASSWORD\": \"inside DB_PASSWORD\",\n",
      "  \"DB_HOST\": \"inside DB_HOST\",\n",
      "  \"DB_PORT\": \"inside DB_PORT\",\n",
      "  \"DB_NAME\": \"inside DB_NAME\",\n",
      "  \"DB_URL\": \"psql://inside DB_USER:inside DB_PASSWORD@inside DB_HOST:inside DB_PORT/inside DB_NAME\"\n",
      "}\n"
     ]
    }
   ],
   "source": [
    "import os\n",
    "import json\n",
    "\n",
    "def print_env():\n",
    "    print(json.dumps({**{}, **os.environ}, indent=2))\n",
    "\n",
    "print_env()"
   ]
  },
  {
   "cell_type": "markdown",
   "id": "31f3229c",
   "metadata": {},
   "source": [
    "Or you can simply use `pprint`:"
   ]
  },
  {
   "cell_type": "code",
   "execution_count": 47,
   "id": "3709edeb",
   "metadata": {},
   "outputs": [
    {
     "name": "stdout",
     "output_type": "stream",
     "text": [
      "{'ALLUSERSPROFILE': 'C:\\\\ProgramData',\n",
      " 'APPDATA': 'C:\\\\Users\\\\Igor\\\\AppData\\\\Roaming',\n",
      " 'CLICOLOR': '1',\n",
      " 'COMMONPROGRAMFILES': 'C:\\\\Program Files\\\\Common Files',\n",
      " 'COMMONPROGRAMFILES(X86)': 'C:\\\\Program Files (x86)\\\\Common Files',\n",
      " 'COMMONPROGRAMW6432': 'C:\\\\Program Files\\\\Common Files',\n",
      " 'COMPUTERNAME': 'Z170A',\n",
      " 'COMSPEC': 'C:\\\\Windows\\\\system32\\\\cmd.exe',\n",
      " 'DB_HOST': 'inside DB_HOST',\n",
      " 'DB_NAME': 'inside DB_NAME',\n",
      " 'DB_PASSWORD': 'inside DB_PASSWORD',\n",
      " 'DB_PORT': 'inside DB_PORT',\n",
      " 'DB_URL': 'psql://inside DB_USER:inside DB_PASSWORD@inside DB_HOST:inside '\n",
      "           'DB_PORT/inside DB_NAME',\n",
      " 'DB_USER': 'inside DB_USER',\n",
      " 'DRIVERDATA': 'C:\\\\Windows\\\\System32\\\\Drivers\\\\DriverData',\n",
      " 'GIT_PAGER': 'cat',\n",
      " 'HOMEDRIVE': 'C:',\n",
      " 'HOMEPATH': '\\\\Users\\\\Igor',\n",
      " 'INTELLIJ IDEA COMMUNITY EDITION': 'C:\\\\Program Files\\\\JetBrains\\\\IntelliJ '\n",
      "                                    'IDEA Community Edition\\\\bin;',\n",
      " 'IPY_INTERRUPT_EVENT': '2748',\n",
      " 'JPY_INTERRUPT_EVENT': '2748',\n",
      " 'JPY_PARENT_PID': '1896',\n",
      " 'LOCALAPPDATA': 'C:\\\\Users\\\\Igor\\\\AppData\\\\Local',\n",
      " 'LOGONSERVER': '\\\\\\\\Z170A',\n",
      " 'MPLBACKEND': 'module://matplotlib_inline.backend_inline',\n",
      " 'NUMBER_OF_PROCESSORS': '4',\n",
      " 'OS': 'Windows_NT',\n",
      " 'PAGER': 'cat',\n",
      " 'PATH': 'C:\\\\Program Files\\\\Common Files\\\\Oracle\\\\Java\\\\javapath;C:\\\\Program '\n",
      "         'Files\\\\Python39\\\\;C:\\\\Program Files\\\\Python39\\\\Scripts\\\\;C:\\\\Program '\n",
      "         'Files\\\\Python38\\\\;C:\\\\Program '\n",
      "         'Files\\\\Python38\\\\Scripts\\\\;C:\\\\Windows\\\\system32;C:\\\\Windows;C:\\\\Windows\\\\System32\\\\Wbem;C:\\\\Windows\\\\System32\\\\WindowsPowerShell\\\\v1.0\\\\;C:\\\\Windows\\\\System32\\\\OpenSSH\\\\;C:\\\\Program '\n",
      "         'Files\\\\TortoiseGit\\\\bin;C:\\\\Program Files (x86)\\\\NVIDIA '\n",
      "         'Corporation\\\\PhysX\\\\Common;C:\\\\Program Files '\n",
      "         '(x86)\\\\scala\\\\bin;C:\\\\Program Files\\\\Git\\\\cmd;C:\\\\Program Files '\n",
      "         '(x86)\\\\Gpg4win\\\\..\\\\GnuPG\\\\bin;C:\\\\Users\\\\Igor\\\\AppData\\\\Local\\\\Microsoft\\\\WindowsApps;C:\\\\Program '\n",
      "         'Files\\\\JetBrains\\\\PyCharm Community Edition\\\\bin;C:\\\\Program '\n",
      "         'Files\\\\JetBrains\\\\IntelliJ IDEA Community Edition\\\\bin',\n",
      " 'PATHEXT': '.COM;.EXE;.BAT;.CMD;.VBS;.VBE;.JS;.JSE;.WSF;.WSH;.MSC;.PY;.PYW',\n",
      " 'PROCESSOR_ARCHITECTURE': 'AMD64',\n",
      " 'PROCESSOR_IDENTIFIER': 'Intel64 Family 6 Model 94 Stepping 3, GenuineIntel',\n",
      " 'PROCESSOR_LEVEL': '6',\n",
      " 'PROCESSOR_REVISION': '5e03',\n",
      " 'PROGRAMDATA': 'C:\\\\ProgramData',\n",
      " 'PROGRAMFILES': 'C:\\\\Program Files',\n",
      " 'PROGRAMFILES(X86)': 'C:\\\\Program Files (x86)',\n",
      " 'PROGRAMW6432': 'C:\\\\Program Files',\n",
      " 'PROMPT': '$P$G',\n",
      " 'PSMODULEPATH': 'C:\\\\Program '\n",
      "                 'Files\\\\WindowsPowerShell\\\\Modules;C:\\\\Windows\\\\system32\\\\WindowsPowerShell\\\\v1.0\\\\Modules',\n",
      " 'PUBLIC': 'C:\\\\Users\\\\Public',\n",
      " 'PYCHARM COMMUNITY EDITION': 'C:\\\\Program Files\\\\JetBrains\\\\PyCharm Community '\n",
      "                              'Edition\\\\bin;',\n",
      " 'SYSTEMDRIVE': 'C:',\n",
      " 'SYSTEMROOT': 'C:\\\\Windows',\n",
      " 'TEMP': 'C:\\\\Users\\\\Igor\\\\AppData\\\\Local\\\\Temp',\n",
      " 'TERM': 'xterm-color',\n",
      " 'TESTING': 'True',\n",
      " 'TMP': 'C:\\\\Users\\\\Igor\\\\AppData\\\\Local\\\\Temp',\n",
      " 'USERDOMAIN': 'Z170A',\n",
      " 'USERDOMAIN_ROAMINGPROFILE': 'Z170A',\n",
      " 'USERNAME': 'Igor',\n",
      " 'USERPROFILE': 'C:\\\\Users\\\\Igor',\n",
      " 'VBOX_MSI_INSTALL_PATH': 'C:\\\\Program Files\\\\Oracle\\\\VirtualBox\\\\',\n",
      " 'WINDIR': 'C:\\\\Windows'}\n"
     ]
    }
   ],
   "source": [
    "from pprint import pprint\n",
    "\n",
    "pprint(dict(environ))"
   ]
  },
  {
   "cell_type": "markdown",
   "id": "e982278e",
   "metadata": {},
   "source": [
    "## Using a .env file for Python environment variables\n",
    "As an application grows in size and complexity, so does the number of environment variables.\n",
    "\n",
    "Many projects experience growing pains when using environment variables for app config and secrets because there is no clear and consistent strategy for how to manage them, particularly when deploying to multiple environments.\n",
    "\n",
    "A simple (but not easily scalable) solution is to use a `.env` file to contain all of the  variables for a specific environment.\n",
    "\n",
    "Then you would use a Python library such as `python-dotenv` to parse the `.env` file and populate the `os.environ` object.\n",
    "\n",
    "Install the `python-dotenv` library:"
   ]
  },
  {
   "cell_type": "code",
   "execution_count": 57,
   "id": "eeccaa12",
   "metadata": {},
   "outputs": [
    {
     "name": "stdout",
     "output_type": "stream",
     "text": [
      "Collecting python-dotenv\n",
      "  Downloading python_dotenv-0.18.0-py2.py3-none-any.whl (18 kB)\n",
      "Installing collected packages: python-dotenv\n",
      "Successfully installed python-dotenv-0.18.0\n"
     ]
    }
   ],
   "source": [
    "# install python-dotenv\n",
    "# %run -m pip install python-dotenv"
   ]
  },
  {
   "cell_type": "markdown",
   "id": "e84be021",
   "metadata": {},
   "source": [
    "Now save the below to a file named `.env` (note how it's the same syntax for setting a variable in the shell):"
   ]
  },
  {
   "cell_type": "code",
   "execution_count": 75,
   "id": "f2db610b",
   "metadata": {},
   "outputs": [],
   "source": [
    "s = f'API_KEY=\"357A70FF-BFAA-4C6A-8289-9831DDFB2D3D\"\\nHOSTNAME=\"0.0.0.0\"\\nPORT=\"8080\"'\n",
    "\n",
    "with open('.env', 'w') as f:\n",
    "    f.write(s)"
   ]
  },
  {
   "cell_type": "code",
   "execution_count": 64,
   "id": "ce47efb5",
   "metadata": {},
   "outputs": [
    {
     "name": "stdout",
     "output_type": "stream",
     "text": [
      "API_KEY:  357A70FF-BFAA-4C6A-8289-9831DDFB2D3D\n",
      "HOSTNAME: 0.0.0.0\n",
      "PORT:     8080\n"
     ]
    }
   ],
   "source": [
    "# Rename `os.environ` to `env` for nicer code\n",
    "from os import environ as env\n",
    "\n",
    "from dotenv import load_dotenv\n",
    "load_dotenv()\n",
    "\n",
    "print('API_KEY:  {}'.format(env['API_KEY']))\n",
    "print('HOSTNAME: {}'.format(env['HOSTNAME']))\n",
    "print('PORT:     {}'.format(env['PORT']))"
   ]
  },
  {
   "cell_type": "code",
   "execution_count": 65,
   "id": "2d934101",
   "metadata": {},
   "outputs": [
    {
     "data": {
      "text/plain": [
       "environ{'ALLUSERSPROFILE': 'C:\\\\ProgramData',\n",
       "        'APPDATA': 'C:\\\\Users\\\\Igor\\\\AppData\\\\Roaming',\n",
       "        'COMMONPROGRAMFILES': 'C:\\\\Program Files\\\\Common Files',\n",
       "        'COMMONPROGRAMFILES(X86)': 'C:\\\\Program Files (x86)\\\\Common Files',\n",
       "        'COMMONPROGRAMW6432': 'C:\\\\Program Files\\\\Common Files',\n",
       "        'COMPUTERNAME': 'Z170A',\n",
       "        'COMSPEC': 'C:\\\\Windows\\\\system32\\\\cmd.exe',\n",
       "        'DRIVERDATA': 'C:\\\\Windows\\\\System32\\\\Drivers\\\\DriverData',\n",
       "        'HOMEDRIVE': 'C:',\n",
       "        'HOMEPATH': '\\\\Users\\\\Igor',\n",
       "        'INTELLIJ IDEA COMMUNITY EDITION': 'C:\\\\Program Files\\\\JetBrains\\\\IntelliJ IDEA Community Edition\\\\bin;',\n",
       "        'LOCALAPPDATA': 'C:\\\\Users\\\\Igor\\\\AppData\\\\Local',\n",
       "        'LOGONSERVER': '\\\\\\\\Z170A',\n",
       "        'NUMBER_OF_PROCESSORS': '4',\n",
       "        'OS': 'Windows_NT',\n",
       "        'PATH': 'C:\\\\Program Files\\\\Common Files\\\\Oracle\\\\Java\\\\javapath;C:\\\\Program Files\\\\Python39\\\\;C:\\\\Program Files\\\\Python39\\\\Scripts\\\\;C:\\\\Program Files\\\\Python38\\\\;C:\\\\Program Files\\\\Python38\\\\Scripts\\\\;C:\\\\Windows\\\\system32;C:\\\\Windows;C:\\\\Windows\\\\System32\\\\Wbem;C:\\\\Windows\\\\System32\\\\WindowsPowerShell\\\\v1.0\\\\;C:\\\\Windows\\\\System32\\\\OpenSSH\\\\;C:\\\\Program Files\\\\TortoiseGit\\\\bin;C:\\\\Program Files (x86)\\\\NVIDIA Corporation\\\\PhysX\\\\Common;C:\\\\Program Files (x86)\\\\scala\\\\bin;C:\\\\Program Files\\\\Git\\\\cmd;C:\\\\Program Files (x86)\\\\Gpg4win\\\\..\\\\GnuPG\\\\bin;C:\\\\Users\\\\Igor\\\\AppData\\\\Local\\\\Microsoft\\\\WindowsApps;C:\\\\Program Files\\\\JetBrains\\\\PyCharm Community Edition\\\\bin;C:\\\\Program Files\\\\JetBrains\\\\IntelliJ IDEA Community Edition\\\\bin',\n",
       "        'PATHEXT': '.COM;.EXE;.BAT;.CMD;.VBS;.VBE;.JS;.JSE;.WSF;.WSH;.MSC;.PY;.PYW',\n",
       "        'PROCESSOR_ARCHITECTURE': 'AMD64',\n",
       "        'PROCESSOR_IDENTIFIER': 'Intel64 Family 6 Model 94 Stepping 3, GenuineIntel',\n",
       "        'PROCESSOR_LEVEL': '6',\n",
       "        'PROCESSOR_REVISION': '5e03',\n",
       "        'PROGRAMDATA': 'C:\\\\ProgramData',\n",
       "        'PROGRAMFILES': 'C:\\\\Program Files',\n",
       "        'PROGRAMFILES(X86)': 'C:\\\\Program Files (x86)',\n",
       "        'PROGRAMW6432': 'C:\\\\Program Files',\n",
       "        'PROMPT': '$P$G',\n",
       "        'PSMODULEPATH': 'C:\\\\Program Files\\\\WindowsPowerShell\\\\Modules;C:\\\\Windows\\\\system32\\\\WindowsPowerShell\\\\v1.0\\\\Modules',\n",
       "        'PUBLIC': 'C:\\\\Users\\\\Public',\n",
       "        'PYCHARM COMMUNITY EDITION': 'C:\\\\Program Files\\\\JetBrains\\\\PyCharm Community Edition\\\\bin;',\n",
       "        'SYSTEMDRIVE': 'C:',\n",
       "        'SYSTEMROOT': 'C:\\\\Windows',\n",
       "        'TEMP': 'C:\\\\Users\\\\Igor\\\\AppData\\\\Local\\\\Temp',\n",
       "        'TMP': 'C:\\\\Users\\\\Igor\\\\AppData\\\\Local\\\\Temp',\n",
       "        'USERDOMAIN': 'Z170A',\n",
       "        'USERDOMAIN_ROAMINGPROFILE': 'Z170A',\n",
       "        'USERNAME': 'Igor',\n",
       "        'USERPROFILE': 'C:\\\\Users\\\\Igor',\n",
       "        'VBOX_MSI_INSTALL_PATH': 'C:\\\\Program Files\\\\Oracle\\\\VirtualBox\\\\',\n",
       "        'WINDIR': 'C:\\\\Windows',\n",
       "        'JPY_INTERRUPT_EVENT': '2748',\n",
       "        'IPY_INTERRUPT_EVENT': '2748',\n",
       "        'JPY_PARENT_PID': '1896',\n",
       "        'TERM': 'xterm-color',\n",
       "        'CLICOLOR': '1',\n",
       "        'PAGER': 'cat',\n",
       "        'GIT_PAGER': 'cat',\n",
       "        'MPLBACKEND': 'module://matplotlib_inline.backend_inline',\n",
       "        'TESTING': 'True',\n",
       "        'DB_USER': 'inside DB_USER',\n",
       "        'DB_PASSWORD': 'inside DB_PASSWORD',\n",
       "        'DB_HOST': 'inside DB_HOST',\n",
       "        'DB_PORT': 'inside DB_PORT',\n",
       "        'DB_NAME': 'inside DB_NAME',\n",
       "        'DB_URL': 'psql://inside DB_USER:inside DB_PASSWORD@inside DB_HOST:inside DB_PORT/inside DB_NAME',\n",
       "        'PLAT': 'win-amd64',\n",
       "        'API_KEY': '357A70FF-BFAA-4C6A-8289-9831DDFB2D3D',\n",
       "        'HOSTNAME': '0.0.0.0',\n",
       "        'PORT': '8080'}"
      ]
     },
     "execution_count": 65,
     "metadata": {},
     "output_type": "execute_result"
    }
   ],
   "source": [
    "env"
   ]
  },
  {
   "cell_type": "markdown",
   "id": "744ee6fa",
   "metadata": {},
   "source": [
    "While `.env` files are simple and easy to work with at the beginning, they also cause a new set of problems such as:\n",
    "\n",
    "* How to keep .env files in-sync for every developer in their local environment?\n",
    "* If there is an outage due to misconfiguration, accessing the container or VM directly in order to view the contents of the .env may be required for troubleshooting.\n",
    "* How do you generate a `.env` file for a CI/CD job such as GitHub Actions without committing the .env file to the repository?\n",
    "* If a mix of environment variables and a `.env` file is used, the only way to determine the final configuration values could be by introspecting the application.\n",
    "* Onboarding a developer by sharing an unencrypted `.env` file with potentially sensitive data in a chat application such as Slack could pose security issues.\n",
    "These are just some of the reasons why we recommend [moving away from .env files](https://www.doppler.com/blog/goodbye-env-files) and using something like [Doppler](https://www.doppler.com/) instead.\n",
    "\n",
    "Doppler provides an access controlled dashboard to manage environment variables for every environment with an [easy to use CLI for accessing config and secrets](https://docs.doppler.com/docs/enclave-installation) that works for every language, framework, and platform."
   ]
  },
  {
   "cell_type": "markdown",
   "id": "d23e94b7",
   "metadata": {},
   "source": [
    "## Centralize application config using a Python data structure\n",
    "Creating a config specific data structure abstracts away how the config values are set, what fields have default values (if any), and provides a single interface for accessing config values instead of `os.environ` being littered throughout your codebase.\n",
    "\n",
    "Below is a reasonably full-featured solution that supports:\n",
    "* Required fields\n",
    "* Optional fields with defaults\n",
    "* Type checking and typecasting"
   ]
  },
  {
   "cell_type": "markdown",
   "id": "25c87166",
   "metadata": {},
   "source": [
    "The `Config` object exposed in `config.py` is then used below (you can also reside this in the `app.py`):"
   ]
  },
  {
   "cell_type": "code",
   "execution_count": 76,
   "id": "f277bb4d",
   "metadata": {},
   "outputs": [
    {
     "name": "stdout",
     "output_type": "stream",
     "text": [
      "ENV:      production\n",
      "DEBUG:    False\n",
      "API_KEY:  357A70FF-BFAA-4C6A-8289-9831DDFB2D3D\n",
      "HOSTNAME: 0.0.0.0\n",
      "PORT:     8080\n"
     ]
    }
   ],
   "source": [
    "from config import Config\n",
    "\n",
    "print('ENV:      {}'.format(Config.ENV))\n",
    "print('DEBUG:    {}'.format(Config.DEBUG))\n",
    "print('API_KEY:  {}'.format(Config.API_KEY))\n",
    "print('HOSTNAME: {}'.format(Config.HOSTNAME))\n",
    "print('PORT:     {}'.format(Config.PORT))"
   ]
  },
  {
   "cell_type": "markdown",
   "id": "7f458694",
   "metadata": {},
   "source": [
    "You can [view this code on GitHub](https://gist.github.com/ryan-blunden/fc9fbaf2da65dd2200fb997bfb0aa365) and if you're after a more full-featured typesafe config solution, then check out the excellent [Pydantic library](https://pydantic-docs.helpmanual.io/)."
   ]
  },
  {
   "cell_type": "markdown",
   "id": "df5b1b38",
   "metadata": {},
   "source": [
    "## Summary\n",
    "Awesome work! Now you know how to use environment variables in Python for application config and secrets."
   ]
  },
  {
   "cell_type": "code",
   "execution_count": 77,
   "id": "9bcbe6a5",
   "metadata": {},
   "outputs": [],
   "source": [
    "from shutil import rmtree\n",
    "\n",
    "try:\n",
    "    os.remove('.env')\n",
    "    os.environ.pop('API_KEY')\n",
    "    os.environ.pop('HOSTNAME')\n",
    "    os.environ.pop('PORT')\n",
    "    rmtree('__pycache__', ignore_errors=True)\n",
    "    rmtree('.ipynb_checkpoints', ignore_errors=True)\n",
    "except FileNotFoundError:\n",
    "    exc_type, exc_value, exc_traceback = sys.exc_info()\n",
    "    print(f\"{exc_type}: {exc_value}\")"
   ]
  },
  {
   "cell_type": "code",
   "execution_count": 79,
   "id": "3de634ab",
   "metadata": {},
   "outputs": [
    {
     "name": "stdout",
     "output_type": "stream",
     "text": [
      "Found existing installation: python-dotenv 0.18.0\n",
      "Uninstalling python-dotenv-0.18.0:\n",
      "  Successfully uninstalled python-dotenv-0.18.0\n"
     ]
    }
   ],
   "source": [
    "# unstall python-dotenv\n",
    "# %run -m pip uninstall --yes python-dotenv"
   ]
  }
 ],
 "metadata": {
  "kernelspec": {
   "display_name": "Python 3 (ipykernel)",
   "language": "python",
   "name": "python3"
  },
  "language_info": {
   "codemirror_mode": {
    "name": "ipython",
    "version": 3
   },
   "file_extension": ".py",
   "mimetype": "text/x-python",
   "name": "python",
   "nbconvert_exporter": "python",
   "pygments_lexer": "ipython3",
   "version": "3.9.6"
  }
 },
 "nbformat": 4,
 "nbformat_minor": 5
}
