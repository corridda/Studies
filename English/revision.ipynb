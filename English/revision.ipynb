{
 "cells": [
  {
   "cell_type": "code",
   "execution_count": 1,
   "metadata": {},
   "outputs": [],
   "source": [
    "from datetime import date, timedelta\n",
    "import webbrowser\n",
    "\n",
    "import numpy as np\n",
    "import pandas as pd"
   ]
  },
  {
   "cell_type": "code",
   "execution_count": 2,
   "metadata": {},
   "outputs": [],
   "source": [
    "# pd.set_option('compute.use_numba', True)\n",
    "pd.set_option('display.max_colwidth', None)"
   ]
  },
  {
   "cell_type": "markdown",
   "metadata": {},
   "source": [
    "# English Words"
   ]
  },
  {
   "cell_type": "code",
   "execution_count": 3,
   "metadata": {},
   "outputs": [],
   "source": [
    "english_words = pd.read_csv('./English Words.csv', sep=';', index_col=0, parse_dates=True)\n",
    "# english_words.head()"
   ]
  },
  {
   "cell_type": "code",
   "execution_count": 4,
   "metadata": {},
   "outputs": [],
   "source": [
    "english_words['tomorrow'] = np.hstack((np.array([np.nan]), english_words['words'][:-1]))\n",
    "english_words['1 week'] = np.hstack((np.array([np.nan]*8), english_words['words'][:-8]))\n",
    "english_words['2 weeks'] = np.hstack((np.array([np.nan]*22), english_words['words'][:-22]))\n",
    "english_words['1 month'] = np.hstack((np.array([np.nan]*52), english_words['words'][:-52]))\n",
    "english_words['3 months'] = np.hstack((np.array([np.nan]*142), english_words['words'][:-142]))\n",
    "english_words['6 months'] = np.hstack((np.array([np.nan]*322), english_words['words'][:-322]))\n",
    "english_words['1 year'] = np.hstack((np.array([np.nan]*687), english_words['words'][:-687]))"
   ]
  },
  {
   "cell_type": "markdown",
   "metadata": {},
   "source": [
    "### Words to revise for today"
   ]
  },
  {
   "cell_type": "code",
   "execution_count": 5,
   "metadata": {},
   "outputs": [
    {
     "data": {
      "text/html": [
       "<div>\n",
       "<style scoped>\n",
       "    .dataframe tbody tr th:only-of-type {\n",
       "        vertical-align: middle;\n",
       "    }\n",
       "\n",
       "    .dataframe tbody tr th {\n",
       "        vertical-align: top;\n",
       "    }\n",
       "\n",
       "    .dataframe thead th {\n",
       "        text-align: right;\n",
       "    }\n",
       "</style>\n",
       "<table border=\"1\" class=\"dataframe\">\n",
       "  <thead>\n",
       "    <tr style=\"text-align: right;\">\n",
       "      <th></th>\n",
       "      <th>2021-05-28</th>\n",
       "    </tr>\n",
       "  </thead>\n",
       "  <tbody>\n",
       "    <tr>\n",
       "      <th>1 week</th>\n",
       "      <td>spike [25-67]</td>\n",
       "    </tr>\n",
       "    <tr>\n",
       "      <th>1 month</th>\n",
       "      <td>diversified [25-40]</td>\n",
       "    </tr>\n",
       "    <tr>\n",
       "      <th>3 months</th>\n",
       "      <td>rancorous [24-80]</td>\n",
       "    </tr>\n",
       "  </tbody>\n",
       "</table>\n",
       "</div>"
      ],
      "text/plain": [
       "                   2021-05-28\n",
       "1 week          spike [25-67]\n",
       "1 month   diversified [25-40]\n",
       "3 months    rancorous [24-80]"
      ]
     },
     "execution_count": 5,
     "metadata": {},
     "output_type": "execute_result"
    }
   ],
   "source": [
    "pd.DataFrame(english_words.loc[date.today().isoformat()][1:].dropna())\n",
    "# today = '2020-12-31'\n",
    "# pd.DataFrame(english_words.loc[today][1:].dropna())"
   ]
  },
  {
   "cell_type": "markdown",
   "metadata": {},
   "source": [
    "### Last three days"
   ]
  },
  {
   "cell_type": "code",
   "execution_count": 6,
   "metadata": {},
   "outputs": [
    {
     "data": {
      "text/html": [
       "<div>\n",
       "<style scoped>\n",
       "    .dataframe tbody tr th:only-of-type {\n",
       "        vertical-align: middle;\n",
       "    }\n",
       "\n",
       "    .dataframe tbody tr th {\n",
       "        vertical-align: top;\n",
       "    }\n",
       "\n",
       "    .dataframe thead th {\n",
       "        text-align: right;\n",
       "    }\n",
       "</style>\n",
       "<table border=\"1\" class=\"dataframe\">\n",
       "  <thead>\n",
       "    <tr style=\"text-align: right;\">\n",
       "      <th>date</th>\n",
       "      <th>2021-05-26</th>\n",
       "      <th>2021-05-27</th>\n",
       "      <th>2021-05-28</th>\n",
       "    </tr>\n",
       "  </thead>\n",
       "  <tbody>\n",
       "    <tr>\n",
       "      <th>tomorrow</th>\n",
       "      <td>NaN</td>\n",
       "      <td>obdurate [25-71]</td>\n",
       "      <td>NaN</td>\n",
       "    </tr>\n",
       "    <tr>\n",
       "      <th>1 week</th>\n",
       "      <td>diverting, divertingly [25-66]</td>\n",
       "      <td>NaN</td>\n",
       "      <td>spike [25-67]</td>\n",
       "    </tr>\n",
       "    <tr>\n",
       "      <th>2 weeks</th>\n",
       "      <td>whippersnapper [25-58]</td>\n",
       "      <td>NaN</td>\n",
       "      <td>NaN</td>\n",
       "    </tr>\n",
       "    <tr>\n",
       "      <th>1 month</th>\n",
       "      <td>diversify [25-38]</td>\n",
       "      <td>NaN</td>\n",
       "      <td>diversified [25-40]</td>\n",
       "    </tr>\n",
       "    <tr>\n",
       "      <th>3 months</th>\n",
       "      <td>rancor, rancour [24-79]</td>\n",
       "      <td>NaN</td>\n",
       "      <td>rancorous [24-80]</td>\n",
       "    </tr>\n",
       "    <tr>\n",
       "      <th>6 months</th>\n",
       "      <td>NaN</td>\n",
       "      <td>NaN</td>\n",
       "      <td>NaN</td>\n",
       "    </tr>\n",
       "    <tr>\n",
       "      <th>1 year</th>\n",
       "      <td>NaN</td>\n",
       "      <td>NaN</td>\n",
       "      <td>NaN</td>\n",
       "    </tr>\n",
       "  </tbody>\n",
       "</table>\n",
       "</div>"
      ],
      "text/plain": [
       "date                          2021-05-26        2021-05-27  \\\n",
       "tomorrow                             NaN  obdurate [25-71]   \n",
       "1 week    diverting, divertingly [25-66]               NaN   \n",
       "2 weeks           whippersnapper [25-58]               NaN   \n",
       "1 month                diversify [25-38]               NaN   \n",
       "3 months         rancor, rancour [24-79]               NaN   \n",
       "6 months                             NaN               NaN   \n",
       "1 year                               NaN               NaN   \n",
       "\n",
       "date               2021-05-28  \n",
       "tomorrow                  NaN  \n",
       "1 week          spike [25-67]  \n",
       "2 weeks                   NaN  \n",
       "1 month   diversified [25-40]  \n",
       "3 months    rancorous [24-80]  \n",
       "6 months                  NaN  \n",
       "1 year                    NaN  "
      ]
     },
     "execution_count": 6,
     "metadata": {},
     "output_type": "execute_result"
    }
   ],
   "source": [
    "today = date.today()\n",
    "temp = english_words.loc[[today - timedelta(days=2), today - timedelta(days=1), today]].iloc[:, 1:]\n",
    "temp.T"
   ]
  },
  {
   "cell_type": "markdown",
   "metadata": {},
   "source": [
    "### The last studied word"
   ]
  },
  {
   "cell_type": "code",
   "execution_count": 7,
   "metadata": {},
   "outputs": [
    {
     "data": {
      "text/plain": [
       "'obdurate [25-71]'"
      ]
     },
     "execution_count": 7,
     "metadata": {},
     "output_type": "execute_result"
    }
   ],
   "source": [
    "english_words.iloc[:,0].dropna()[-1]"
   ]
  },
  {
   "cell_type": "markdown",
   "metadata": {},
   "source": [
    "### Insert new word(-s)"
   ]
  },
  {
   "cell_type": "code",
   "execution_count": 8,
   "metadata": {},
   "outputs": [],
   "source": [
    "new_word = 'obdurate [25-71]'\n",
    "today = date.today().isoformat()\n",
    "# today = '2021-01-28'\n",
    "\n",
    "# english_words.at[today, 'words'] = new_word\n",
    "# english_words.iloc[:,0].to_csv('English Words.csv', sep=';')"
   ]
  },
  {
   "cell_type": "markdown",
   "metadata": {},
   "source": [
    "### Check if there is a concrete word in the storage"
   ]
  },
  {
   "cell_type": "code",
   "execution_count": 9,
   "metadata": {},
   "outputs": [],
   "source": [
    "word = 'begrudge'\n",
    "# english_words['words'].dropna()[english_words['words'].dropna().str.contains(word)]"
   ]
  },
  {
   "cell_type": "markdown",
   "metadata": {},
   "source": [
    "# [Video lessons www.engvid.com](https://www.engvid.com/english-lessons/)"
   ]
  },
  {
   "cell_type": "code",
   "execution_count": 10,
   "metadata": {},
   "outputs": [],
   "source": [
    "video_lessons = pd.read_csv('./Video lessons.csv', sep=';', index_col=0, parse_dates=True)\n",
    "# video_lessons.head()"
   ]
  },
  {
   "cell_type": "code",
   "execution_count": 11,
   "metadata": {},
   "outputs": [],
   "source": [
    "video_lessons['1 week'] = np.hstack((np.array([np.nan]*8), video_lessons['URL'][:-8]))\n",
    "video_lessons['2 weeks'] = np.hstack((np.array([np.nan]*22), video_lessons['URL'][:-22]))\n",
    "video_lessons['1 month'] = np.hstack((np.array([np.nan]*52), video_lessons['URL'][:-52]))\n",
    "video_lessons['3 months'] = np.hstack((np.array([np.nan]*142), video_lessons['URL'][:-142]))"
   ]
  },
  {
   "cell_type": "markdown",
   "metadata": {},
   "source": [
    "### Video lessons to revise for today"
   ]
  },
  {
   "cell_type": "code",
   "execution_count": 12,
   "metadata": {},
   "outputs": [],
   "source": [
    "for index, value in video_lessons.loc[date.today().isoformat()][1:].dropna().items():\n",
    "    print(f\"{index}: {value}\")\n",
    "\n",
    "# today = '2020-09-19'\n",
    "# for index, value in video_lessons.loc[today][1:].dropna().items():\n",
    "#     print(f\"{index}: {value}\")"
   ]
  },
  {
   "cell_type": "markdown",
   "metadata": {},
   "source": [
    "**Open URLs with the default browser**"
   ]
  },
  {
   "cell_type": "code",
   "execution_count": 13,
   "metadata": {},
   "outputs": [],
   "source": [
    "# for url in video_lessons.loc[date.today().isoformat()][1:].dropna():\n",
    "#     webbrowser.open(url)"
   ]
  },
  {
   "cell_type": "markdown",
   "metadata": {},
   "source": [
    "### Last three days"
   ]
  },
  {
   "cell_type": "code",
   "execution_count": 14,
   "metadata": {},
   "outputs": [
    {
     "data": {
      "text/html": [
       "<div>\n",
       "<style scoped>\n",
       "    .dataframe tbody tr th:only-of-type {\n",
       "        vertical-align: middle;\n",
       "    }\n",
       "\n",
       "    .dataframe tbody tr th {\n",
       "        vertical-align: top;\n",
       "    }\n",
       "\n",
       "    .dataframe thead th {\n",
       "        text-align: right;\n",
       "    }\n",
       "</style>\n",
       "<table border=\"1\" class=\"dataframe\">\n",
       "  <thead>\n",
       "    <tr style=\"text-align: right;\">\n",
       "      <th>Date</th>\n",
       "      <th>2021-05-26</th>\n",
       "      <th>2021-05-27</th>\n",
       "      <th>2021-05-28</th>\n",
       "    </tr>\n",
       "  </thead>\n",
       "  <tbody>\n",
       "    <tr>\n",
       "      <th>URL</th>\n",
       "      <td>NaN</td>\n",
       "      <td>NaN</td>\n",
       "      <td>NaN</td>\n",
       "    </tr>\n",
       "    <tr>\n",
       "      <th>1 week</th>\n",
       "      <td>NaN</td>\n",
       "      <td>https://www.engvid.com/describe-people-in-english-animal-adjectives-idioms/</td>\n",
       "      <td>NaN</td>\n",
       "    </tr>\n",
       "    <tr>\n",
       "      <th>2 weeks</th>\n",
       "      <td>NaN</td>\n",
       "      <td>https://www.engvid.com/pronunciation-14-common-mistakes-business-english-verbs/</td>\n",
       "      <td>NaN</td>\n",
       "    </tr>\n",
       "    <tr>\n",
       "      <th>1 month</th>\n",
       "      <td>NaN</td>\n",
       "      <td>https://www.engvid.com/basic-english-to-get-talking-fast/</td>\n",
       "      <td>NaN</td>\n",
       "    </tr>\n",
       "    <tr>\n",
       "      <th>3 months</th>\n",
       "      <td>NaN</td>\n",
       "      <td>https://www.engvid.com/parts-of-speech-english-grammar-nouns-adjectives/</td>\n",
       "      <td>NaN</td>\n",
       "    </tr>\n",
       "  </tbody>\n",
       "</table>\n",
       "</div>"
      ],
      "text/plain": [
       "Date     2021-05-26  \\\n",
       "URL             NaN   \n",
       "1 week          NaN   \n",
       "2 weeks         NaN   \n",
       "1 month         NaN   \n",
       "3 months        NaN   \n",
       "\n",
       "Date                                                                           2021-05-27  \\\n",
       "URL                                                                                   NaN   \n",
       "1 week        https://www.engvid.com/describe-people-in-english-animal-adjectives-idioms/   \n",
       "2 weeks   https://www.engvid.com/pronunciation-14-common-mistakes-business-english-verbs/   \n",
       "1 month                         https://www.engvid.com/basic-english-to-get-talking-fast/   \n",
       "3 months         https://www.engvid.com/parts-of-speech-english-grammar-nouns-adjectives/   \n",
       "\n",
       "Date     2021-05-28  \n",
       "URL             NaN  \n",
       "1 week          NaN  \n",
       "2 weeks         NaN  \n",
       "1 month         NaN  \n",
       "3 months        NaN  "
      ]
     },
     "execution_count": 14,
     "metadata": {},
     "output_type": "execute_result"
    }
   ],
   "source": [
    "today = date.today()\n",
    "temp = video_lessons.loc[[today - timedelta(days=2), today - timedelta(days=1), today]]\n",
    "temp.T"
   ]
  },
  {
   "cell_type": "markdown",
   "metadata": {},
   "source": [
    "### The last watched video\n",
    "**Open the last watched video**"
   ]
  },
  {
   "cell_type": "code",
   "execution_count": 15,
   "metadata": {},
   "outputs": [
    {
     "name": "stdout",
     "output_type": "stream",
     "text": [
      "https://www.engvid.com/55-abbreviations-texting-english/\n"
     ]
    }
   ],
   "source": [
    "print(video_lessons['URL'].dropna()[-1])"
   ]
  },
  {
   "cell_type": "code",
   "execution_count": 16,
   "metadata": {},
   "outputs": [],
   "source": [
    "# webbrowser.open_new_tab(video_lessons['URL'].dropna()[-1])"
   ]
  },
  {
   "cell_type": "markdown",
   "metadata": {},
   "source": [
    "### Insert new URL"
   ]
  },
  {
   "cell_type": "code",
   "execution_count": 17,
   "metadata": {},
   "outputs": [],
   "source": [
    "new_URL = 'https://www.engvid.com/55-abbreviations-texting-english/'\n",
    "today = date.today().isoformat()\n",
    "# today = '2020-09-27'\n",
    "\n",
    "# video_lessons.at[today, 'URL'] = new_URL\n",
    "# video_lessons.iloc[:,0].to_csv('Video lessons.csv', sep=';')"
   ]
  },
  {
   "cell_type": "markdown",
   "metadata": {},
   "source": [
    "# Literature"
   ]
  },
  {
   "cell_type": "code",
   "execution_count": 18,
   "metadata": {},
   "outputs": [],
   "source": [
    "literature = pd.read_csv('./Literature.csv', sep=';', index_col=0, parse_dates=True)\n",
    "# literature.head()"
   ]
  },
  {
   "cell_type": "code",
   "execution_count": 19,
   "metadata": {},
   "outputs": [],
   "source": [
    "literature['1 month'] = np.hstack((np.array([np.nan]*30), literature['book'][:-30]))\n",
    "literature['3 months'] = np.hstack((np.array([np.nan]*120), literature['book'][:-120]))\n",
    "literature['6 months'] = np.hstack((np.array([np.nan]*300), literature['book'][:-300]))\n",
    "literature['1 year'] = np.hstack((np.array([np.nan]*666), literature['book'][:-666]))\n",
    "literature['2 years'] = np.hstack((np.array([np.nan]*1396), literature['book'][:-1396]))"
   ]
  },
  {
   "cell_type": "markdown",
   "metadata": {},
   "source": [
    "### Literature to revise for today"
   ]
  },
  {
   "cell_type": "code",
   "execution_count": 20,
   "metadata": {},
   "outputs": [],
   "source": [
    "for index, value in literature.loc[date.today().isoformat()][1:].dropna().items():\n",
    "    print(f\"{index}: {value}\")\n",
    "\n",
    "# today = '2021-01-01'\n",
    "# for index, value in literature.loc[today][1:].dropna().items():\n",
    "#     print(f\"{index}: {value}\")"
   ]
  },
  {
   "cell_type": "markdown",
   "metadata": {},
   "source": [
    "### Last three days"
   ]
  },
  {
   "cell_type": "code",
   "execution_count": 21,
   "metadata": {},
   "outputs": [
    {
     "data": {
      "text/html": [
       "<div>\n",
       "<style scoped>\n",
       "    .dataframe tbody tr th:only-of-type {\n",
       "        vertical-align: middle;\n",
       "    }\n",
       "\n",
       "    .dataframe tbody tr th {\n",
       "        vertical-align: top;\n",
       "    }\n",
       "\n",
       "    .dataframe thead th {\n",
       "        text-align: right;\n",
       "    }\n",
       "</style>\n",
       "<table border=\"1\" class=\"dataframe\">\n",
       "  <thead>\n",
       "    <tr style=\"text-align: right;\">\n",
       "      <th>date</th>\n",
       "      <th>2021-05-26</th>\n",
       "      <th>2021-05-27</th>\n",
       "      <th>2021-05-28</th>\n",
       "    </tr>\n",
       "  </thead>\n",
       "  <tbody>\n",
       "    <tr>\n",
       "      <th>book</th>\n",
       "      <td>NaN</td>\n",
       "      <td>NaN</td>\n",
       "      <td>NaN</td>\n",
       "    </tr>\n",
       "    <tr>\n",
       "      <th>1 month</th>\n",
       "      <td>NaN</td>\n",
       "      <td>NaN</td>\n",
       "      <td>NaN</td>\n",
       "    </tr>\n",
       "    <tr>\n",
       "      <th>3 months</th>\n",
       "      <td>NaN</td>\n",
       "      <td>NaN</td>\n",
       "      <td>NaN</td>\n",
       "    </tr>\n",
       "    <tr>\n",
       "      <th>6 months</th>\n",
       "      <td>NaN</td>\n",
       "      <td>NaN</td>\n",
       "      <td>NaN</td>\n",
       "    </tr>\n",
       "    <tr>\n",
       "      <th>1 year</th>\n",
       "      <td>NaN</td>\n",
       "      <td>Murphy - English Grammar in Use - Appendix 1</td>\n",
       "      <td>NaN</td>\n",
       "    </tr>\n",
       "    <tr>\n",
       "      <th>2 years</th>\n",
       "      <td>NaN</td>\n",
       "      <td>NaN</td>\n",
       "      <td>NaN</td>\n",
       "    </tr>\n",
       "  </tbody>\n",
       "</table>\n",
       "</div>"
      ],
      "text/plain": [
       "date     2021-05-26                                    2021-05-27 2021-05-28\n",
       "book            NaN                                           NaN        NaN\n",
       "1 month         NaN                                           NaN        NaN\n",
       "3 months        NaN                                           NaN        NaN\n",
       "6 months        NaN                                           NaN        NaN\n",
       "1 year          NaN  Murphy - English Grammar in Use - Appendix 1        NaN\n",
       "2 years         NaN                                           NaN        NaN"
      ]
     },
     "execution_count": 21,
     "metadata": {},
     "output_type": "execute_result"
    }
   ],
   "source": [
    "today = date.today()\n",
    "temp = literature.loc[[today - timedelta(days=2), today - timedelta(days=1), today]]\n",
    "temp.T"
   ]
  },
  {
   "cell_type": "markdown",
   "metadata": {},
   "source": [
    "### Insert new book / new chapter of a book"
   ]
  },
  {
   "cell_type": "code",
   "execution_count": 22,
   "metadata": {},
   "outputs": [],
   "source": [
    "new_book = '____________________'\n",
    "today = date.today().isoformat()\n",
    "\n",
    "# literature.at[today, 'book'] = new_book\n",
    "# literature.iloc[:,0].to_csv('literature.csv', sep=';')"
   ]
  },
  {
   "cell_type": "code",
   "execution_count": null,
   "metadata": {},
   "outputs": [],
   "source": []
  }
 ],
 "metadata": {
  "kernelspec": {
   "display_name": "Python 3",
   "language": "python",
   "name": "python3"
  },
  "language_info": {
   "codemirror_mode": {
    "name": "ipython",
    "version": 3
   },
   "file_extension": ".py",
   "mimetype": "text/x-python",
   "name": "python",
   "nbconvert_exporter": "python",
   "pygments_lexer": "ipython3",
   "version": "3.9.5"
  }
 },
 "nbformat": 4,
 "nbformat_minor": 4
}
